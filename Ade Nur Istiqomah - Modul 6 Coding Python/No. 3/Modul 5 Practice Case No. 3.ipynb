{
 "cells": [
  {
   "cell_type": "markdown",
   "id": "52a41ec7",
   "metadata": {},
   "source": [
    "# 1. Load JSON file"
   ]
  },
  {
   "cell_type": "code",
   "execution_count": 11,
   "id": "7b42cec4",
   "metadata": {},
   "outputs": [
    {
     "name": "stdout",
     "output_type": "stream",
     "text": [
      "[{'user': {'id': 1, 'name': 'agus', 'email': 'agus@example.com'}, 'txs': [{'id': 1, 'tx_date': '2020-01-01', 'tx_amount': 10, 'tx_type': 'buy'}, {'id': 3, 'tx_date': '2020-02-01', 'tx_amount': 10, 'tx_type': 'buy'}, {'id': 5, 'tx_date': '2020-03-01', 'tx_amount': 20, 'tx_type': 'sell'}]}, {'user': {'id': 2, 'name': 'asep', 'email': 'asep@example.com'}, 'txs': [{'id': 2, 'tx_date': '2020-01-01', 'tx_amount': 10, 'tx_type': 'sell'}, {'id': 4, 'tx_date': '2020-02-01', 'tx_amount': 10, 'tx_type': 'sell'}, {'id': 6, 'tx_date': '2020-03-01', 'tx_amount': 20, 'tx_type': 'buy'}]}]\n"
     ]
    }
   ],
   "source": [
    "import json\n",
    "\n",
    "with open('data_3.json') as f:\n",
    "  data = json.load(f)\n",
    "print(data)"
   ]
  },
  {
   "cell_type": "markdown",
   "id": "3b7e338e",
   "metadata": {},
   "source": [
    "# 2. Convert JSON into pandas dataframe"
   ]
  },
  {
   "cell_type": "code",
   "execution_count": 23,
   "id": "c5c9deee",
   "metadata": {},
   "outputs": [
    {
     "data": {
      "text/html": [
       "<div>\n",
       "<style scoped>\n",
       "    .dataframe tbody tr th:only-of-type {\n",
       "        vertical-align: middle;\n",
       "    }\n",
       "\n",
       "    .dataframe tbody tr th {\n",
       "        vertical-align: top;\n",
       "    }\n",
       "\n",
       "    .dataframe thead th {\n",
       "        text-align: right;\n",
       "    }\n",
       "</style>\n",
       "<table border=\"1\" class=\"dataframe\">\n",
       "  <thead>\n",
       "    <tr style=\"text-align: right;\">\n",
       "      <th></th>\n",
       "      <th>id</th>\n",
       "      <th>tx_date</th>\n",
       "      <th>tx_amount</th>\n",
       "      <th>tx_type</th>\n",
       "      <th>user</th>\n",
       "    </tr>\n",
       "  </thead>\n",
       "  <tbody>\n",
       "    <tr>\n",
       "      <th>0</th>\n",
       "      <td>1</td>\n",
       "      <td>2020-01-01</td>\n",
       "      <td>10</td>\n",
       "      <td>buy</td>\n",
       "      <td>{'id': 1, 'name': 'agus', 'email': 'agus@examp...</td>\n",
       "    </tr>\n",
       "    <tr>\n",
       "      <th>1</th>\n",
       "      <td>3</td>\n",
       "      <td>2020-02-01</td>\n",
       "      <td>10</td>\n",
       "      <td>buy</td>\n",
       "      <td>{'id': 1, 'name': 'agus', 'email': 'agus@examp...</td>\n",
       "    </tr>\n",
       "    <tr>\n",
       "      <th>2</th>\n",
       "      <td>5</td>\n",
       "      <td>2020-03-01</td>\n",
       "      <td>20</td>\n",
       "      <td>sell</td>\n",
       "      <td>{'id': 1, 'name': 'agus', 'email': 'agus@examp...</td>\n",
       "    </tr>\n",
       "    <tr>\n",
       "      <th>3</th>\n",
       "      <td>2</td>\n",
       "      <td>2020-01-01</td>\n",
       "      <td>10</td>\n",
       "      <td>sell</td>\n",
       "      <td>{'id': 2, 'name': 'asep', 'email': 'asep@examp...</td>\n",
       "    </tr>\n",
       "    <tr>\n",
       "      <th>4</th>\n",
       "      <td>4</td>\n",
       "      <td>2020-02-01</td>\n",
       "      <td>10</td>\n",
       "      <td>sell</td>\n",
       "      <td>{'id': 2, 'name': 'asep', 'email': 'asep@examp...</td>\n",
       "    </tr>\n",
       "    <tr>\n",
       "      <th>5</th>\n",
       "      <td>6</td>\n",
       "      <td>2020-03-01</td>\n",
       "      <td>20</td>\n",
       "      <td>buy</td>\n",
       "      <td>{'id': 2, 'name': 'asep', 'email': 'asep@examp...</td>\n",
       "    </tr>\n",
       "  </tbody>\n",
       "</table>\n",
       "</div>"
      ],
      "text/plain": [
       "   id     tx_date  tx_amount tx_type  \\\n",
       "0   1  2020-01-01         10     buy   \n",
       "1   3  2020-02-01         10     buy   \n",
       "2   5  2020-03-01         20    sell   \n",
       "3   2  2020-01-01         10    sell   \n",
       "4   4  2020-02-01         10    sell   \n",
       "5   6  2020-03-01         20     buy   \n",
       "\n",
       "                                                user  \n",
       "0  {'id': 1, 'name': 'agus', 'email': 'agus@examp...  \n",
       "1  {'id': 1, 'name': 'agus', 'email': 'agus@examp...  \n",
       "2  {'id': 1, 'name': 'agus', 'email': 'agus@examp...  \n",
       "3  {'id': 2, 'name': 'asep', 'email': 'asep@examp...  \n",
       "4  {'id': 2, 'name': 'asep', 'email': 'asep@examp...  \n",
       "5  {'id': 2, 'name': 'asep', 'email': 'asep@examp...  "
      ]
     },
     "execution_count": 23,
     "metadata": {},
     "output_type": "execute_result"
    }
   ],
   "source": [
    "dataset = pd.json_normalize(data, record_path='txs',meta='user')\n",
    "dataset"
   ]
  },
  {
   "cell_type": "markdown",
   "id": "9dcf6d66",
   "metadata": {},
   "source": [
    "# 3. Convert to 3 required CSV files"
   ]
  },
  {
   "cell_type": "markdown",
   "id": "175f4611",
   "metadata": {},
   "source": [
    "## 1. CSV_1"
   ]
  },
  {
   "cell_type": "code",
   "execution_count": 75,
   "id": "4a1156a5",
   "metadata": {},
   "outputs": [
    {
     "data": {
      "text/html": [
       "<div>\n",
       "<style scoped>\n",
       "    .dataframe tbody tr th:only-of-type {\n",
       "        vertical-align: middle;\n",
       "    }\n",
       "\n",
       "    .dataframe tbody tr th {\n",
       "        vertical-align: top;\n",
       "    }\n",
       "\n",
       "    .dataframe thead th {\n",
       "        text-align: right;\n",
       "    }\n",
       "</style>\n",
       "<table border=\"1\" class=\"dataframe\">\n",
       "  <thead>\n",
       "    <tr style=\"text-align: right;\">\n",
       "      <th></th>\n",
       "      <th>tx_id</th>\n",
       "    </tr>\n",
       "  </thead>\n",
       "  <tbody>\n",
       "    <tr>\n",
       "      <th>0</th>\n",
       "      <td>1</td>\n",
       "    </tr>\n",
       "    <tr>\n",
       "      <th>1</th>\n",
       "      <td>3</td>\n",
       "    </tr>\n",
       "    <tr>\n",
       "      <th>2</th>\n",
       "      <td>5</td>\n",
       "    </tr>\n",
       "    <tr>\n",
       "      <th>3</th>\n",
       "      <td>2</td>\n",
       "    </tr>\n",
       "    <tr>\n",
       "      <th>4</th>\n",
       "      <td>4</td>\n",
       "    </tr>\n",
       "    <tr>\n",
       "      <th>5</th>\n",
       "      <td>6</td>\n",
       "    </tr>\n",
       "  </tbody>\n",
       "</table>\n",
       "</div>"
      ],
      "text/plain": [
       "   tx_id\n",
       "0      1\n",
       "1      3\n",
       "2      5\n",
       "3      2\n",
       "4      4\n",
       "5      6"
      ]
     },
     "execution_count": 75,
     "metadata": {},
     "output_type": "execute_result"
    }
   ],
   "source": [
    "#u_data = dataset.drop(['tx_date, tx_amount, tx_type, user'], axis = 1)\n",
    "t_data = dataset.drop(['tx_date', 'tx_amount', 'tx_type', 'user'], axis = 1)\n",
    "t_data.columns = ['tx_id']\n",
    "t_data"
   ]
  },
  {
   "cell_type": "code",
   "execution_count": 76,
   "id": "620418cb",
   "metadata": {},
   "outputs": [
    {
     "data": {
      "text/html": [
       "<div>\n",
       "<style scoped>\n",
       "    .dataframe tbody tr th:only-of-type {\n",
       "        vertical-align: middle;\n",
       "    }\n",
       "\n",
       "    .dataframe tbody tr th {\n",
       "        vertical-align: top;\n",
       "    }\n",
       "\n",
       "    .dataframe thead th {\n",
       "        text-align: right;\n",
       "    }\n",
       "</style>\n",
       "<table border=\"1\" class=\"dataframe\">\n",
       "  <thead>\n",
       "    <tr style=\"text-align: right;\">\n",
       "      <th></th>\n",
       "      <th>user_id</th>\n",
       "    </tr>\n",
       "  </thead>\n",
       "  <tbody>\n",
       "    <tr>\n",
       "      <th>0</th>\n",
       "      <td>1</td>\n",
       "    </tr>\n",
       "    <tr>\n",
       "      <th>1</th>\n",
       "      <td>1</td>\n",
       "    </tr>\n",
       "    <tr>\n",
       "      <th>2</th>\n",
       "      <td>1</td>\n",
       "    </tr>\n",
       "    <tr>\n",
       "      <th>3</th>\n",
       "      <td>2</td>\n",
       "    </tr>\n",
       "    <tr>\n",
       "      <th>4</th>\n",
       "      <td>2</td>\n",
       "    </tr>\n",
       "    <tr>\n",
       "      <th>5</th>\n",
       "      <td>2</td>\n",
       "    </tr>\n",
       "  </tbody>\n",
       "</table>\n",
       "</div>"
      ],
      "text/plain": [
       "   user_id\n",
       "0        1\n",
       "1        1\n",
       "2        1\n",
       "3        2\n",
       "4        2\n",
       "5        2"
      ]
     },
     "execution_count": 76,
     "metadata": {},
     "output_type": "execute_result"
    }
   ],
   "source": [
    "u_data = dataset['user'].apply(pd.Series)\n",
    "u_data = u_data.drop(['name', 'email'], axis = 1)\n",
    "u_data.columns = ['user_id']\n",
    "u_data"
   ]
  },
  {
   "cell_type": "code",
   "execution_count": 77,
   "id": "2d632962",
   "metadata": {},
   "outputs": [
    {
     "data": {
      "text/html": [
       "<div>\n",
       "<style scoped>\n",
       "    .dataframe tbody tr th:only-of-type {\n",
       "        vertical-align: middle;\n",
       "    }\n",
       "\n",
       "    .dataframe tbody tr th {\n",
       "        vertical-align: top;\n",
       "    }\n",
       "\n",
       "    .dataframe thead th {\n",
       "        text-align: right;\n",
       "    }\n",
       "</style>\n",
       "<table border=\"1\" class=\"dataframe\">\n",
       "  <thead>\n",
       "    <tr style=\"text-align: right;\">\n",
       "      <th></th>\n",
       "      <th>user_id</th>\n",
       "      <th>tx_id</th>\n",
       "    </tr>\n",
       "  </thead>\n",
       "  <tbody>\n",
       "    <tr>\n",
       "      <th>0</th>\n",
       "      <td>1</td>\n",
       "      <td>1</td>\n",
       "    </tr>\n",
       "    <tr>\n",
       "      <th>1</th>\n",
       "      <td>1</td>\n",
       "      <td>3</td>\n",
       "    </tr>\n",
       "    <tr>\n",
       "      <th>2</th>\n",
       "      <td>1</td>\n",
       "      <td>5</td>\n",
       "    </tr>\n",
       "    <tr>\n",
       "      <th>3</th>\n",
       "      <td>2</td>\n",
       "      <td>2</td>\n",
       "    </tr>\n",
       "    <tr>\n",
       "      <th>4</th>\n",
       "      <td>2</td>\n",
       "      <td>4</td>\n",
       "    </tr>\n",
       "    <tr>\n",
       "      <th>5</th>\n",
       "      <td>2</td>\n",
       "      <td>6</td>\n",
       "    </tr>\n",
       "  </tbody>\n",
       "</table>\n",
       "</div>"
      ],
      "text/plain": [
       "   user_id  tx_id\n",
       "0        1      1\n",
       "1        1      3\n",
       "2        1      5\n",
       "3        2      2\n",
       "4        2      4\n",
       "5        2      6"
      ]
     },
     "execution_count": 77,
     "metadata": {},
     "output_type": "execute_result"
    }
   ],
   "source": [
    "concantenate = pd.concat([u_data, t_data], axis = 1)\n",
    "concantenate"
   ]
  },
  {
   "cell_type": "code",
   "execution_count": 78,
   "id": "87b2dd47",
   "metadata": {},
   "outputs": [],
   "source": [
    "concantenate.to_csv('CSV_1.csv', index = False)"
   ]
  },
  {
   "cell_type": "markdown",
   "id": "89f90647",
   "metadata": {},
   "source": [
    "## 2. CSV_2"
   ]
  },
  {
   "cell_type": "code",
   "execution_count": 42,
   "id": "947b1768",
   "metadata": {},
   "outputs": [
    {
     "data": {
      "text/html": [
       "<div>\n",
       "<style scoped>\n",
       "    .dataframe tbody tr th:only-of-type {\n",
       "        vertical-align: middle;\n",
       "    }\n",
       "\n",
       "    .dataframe tbody tr th {\n",
       "        vertical-align: top;\n",
       "    }\n",
       "\n",
       "    .dataframe thead th {\n",
       "        text-align: right;\n",
       "    }\n",
       "</style>\n",
       "<table border=\"1\" class=\"dataframe\">\n",
       "  <thead>\n",
       "    <tr style=\"text-align: right;\">\n",
       "      <th></th>\n",
       "      <th>user.id</th>\n",
       "      <th>user.name</th>\n",
       "      <th>user.email</th>\n",
       "    </tr>\n",
       "  </thead>\n",
       "  <tbody>\n",
       "    <tr>\n",
       "      <th>0</th>\n",
       "      <td>1</td>\n",
       "      <td>agus</td>\n",
       "      <td>agus@example.com</td>\n",
       "    </tr>\n",
       "    <tr>\n",
       "      <th>1</th>\n",
       "      <td>2</td>\n",
       "      <td>asep</td>\n",
       "      <td>asep@example.com</td>\n",
       "    </tr>\n",
       "  </tbody>\n",
       "</table>\n",
       "</div>"
      ],
      "text/plain": [
       "   user.id user.name        user.email\n",
       "0        1      agus  agus@example.com\n",
       "1        2      asep  asep@example.com"
      ]
     },
     "execution_count": 42,
     "metadata": {},
     "output_type": "execute_result"
    }
   ],
   "source": [
    "user_data = pd.json_normalize(data)\n",
    "user_data = user_data[['user.id', 'user.name', 'user.email']]\n",
    "user_data"
   ]
  },
  {
   "cell_type": "code",
   "execution_count": 43,
   "id": "75d6c523",
   "metadata": {},
   "outputs": [],
   "source": [
    "user_data.columns = ['id', 'name', 'email']"
   ]
  },
  {
   "cell_type": "code",
   "execution_count": 46,
   "id": "c34e1a55",
   "metadata": {},
   "outputs": [],
   "source": [
    "user_data.to_csv('CSV_2.csv', index = False)"
   ]
  },
  {
   "cell_type": "markdown",
   "id": "30e66135",
   "metadata": {},
   "source": [
    "# 3. CSV_3"
   ]
  },
  {
   "cell_type": "code",
   "execution_count": 50,
   "id": "f84fbdd6",
   "metadata": {},
   "outputs": [
    {
     "data": {
      "text/html": [
       "<div>\n",
       "<style scoped>\n",
       "    .dataframe tbody tr th:only-of-type {\n",
       "        vertical-align: middle;\n",
       "    }\n",
       "\n",
       "    .dataframe tbody tr th {\n",
       "        vertical-align: top;\n",
       "    }\n",
       "\n",
       "    .dataframe thead th {\n",
       "        text-align: right;\n",
       "    }\n",
       "</style>\n",
       "<table border=\"1\" class=\"dataframe\">\n",
       "  <thead>\n",
       "    <tr style=\"text-align: right;\">\n",
       "      <th></th>\n",
       "      <th>id</th>\n",
       "      <th>tx_date</th>\n",
       "      <th>tx_amount</th>\n",
       "      <th>tx_type</th>\n",
       "    </tr>\n",
       "  </thead>\n",
       "  <tbody>\n",
       "    <tr>\n",
       "      <th>0</th>\n",
       "      <td>1</td>\n",
       "      <td>2020-01-01</td>\n",
       "      <td>10</td>\n",
       "      <td>buy</td>\n",
       "    </tr>\n",
       "    <tr>\n",
       "      <th>3</th>\n",
       "      <td>2</td>\n",
       "      <td>2020-01-01</td>\n",
       "      <td>10</td>\n",
       "      <td>sell</td>\n",
       "    </tr>\n",
       "    <tr>\n",
       "      <th>1</th>\n",
       "      <td>3</td>\n",
       "      <td>2020-02-01</td>\n",
       "      <td>10</td>\n",
       "      <td>buy</td>\n",
       "    </tr>\n",
       "    <tr>\n",
       "      <th>4</th>\n",
       "      <td>4</td>\n",
       "      <td>2020-02-01</td>\n",
       "      <td>10</td>\n",
       "      <td>sell</td>\n",
       "    </tr>\n",
       "    <tr>\n",
       "      <th>2</th>\n",
       "      <td>5</td>\n",
       "      <td>2020-03-01</td>\n",
       "      <td>20</td>\n",
       "      <td>sell</td>\n",
       "    </tr>\n",
       "    <tr>\n",
       "      <th>5</th>\n",
       "      <td>6</td>\n",
       "      <td>2020-03-01</td>\n",
       "      <td>20</td>\n",
       "      <td>buy</td>\n",
       "    </tr>\n",
       "  </tbody>\n",
       "</table>\n",
       "</div>"
      ],
      "text/plain": [
       "   id     tx_date  tx_amount tx_type\n",
       "0   1  2020-01-01         10     buy\n",
       "3   2  2020-01-01         10    sell\n",
       "1   3  2020-02-01         10     buy\n",
       "4   4  2020-02-01         10    sell\n",
       "2   5  2020-03-01         20    sell\n",
       "5   6  2020-03-01         20     buy"
      ]
     },
     "execution_count": 50,
     "metadata": {},
     "output_type": "execute_result"
    }
   ],
   "source": [
    "trx_data = dataset[['id', 'tx_date', 'tx_amount', 'tx_type']]\n",
    "trx_data = trx_data.sort_values('id')\n",
    "trx_data"
   ]
  },
  {
   "cell_type": "code",
   "execution_count": 51,
   "id": "66d03e8d",
   "metadata": {},
   "outputs": [],
   "source": [
    "trx_data.to_csv('CSV_3.csv', index = False)"
   ]
  },
  {
   "cell_type": "code",
   "execution_count": null,
   "id": "35cd3866",
   "metadata": {},
   "outputs": [],
   "source": []
  }
 ],
 "metadata": {
  "kernelspec": {
   "display_name": "Python 3",
   "language": "python",
   "name": "python3"
  },
  "language_info": {
   "codemirror_mode": {
    "name": "ipython",
    "version": 3
   },
   "file_extension": ".py",
   "mimetype": "text/x-python",
   "name": "python",
   "nbconvert_exporter": "python",
   "pygments_lexer": "ipython3",
   "version": "3.8.8"
  }
 },
 "nbformat": 4,
 "nbformat_minor": 5
}
