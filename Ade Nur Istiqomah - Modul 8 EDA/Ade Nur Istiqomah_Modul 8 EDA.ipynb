{
 "cells": [
  {
   "cell_type": "markdown",
   "id": "6e62caa5",
   "metadata": {},
   "source": [
    "# Modul 8 - Exploratory Data Analysis (EDA)\n",
    "Data Fellowship Batch 6\n",
    "<br>\n",
    "Pre-training Period\n",
    "\n",
    "\n",
    "Ade Nur Istiqomah"
   ]
  },
  {
   "cell_type": "markdown",
   "id": "17f70bd4",
   "metadata": {},
   "source": [
    "# 1. Load the data"
   ]
  },
  {
   "cell_type": "markdown",
   "id": "8bad9bb4",
   "metadata": {},
   "source": [
    "This part is to load the dataset of English Premier League (EPL) in CSV format."
   ]
  },
  {
   "cell_type": "code",
   "execution_count": 2,
   "id": "42e99da2",
   "metadata": {},
   "outputs": [
    {
     "data": {
      "text/html": [
       "<div>\n",
       "<style scoped>\n",
       "    .dataframe tbody tr th:only-of-type {\n",
       "        vertical-align: middle;\n",
       "    }\n",
       "\n",
       "    .dataframe tbody tr th {\n",
       "        vertical-align: top;\n",
       "    }\n",
       "\n",
       "    .dataframe thead th {\n",
       "        text-align: right;\n",
       "    }\n",
       "</style>\n",
       "<table border=\"1\" class=\"dataframe\">\n",
       "  <thead>\n",
       "    <tr style=\"text-align: right;\">\n",
       "      <th></th>\n",
       "      <th>Team</th>\n",
       "      <th>category</th>\n",
       "      <th>general_league_position</th>\n",
       "      <th>finance _live_games_televised</th>\n",
       "      <th>finance _tv_revenue</th>\n",
       "      <th>general_matches_played</th>\n",
       "      <th>general_won</th>\n",
       "      <th>general_draw</th>\n",
       "      <th>general_lost</th>\n",
       "      <th>attack_scored</th>\n",
       "      <th>...</th>\n",
       "      <th>defence_saves</th>\n",
       "      <th>defence_blocks</th>\n",
       "      <th>defence_interceptions</th>\n",
       "      <th>defence_tackles</th>\n",
       "      <th>defence_tackles_last_man</th>\n",
       "      <th>defence_clearances</th>\n",
       "      <th>defence_clearances_headed</th>\n",
       "      <th>defence_penalty_conceeded</th>\n",
       "      <th>attack_posession</th>\n",
       "      <th>attack_pass_accuracy</th>\n",
       "    </tr>\n",
       "  </thead>\n",
       "  <tbody>\n",
       "    <tr>\n",
       "      <th>0</th>\n",
       "      <td>Manchester City</td>\n",
       "      <td>Champions League</td>\n",
       "      <td>1</td>\n",
       "      <td>26</td>\n",
       "      <td>150986355</td>\n",
       "      <td>38</td>\n",
       "      <td>32</td>\n",
       "      <td>2</td>\n",
       "      <td>4</td>\n",
       "      <td>95</td>\n",
       "      <td>...</td>\n",
       "      <td>58</td>\n",
       "      <td>63</td>\n",
       "      <td>362</td>\n",
       "      <td>518</td>\n",
       "      <td>0</td>\n",
       "      <td>543</td>\n",
       "      <td>295</td>\n",
       "      <td>4</td>\n",
       "      <td>64.0</td>\n",
       "      <td>89.0</td>\n",
       "    </tr>\n",
       "    <tr>\n",
       "      <th>1</th>\n",
       "      <td>Liverpool</td>\n",
       "      <td>Champions League</td>\n",
       "      <td>2</td>\n",
       "      <td>29</td>\n",
       "      <td>152425146</td>\n",
       "      <td>38</td>\n",
       "      <td>30</td>\n",
       "      <td>7</td>\n",
       "      <td>1</td>\n",
       "      <td>89</td>\n",
       "      <td>...</td>\n",
       "      <td>76</td>\n",
       "      <td>78</td>\n",
       "      <td>314</td>\n",
       "      <td>610</td>\n",
       "      <td>2</td>\n",
       "      <td>639</td>\n",
       "      <td>317</td>\n",
       "      <td>1</td>\n",
       "      <td>58.8</td>\n",
       "      <td>84.4</td>\n",
       "    </tr>\n",
       "    <tr>\n",
       "      <th>2</th>\n",
       "      <td>Chelsea</td>\n",
       "      <td>Champions League Qualification</td>\n",
       "      <td>3</td>\n",
       "      <td>25</td>\n",
       "      <td>146030216</td>\n",
       "      <td>38</td>\n",
       "      <td>21</td>\n",
       "      <td>9</td>\n",
       "      <td>8</td>\n",
       "      <td>63</td>\n",
       "      <td>...</td>\n",
       "      <td>85</td>\n",
       "      <td>73</td>\n",
       "      <td>351</td>\n",
       "      <td>618</td>\n",
       "      <td>2</td>\n",
       "      <td>593</td>\n",
       "      <td>330</td>\n",
       "      <td>2</td>\n",
       "      <td>59.9</td>\n",
       "      <td>87.6</td>\n",
       "    </tr>\n",
       "    <tr>\n",
       "      <th>3</th>\n",
       "      <td>Tottenham</td>\n",
       "      <td>Champions League Qualification</td>\n",
       "      <td>4</td>\n",
       "      <td>26</td>\n",
       "      <td>145230801</td>\n",
       "      <td>38</td>\n",
       "      <td>23</td>\n",
       "      <td>2</td>\n",
       "      <td>13</td>\n",
       "      <td>67</td>\n",
       "      <td>...</td>\n",
       "      <td>121</td>\n",
       "      <td>112</td>\n",
       "      <td>326</td>\n",
       "      <td>626</td>\n",
       "      <td>3</td>\n",
       "      <td>770</td>\n",
       "      <td>411</td>\n",
       "      <td>5</td>\n",
       "      <td>56.7</td>\n",
       "      <td>83.2</td>\n",
       "    </tr>\n",
       "    <tr>\n",
       "      <th>4</th>\n",
       "      <td>Arsenal</td>\n",
       "      <td>Europa League</td>\n",
       "      <td>5</td>\n",
       "      <td>25</td>\n",
       "      <td>142193180</td>\n",
       "      <td>38</td>\n",
       "      <td>21</td>\n",
       "      <td>7</td>\n",
       "      <td>10</td>\n",
       "      <td>73</td>\n",
       "      <td>...</td>\n",
       "      <td>133</td>\n",
       "      <td>118</td>\n",
       "      <td>412</td>\n",
       "      <td>609</td>\n",
       "      <td>2</td>\n",
       "      <td>762</td>\n",
       "      <td>404</td>\n",
       "      <td>7</td>\n",
       "      <td>56.1</td>\n",
       "      <td>83.3</td>\n",
       "    </tr>\n",
       "  </tbody>\n",
       "</table>\n",
       "<p>5 rows × 44 columns</p>\n",
       "</div>"
      ],
      "text/plain": [
       "              Team                        category  general_league_position  \\\n",
       "0  Manchester City                Champions League                        1   \n",
       "1        Liverpool                Champions League                        2   \n",
       "2          Chelsea  Champions League Qualification                        3   \n",
       "3        Tottenham  Champions League Qualification                        4   \n",
       "4          Arsenal                   Europa League                        5   \n",
       "\n",
       "   finance _live_games_televised  finance _tv_revenue  general_matches_played  \\\n",
       "0                             26            150986355                      38   \n",
       "1                             29            152425146                      38   \n",
       "2                             25            146030216                      38   \n",
       "3                             26            145230801                      38   \n",
       "4                             25            142193180                      38   \n",
       "\n",
       "   general_won  general_draw  general_lost  attack_scored  ...  defence_saves  \\\n",
       "0           32             2             4             95  ...             58   \n",
       "1           30             7             1             89  ...             76   \n",
       "2           21             9             8             63  ...             85   \n",
       "3           23             2            13             67  ...            121   \n",
       "4           21             7            10             73  ...            133   \n",
       "\n",
       "   defence_blocks  defence_interceptions  defence_tackles  \\\n",
       "0              63                    362              518   \n",
       "1              78                    314              610   \n",
       "2              73                    351              618   \n",
       "3             112                    326              626   \n",
       "4             118                    412              609   \n",
       "\n",
       "   defence_tackles_last_man  defence_clearances  defence_clearances_headed  \\\n",
       "0                         0                 543                        295   \n",
       "1                         2                 639                        317   \n",
       "2                         2                 593                        330   \n",
       "3                         3                 770                        411   \n",
       "4                         2                 762                        404   \n",
       "\n",
       "   defence_penalty_conceeded attack_posession  attack_pass_accuracy  \n",
       "0                          4             64.0                  89.0  \n",
       "1                          1             58.8                  84.4  \n",
       "2                          2             59.9                  87.6  \n",
       "3                          5             56.7                  83.2  \n",
       "4                          7             56.1                  83.3  \n",
       "\n",
       "[5 rows x 44 columns]"
      ]
     },
     "execution_count": 2,
     "metadata": {},
     "output_type": "execute_result"
    }
   ],
   "source": [
    "import pandas as pd\n",
    "epl_dataset = pd.read_csv(r'C:\\Users\\Ade Nur H\\Documents\\IYKRA Data Fellowship\\Material\\08 EDA\\Practice Case\\epl_1819.csv')\n",
    "epl_dataset.head()"
   ]
  },
  {
   "cell_type": "markdown",
   "id": "56d93d44",
   "metadata": {},
   "source": [
    "# 2. The data dictionary"
   ]
  },
  {
   "cell_type": "markdown",
   "id": "5a724350",
   "metadata": {},
   "source": [
    "Let's check the column header first."
   ]
  },
  {
   "cell_type": "code",
   "execution_count": 3,
   "id": "1b041687",
   "metadata": {},
   "outputs": [
    {
     "name": "stdout",
     "output_type": "stream",
     "text": [
      "Team\n",
      "category\n",
      "general_league_position\n",
      "finance _live_games_televised\n",
      "finance _tv_revenue\n",
      "general_matches_played\n",
      "general_won\n",
      "general_draw\n",
      "general_lost\n",
      "attack_scored\n",
      "defence_goals_conceeded\n",
      "general_goal_difference\n",
      "general_points\n",
      "general_squad_size\n",
      "general_squad_average_age\n",
      "general_squad_foreigners\n",
      "finance _team_market\n",
      "finance _market_average\n",
      "attack_passes\n",
      "attack_passes_through\n",
      "attack_passes_long\n",
      "attack_passes_back\n",
      "attack_crosses\n",
      "attack_corners_taken\n",
      "attack_shots\n",
      "attack_shots_on_target\n",
      "attack_goals_headed\n",
      "attack_goals_penalty\n",
      "attack_goals_box\n",
      "attack_goals_outsidebox\n",
      "general_card_yellow\n",
      "general_card_red\n",
      "attack_goals_counter\n",
      "attack_goals_freekick\n",
      "defence_saves\n",
      "defence_blocks\n",
      "defence_interceptions\n",
      "defence_tackles\n",
      "defence_tackles_last_man\n",
      "defence_clearances\n",
      "defence_clearances_headed\n",
      "defence_penalty_conceeded\n",
      "attack_posession\n",
      "attack_pass_accuracy\n"
     ]
    }
   ],
   "source": [
    "for col in epl_dataset.columns:\n",
    "    print(col)"
   ]
  },
  {
   "cell_type": "markdown",
   "id": "1ab49972",
   "metadata": {},
   "source": [
    "The data dictionary is taken from https://www.kaggle.com/thesiff/premierleague1819.\n",
    "1. Team - Denote Champions League Places,Europa League Places and Qualifiers as well as Relegated teams\n",
    "2. Category : League Position\n",
    "3. general_league_position : Number of televised games in the UK between Sky Sports and BT Sports\n",
    "4. finance_live_games_televised : Number of televised games in the UK between Sky Sports and BT Sports\n",
    "5. finance_tv_revenue : Revenue distributed to each teach from TV contracts\n",
    "6. general_matches_played : How many matches played\n",
    "7. general_won : Matches Won\n",
    "8. general_draw : Matches Drawn\n",
    "9. general_lost : Matches Lost\n",
    "10. attack_scored : Goals Scored\n",
    "11. defence_goals_conceeded : Goals Conceeded\n",
    "12. general_goal_difference : Goals Scored - Goals Conceeded\n",
    "13. general_points : 3 points for a win 1 points for a draw 0 points for loss\n",
    "14. general_squad_size : Number of players registered for the premier league\n",
    "15. general_squad_average_age : Average age of the squad\n",
    "16. general_squad_foreigners : Number of Non-UK based players\n",
    "17. finance _team_market\n",
    "18. finance _market_average\n",
    "19. attack_passes\n",
    "20. attack_passes_through\n",
    "21. attack_passes_long\n",
    "22. attack_passes_back\n",
    "23. attack_crosses\n",
    "24. attack_corners_taken\n",
    "25. attack_shots\n",
    "26. attack_shots_on_target\n",
    "27. attack_goals_headed\n",
    "28. attack_goals_penalty\n",
    "29. attack_goals_box\n",
    "30. attack_goals_outsidebox\n",
    "31. general_card_yellow\n",
    "32. general_card_red\n",
    "33. attack_goals_counter\n",
    "34. attack_goals_freekick\n",
    "35. defence_saves\n",
    "36. defence_blocks\n",
    "37. defence_interceptions\n",
    "38. defence_tackles\n",
    "39. defence_tackles_last_man\n",
    "40. defence_clearances\n",
    "41. defence_clearances_headed\n",
    "42. defence_penalty_conceeded\n",
    "43. attack_posession\n",
    "44. attack_pass_accuracy"
   ]
  },
  {
   "cell_type": "markdown",
   "id": "a43ad5cd",
   "metadata": {},
   "source": [
    "# 3. Exploratory Data Analysis"
   ]
  },
  {
   "cell_type": "markdown",
   "id": "f1c2592d",
   "metadata": {},
   "source": [
    "The data is categorized into 4 groups: General, Finance, Attack, and Defence. Each group is broken down into components related to the group, for example Finance group is broken down into:\n",
    "1. live games televised\n",
    "2. TV revenue\n",
    "3. team market\n",
    "4. market average"
   ]
  },
  {
   "cell_type": "markdown",
   "id": "f97079f2",
   "metadata": {},
   "source": [
    "## 3.1 Check for duplicity"
   ]
  },
  {
   "cell_type": "markdown",
   "id": "2cffa83e",
   "metadata": {},
   "source": [
    "By taking Team column as identifyer, let's check the duplicity of the dataset."
   ]
  },
  {
   "cell_type": "code",
   "execution_count": 4,
   "id": "1f024021",
   "metadata": {},
   "outputs": [
    {
     "data": {
      "text/plain": [
       "0     False\n",
       "1     False\n",
       "2     False\n",
       "3     False\n",
       "4     False\n",
       "5     False\n",
       "6     False\n",
       "7     False\n",
       "8     False\n",
       "9     False\n",
       "10    False\n",
       "11    False\n",
       "12    False\n",
       "13    False\n",
       "14    False\n",
       "15    False\n",
       "16    False\n",
       "17    False\n",
       "18    False\n",
       "19    False\n",
       "dtype: bool"
      ]
     },
     "execution_count": 4,
     "metadata": {},
     "output_type": "execute_result"
    }
   ],
   "source": [
    "epl_dataset.duplicated(subset = 'Team')"
   ]
  },
  {
   "cell_type": "markdown",
   "id": "72ee2ad7",
   "metadata": {},
   "source": [
    "By setting Team as duplicate identifyer, no duplicated data in this dataset. Same result by setting all column as identifyer."
   ]
  },
  {
   "cell_type": "markdown",
   "id": "7c1da0ad",
   "metadata": {},
   "source": [
    "## 3.2 Check for NaN values"
   ]
  },
  {
   "cell_type": "code",
   "execution_count": 5,
   "id": "6d37af29",
   "metadata": {},
   "outputs": [
    {
     "data": {
      "text/plain": [
       "False"
      ]
     },
     "execution_count": 5,
     "metadata": {},
     "output_type": "execute_result"
    }
   ],
   "source": [
    "epl_dataset.isnull().values.any()"
   ]
  },
  {
   "cell_type": "markdown",
   "id": "e1a33922",
   "metadata": {},
   "source": [
    "No null values in this dataset."
   ]
  },
  {
   "cell_type": "markdown",
   "id": "1ffb8d40",
   "metadata": {},
   "source": [
    "## 3.3 Data distribution"
   ]
  },
  {
   "cell_type": "markdown",
   "id": "92f7beae",
   "metadata": {},
   "source": [
    "Drop the Team, Category, and general_league_position columns to create the histogram of all numerical parameters."
   ]
  },
  {
   "cell_type": "code",
   "execution_count": 6,
   "id": "2099780a",
   "metadata": {},
   "outputs": [],
   "source": [
    "data_histogram = epl_dataset.drop(['Team', 'category', 'general_league_position'], axis=1)"
   ]
  },
  {
   "cell_type": "code",
   "execution_count": 12,
   "id": "b2e022be",
   "metadata": {},
   "outputs": [
    {
     "data": {
      "image/png": "[encoded data removed]",
      "text/plain": [
       "<Figure size 1440x1440 with 42 Axes>"
      ]
     },
     "metadata": {
      "needs_background": "light"
     },
     "output_type": "display_data"
    }
   ],
   "source": [
    "hist = data_histogram.hist(figsize=(20,20), bins = 10)"
   ]
  },
  {
   "cell_type": "code",
   "execution_count": 8,
   "id": "cd7d55c3",
   "metadata": {},
   "outputs": [],
   "source": [
    "pd.options.plotting.backend = \"plotly\""
   ]
  },
  {
   "cell_type": "markdown",
   "id": "1fb7fc93",
   "metadata": {},
   "source": [
    "Seems that the dataset only has one value for general_matches_played, which is 38 for each team."
   ]
  },
  {
   "cell_type": "markdown",
   "id": "30445dc5",
   "metadata": {},
   "source": [
    "## 3.4 Outliers inspection"
   ]
  },
  {
   "cell_type": "markdown",
   "id": "d5ce0fab",
   "metadata": {},
   "source": [
    "Outliers inspection can be carried out using at least two methods:\n",
    "1. by looking at its distribution\n",
    "2. by plotting its boxplot\n",
    "\n",
    "As the data distribution have been shown before, let's go inspect the team that possess outlier values on their respective variables."
   ]
  },
  {
   "cell_type": "markdown",
   "id": "481a24d5",
   "metadata": {},
   "source": [
    "Let's inspect some variables that indicate some outliers based on the variables distributions and boxplot."
   ]
  },
  {
   "cell_type": "markdown",
   "id": "8ba979cc",
   "metadata": {},
   "source": [
    "### General: Won"
   ]
  },
  {
   "cell_type": "code",
   "execution_count": 41,
   "id": "15be5c8c",
   "metadata": {
    "scrolled": true
   },
   "outputs": [
    {
     "data": {
      "application/vnd.plotly.v1+json": {
       "config": {
        "plotlyServerURL": "https://plot.ly"
       },
       "data": [
        {
         "alignmentgroup": "True",
         "bingroup": "x",
         "hovertemplate": "general_won=%{x}<br>count=%{y}<extra></extra>",
         "legendgroup": "",
         "marker": {
          "color": "#636efa",
          "pattern": {
           "shape": ""
          }
         },
         "name": "",
         "nbinsx": 10,
         "offsetgroup": "",
         "orientation": "v",
         "showlegend": false,
         "type": "histogram",
         "x": [
          32,
          30,
          21,
          23,
          21,
          19,
          16,
          15,
          15,
          15,
          14,
          14,
          12,
          13,
          11,
          9,
          9,
          10,
          7,
          3
         ],
         "xaxis": "x",
         "yaxis": "y"
        }
       ],
       "layout": {
        "barmode": "relative",
        "legend": {
         "tracegroupgap": 0
        },
        "template": {
         "data": {
          "bar": [
           {
            "error_x": {
             "color": "#2a3f5f"
            },
            "error_y": {
             "color": "#2a3f5f"
            },
            "marker": {
             "line": {
              "color": "#E5ECF6",
              "width": 0.5
             },
             "pattern": {
              "fillmode": "overlay",
              "size": 10,
              "solidity": 0.2
             }
            },
            "type": "bar"
           }
          ],
          "barpolar": [
           {
            "marker": {
             "line": {
              "color": "#E5ECF6",
              "width": 0.5
             },
             "pattern": {
              "fillmode": "overlay",
              "size": 10,
              "solidity": 0.2
             }
            },
            "type": "barpolar"
           }
          ],
          "carpet": [
           {
            "aaxis": {
             "endlinecolor": "#2a3f5f",
             "gridcolor": "white",
             "linecolor": "white",
             "minorgridcolor": "white",
             "startlinecolor": "#2a3f5f"
            },
            "baxis": {
             "endlinecolor": "#2a3f5f",
             "gridcolor": "white",
             "linecolor": "white",
             "minorgridcolor": "white",
             "startlinecolor": "#2a3f5f"
            },
            "type": "carpet"
           }
          ],
          "choropleth": [
           {
            "colorbar": {
             "outlinewidth": 0,
             "ticks": ""
            },
            "type": "choropleth"
           }
          ],
          "contour": [
           {
            "colorbar": {
             "outlinewidth": 0,
             "ticks": ""
            },
            "colorscale": [
             [
              0,
              "#0d0887"
             ],
             [
              0.1111111111111111,
              "#46039f"
             ],
             [
              0.2222222222222222,
              "#7201a8"
             ],
             [
              0.3333333333333333,
              "#9c179e"
             ],
             [
              0.4444444444444444,
              "#bd3786"
             ],
             [
              0.5555555555555556,
              "#d8576b"
             ],
             [
              0.6666666666666666,
              "#ed7953"
             ],
             [
              0.7777777777777778,
              "#fb9f3a"
             ],
             [
              0.8888888888888888,
              "#fdca26"
             ],
             [
              1,
              "#f0f921"
             ]
            ],
            "type": "contour"
           }
          ],
          "contourcarpet": [
           {
            "colorbar": {
             "outlinewidth": 0,
             "ticks": ""
            },
            "type": "contourcarpet"
           }
          ],
          "heatmap": [
           {
            "colorbar": {
             "outlinewidth": 0,
             "ticks": ""
            },
            "colorscale": [
             [
              0,
              "#0d0887"
             ],
             [
              0.1111111111111111,
              "#46039f"
             ],
             [
              0.2222222222222222,
              "#7201a8"
             ],
             [
              0.3333333333333333,
              "#9c179e"
             ],
             [
              0.4444444444444444,
              "#bd3786"
             ],
             [
              0.5555555555555556,
              "#d8576b"
             ],
             [
              0.6666666666666666,
              "#ed7953"
             ],
             [
              0.7777777777777778,
              "#fb9f3a"
             ],
             [
              0.8888888888888888,
              "#fdca26"
             ],
             [
              1,
              "#f0f921"
             ]
            ],
            "type": "heatmap"
           }
          ],
          "heatmapgl": [
           {
            "colorbar": {
             "outlinewidth": 0,
             "ticks": ""
            },
            "colorscale": [
             [
              0,
              "#0d0887"
             ],
             [
              0.1111111111111111,
              "#46039f"
             ],
             [
              0.2222222222222222,
              "#7201a8"
             ],
             [
              0.3333333333333333,
              "#9c179e"
             ],
             [
              0.4444444444444444,
              "#bd3786"
             ],
             [
              0.5555555555555556,
              "#d8576b"
             ],
             [
              0.6666666666666666,
              "#ed7953"
             ],
             [
              0.7777777777777778,
              "#fb9f3a"
             ],
             [
              0.8888888888888888,
              "#fdca26"
             ],
             [
              1,
              "#f0f921"
             ]
            ],
            "type": "heatmapgl"
           }
          ],
          "histogram": [
           {
            "marker": {
             "pattern": {
              "fillmode": "overlay",
              "size": 10,
              "solidity": 0.2
             }
            },
            "type": "histogram"
           }
          ],
          "histogram2d": [
           {
            "colorbar": {
             "outlinewidth": 0,
             "ticks": ""
            },
            "colorscale": [
             [
              0,
              "#0d0887"
             ],
             [
              0.1111111111111111,
              "#46039f"
             ],
             [
              0.2222222222222222,
              "#7201a8"
             ],
             [
              0.3333333333333333,
              "#9c179e"
             ],
             [
              0.4444444444444444,
              "#bd3786"
             ],
             [
              0.5555555555555556,
              "#d8576b"
             ],
             [
              0.6666666666666666,
              "#ed7953"
             ],
             [
              0.7777777777777778,
              "#fb9f3a"
             ],
             [
              0.8888888888888888,
              "#fdca26"
             ],
             [
              1,
              "#f0f921"
             ]
            ],
            "type": "histogram2d"
           }
          ],
          "histogram2dcontour": [
           {
            "colorbar": {
             "outlinewidth": 0,
             "ticks": ""
            },
            "colorscale": [
             [
              0,
              "#0d0887"
             ],
             [
              0.1111111111111111,
              "#46039f"
             ],
             [
              0.2222222222222222,
              "#7201a8"
             ],
             [
              0.3333333333333333,
              "#9c179e"
             ],
             [
              0.4444444444444444,
              "#bd3786"
             ],
             [
              0.5555555555555556,
              "#d8576b"
             ],
             [
              0.6666666666666666,
              "#ed7953"
             ],
             [
              0.7777777777777778,
              "#fb9f3a"
             ],
             [
              0.8888888888888888,
              "#fdca26"
             ],
             [
              1,
              "#f0f921"
             ]
            ],
            "type": "histogram2dcontour"
           }
          ],
          "mesh3d": [
           {
            "colorbar": {
             "outlinewidth": 0,
             "ticks": ""
            },
            "type": "mesh3d"
           }
          ],
          "parcoords": [
           {
            "line": {
             "colorbar": {
              "outlinewidth": 0,
              "ticks": ""
             }
            },
            "type": "parcoords"
           }
          ],
          "pie": [
           {
            "automargin": true,
            "type": "pie"
           }
          ],
          "scatter": [
           {
            "marker": {
             "colorbar": {
              "outlinewidth": 0,
              "ticks": ""
             }
            },
            "type": "scatter"
           }
          ],
          "scatter3d": [
           {
            "line": {
             "colorbar": {
              "outlinewidth": 0,
              "ticks": ""
             }
            },
            "marker": {
             "colorbar": {
              "outlinewidth": 0,
              "ticks": ""
             }
            },
            "type": "scatter3d"
           }
          ],
          "scattercarpet": [
           {
            "marker": {
             "colorbar": {
              "outlinewidth": 0,
              "ticks": ""
             }
            },
            "type": "scattercarpet"
           }
          ],
          "scattergeo": [
           {
            "marker": {
             "colorbar": {
              "outlinewidth": 0,
              "ticks": ""
             }
            },
            "type": "scattergeo"
           }
          ],
          "scattergl": [
           {
            "marker": {
             "colorbar": {
              "outlinewidth": 0,
              "ticks": ""
             }
            },
            "type": "scattergl"
           }
          ],
          "scattermapbox": [
           {
            "marker": {
             "colorbar": {
              "outlinewidth": 0,
              "ticks": ""
             }
            },
            "type": "scattermapbox"
           }
          ],
          "scatterpolar": [
           {
            "marker": {
             "colorbar": {
              "outlinewidth": 0,
              "ticks": ""
             }
            },
            "type": "scatterpolar"
           }
          ],
          "scatterpolargl": [
           {
            "marker": {
             "colorbar": {
              "outlinewidth": 0,
              "ticks": ""
             }
            },
            "type": "scatterpolargl"
           }
          ],
          "scatterternary": [
           {
            "marker": {
             "colorbar": {
              "outlinewidth": 0,
              "ticks": ""
             }
            },
            "type": "scatterternary"
           }
          ],
          "surface": [
           {
            "colorbar": {
             "outlinewidth": 0,
             "ticks": ""
            },
            "colorscale": [
             [
              0,
              "#0d0887"
             ],
             [
              0.1111111111111111,
              "#46039f"
             ],
             [
              0.2222222222222222,
              "#7201a8"
             ],
             [
              0.3333333333333333,
              "#9c179e"
             ],
             [
              0.4444444444444444,
              "#bd3786"
             ],
             [
              0.5555555555555556,
              "#d8576b"
             ],
             [
              0.6666666666666666,
              "#ed7953"
             ],
             [
              0.7777777777777778,
              "#fb9f3a"
             ],
             [
              0.8888888888888888,
              "#fdca26"
             ],
             [
              1,
              "#f0f921"
             ]
            ],
            "type": "surface"
           }
          ],
          "table": [
           {
            "cells": {
             "fill": {
              "color": "#EBF0F8"
             },
             "line": {
              "color": "white"
             }
            },
            "header": {
             "fill": {
              "color": "#C8D4E3"
             },
             "line": {
              "color": "white"
             }
            },
            "type": "table"
           }
          ]
         },
         "layout": {
          "annotationdefaults": {
           "arrowcolor": "#2a3f5f",
           "arrowhead": 0,
           "arrowwidth": 1
          },
          "autotypenumbers": "strict",
          "coloraxis": {
           "colorbar": {
            "outlinewidth": 0,
            "ticks": ""
           }
          },
          "colorscale": {
           "diverging": [
            [
             0,
             "#8e0152"
            ],
            [
             0.1,
             "#c51b7d"
            ],
            [
             0.2,
             "#de77ae"
            ],
            [
             0.3,
             "#f1b6da"
            ],
            [
             0.4,
             "#fde0ef"
            ],
            [
             0.5,
             "#f7f7f7"
            ],
            [
             0.6,
             "#e6f5d0"
            ],
            [
             0.7,
             "#b8e186"
            ],
            [
             0.8,
             "#7fbc41"
            ],
            [
             0.9,
             "#4d9221"
            ],
            [
             1,
             "#276419"
            ]
           ],
           "sequential": [
            [
             0,
             "#0d0887"
            ],
            [
             0.1111111111111111,
             "#46039f"
            ],
            [
             0.2222222222222222,
             "#7201a8"
            ],
            [
             0.3333333333333333,
             "#9c179e"
            ],
            [
             0.4444444444444444,
             "#bd3786"
            ],
            [
             0.5555555555555556,
             "#d8576b"
            ],
            [
             0.6666666666666666,
             "#ed7953"
            ],
            [
             0.7777777777777778,
             "#fb9f3a"
            ],
            [
             0.8888888888888888,
             "#fdca26"
            ],
            [
             1,
             "#f0f921"
            ]
           ],
           "sequentialminus": [
            [
             0,
             "#0d0887"
            ],
            [
             0.1111111111111111,
             "#46039f"
            ],
            [
             0.2222222222222222,
             "#7201a8"
            ],
            [
             0.3333333333333333,
             "#9c179e"
            ],
            [
             0.4444444444444444,
             "#bd3786"
            ],
            [
             0.5555555555555556,
             "#d8576b"
            ],
            [
             0.6666666666666666,
             "#ed7953"
            ],
            [
             0.7777777777777778,
             "#fb9f3a"
            ],
            [
             0.8888888888888888,
             "#fdca26"
            ],
            [
             1,
             "#f0f921"
            ]
           ]
          },
          "colorway": [
           "#636efa",
           "#EF553B",
           "#00cc96",
           "#ab63fa",
           "#FFA15A",
           "#19d3f3",
           "#FF6692",
           "#B6E880",
           "#FF97FF",
           "#FECB52"
          ],
          "font": {
           "color": "#2a3f5f"
          },
          "geo": {
           "bgcolor": "white",
           "lakecolor": "white",
           "landcolor": "#E5ECF6",
           "showlakes": true,
           "showland": true,
           "subunitcolor": "white"
          },
          "hoverlabel": {
           "align": "left"
          },
          "hovermode": "closest",
          "mapbox": {
           "style": "light"
          },
          "paper_bgcolor": "white",
          "plot_bgcolor": "#E5ECF6",
          "polar": {
           "angularaxis": {
            "gridcolor": "white",
            "linecolor": "white",
            "ticks": ""
           },
           "bgcolor": "#E5ECF6",
           "radialaxis": {
            "gridcolor": "white",
            "linecolor": "white",
            "ticks": ""
           }
          },
          "scene": {
           "xaxis": {
            "backgroundcolor": "#E5ECF6",
            "gridcolor": "white",
            "gridwidth": 2,
            "linecolor": "white",
            "showbackground": true,
            "ticks": "",
            "zerolinecolor": "white"
           },
           "yaxis": {
            "backgroundcolor": "#E5ECF6",
            "gridcolor": "white",
            "gridwidth": 2,
            "linecolor": "white",
            "showbackground": true,
            "ticks": "",
            "zerolinecolor": "white"
           },
           "zaxis": {
            "backgroundcolor": "#E5ECF6",
            "gridcolor": "white",
            "gridwidth": 2,
            "linecolor": "white",
            "showbackground": true,
            "ticks": "",
            "zerolinecolor": "white"
           }
          },
          "shapedefaults": {
           "line": {
            "color": "#2a3f5f"
           }
          },
          "ternary": {
           "aaxis": {
            "gridcolor": "white",
            "linecolor": "white",
            "ticks": ""
           },
           "baxis": {
            "gridcolor": "white",
            "linecolor": "white",
            "ticks": ""
           },
           "bgcolor": "#E5ECF6",
           "caxis": {
            "gridcolor": "white",
            "linecolor": "white",
            "ticks": ""
           }
          },
          "title": {
           "x": 0.05
          },
          "xaxis": {
           "automargin": true,
           "gridcolor": "white",
           "linecolor": "white",
           "ticks": "",
           "title": {
            "standoff": 15
           },
           "zerolinecolor": "white",
           "zerolinewidth": 2
          },
          "yaxis": {
           "automargin": true,
           "gridcolor": "white",
           "linecolor": "white",
           "ticks": "",
           "title": {
            "standoff": 15
           },
           "zerolinecolor": "white",
           "zerolinewidth": 2
          }
         }
        },
        "title": {
         "text": "Histogram of General Won"
        },
        "xaxis": {
         "anchor": "y",
         "domain": [
          0,
          1
         ],
         "title": {
          "text": "general_won"
         }
        },
        "yaxis": {
         "anchor": "x",
         "domain": [
          0,
          1
         ],
         "title": {
          "text": "count"
         }
        }
       }
      },
      "text/html": [
       "<div>                            <div id=\"e9f83b7a-18d6-4934-abed-2ec5915064d7\" class=\"plotly-graph-div\" style=\"height:525px; width:100%;\"></div>            <script type=\"text/javascript\">                require([\"plotly\"], function(Plotly) {                    window.PLOTLYENV=window.PLOTLYENV || {};                                    if (document.getElementById(\"e9f83b7a-18d6-4934-abed-2ec5915064d7\")) {                    Plotly.newPlot(                        \"e9f83b7a-18d6-4934-abed-2ec5915064d7\",                        [{\"alignmentgroup\":\"True\",\"bingroup\":\"x\",\"hovertemplate\":\"general_won=%{x}<br>count=%{y}<extra></extra>\",\"legendgroup\":\"\",\"marker\":{\"color\":\"#636efa\",\"pattern\":{\"shape\":\"\"}},\"name\":\"\",\"nbinsx\":10,\"offsetgroup\":\"\",\"orientation\":\"v\",\"showlegend\":false,\"type\":\"histogram\",\"x\":[32,30,21,23,21,19,16,15,15,15,14,14,12,13,11,9,9,10,7,3],\"xaxis\":\"x\",\"yaxis\":\"y\"}],                        {\"barmode\":\"relative\",\"legend\":{\"tracegroupgap\":0},\"template\":{\"data\":{\"bar\":[{\"error_x\":{\"color\":\"#2a3f5f\"},\"error_y\":{\"color\":\"#2a3f5f\"},\"marker\":{\"line\":{\"color\":\"#E5ECF6\",\"width\":0.5},\"pattern\":{\"fillmode\":\"overlay\",\"size\":10,\"solidity\":0.2}},\"type\":\"bar\"}],\"barpolar\":[{\"marker\":{\"line\":{\"color\":\"#E5ECF6\",\"width\":0.5},\"pattern\":{\"fillmode\":\"overlay\",\"size\":10,\"solidity\":0.2}},\"type\":\"barpolar\"}],\"carpet\":[{\"aaxis\":{\"endlinecolor\":\"#2a3f5f\",\"gridcolor\":\"white\",\"linecolor\":\"white\",\"minorgridcolor\":\"white\",\"startlinecolor\":\"#2a3f5f\"},\"baxis\":{\"endlinecolor\":\"#2a3f5f\",\"gridcolor\":\"white\",\"linecolor\":\"white\",\"minorgridcolor\":\"white\",\"startlinecolor\":\"#2a3f5f\"},\"type\":\"carpet\"}],\"choropleth\":[{\"colorbar\":{\"outlinewidth\":0,\"ticks\":\"\"},\"type\":\"choropleth\"}],\"contour\":[{\"colorbar\":{\"outlinewidth\":0,\"ticks\":\"\"},\"colorscale\":[[0.0,\"#0d0887\"],[0.1111111111111111,\"#46039f\"],[0.2222222222222222,\"#7201a8\"],[0.3333333333333333,\"#9c179e\"],[0.4444444444444444,\"#bd3786\"],[0.5555555555555556,\"#d8576b\"],[0.6666666666666666,\"#ed7953\"],[0.7777777777777778,\"#fb9f3a\"],[0.8888888888888888,\"#fdca26\"],[1.0,\"#f0f921\"]],\"type\":\"contour\"}],\"contourcarpet\":[{\"colorbar\":{\"outlinewidth\":0,\"ticks\":\"\"},\"type\":\"contourcarpet\"}],\"heatmap\":[{\"colorbar\":{\"outlinewidth\":0,\"ticks\":\"\"},\"colorscale\":[[0.0,\"#0d0887\"],[0.1111111111111111,\"#46039f\"],[0.2222222222222222,\"#7201a8\"],[0.3333333333333333,\"#9c179e\"],[0.4444444444444444,\"#bd3786\"],[0.5555555555555556,\"#d8576b\"],[0.6666666666666666,\"#ed7953\"],[0.7777777777777778,\"#fb9f3a\"],[0.8888888888888888,\"#fdca26\"],[1.0,\"#f0f921\"]],\"type\":\"heatmap\"}],\"heatmapgl\":[{\"colorbar\":{\"outlinewidth\":0,\"ticks\":\"\"},\"colorscale\":[[0.0,\"#0d0887\"],[0.1111111111111111,\"#46039f\"],[0.2222222222222222,\"#7201a8\"],[0.3333333333333333,\"#9c179e\"],[0.4444444444444444,\"#bd3786\"],[0.5555555555555556,\"#d8576b\"],[0.6666666666666666,\"#ed7953\"],[0.7777777777777778,\"#fb9f3a\"],[0.8888888888888888,\"#fdca26\"],[1.0,\"#f0f921\"]],\"type\":\"heatmapgl\"}],\"histogram\":[{\"marker\":{\"pattern\":{\"fillmode\":\"overlay\",\"size\":10,\"solidity\":0.2}},\"type\":\"histogram\"}],\"histogram2d\":[{\"colorbar\":{\"outlinewidth\":0,\"ticks\":\"\"},\"colorscale\":[[0.0,\"#0d0887\"],[0.1111111111111111,\"#46039f\"],[0.2222222222222222,\"#7201a8\"],[0.3333333333333333,\"#9c179e\"],[0.4444444444444444,\"#bd3786\"],[0.5555555555555556,\"#d8576b\"],[0.6666666666666666,\"#ed7953\"],[0.7777777777777778,\"#fb9f3a\"],[0.8888888888888888,\"#fdca26\"],[1.0,\"#f0f921\"]],\"type\":\"histogram2d\"}],\"histogram2dcontour\":[{\"colorbar\":{\"outlinewidth\":0,\"ticks\":\"\"},\"colorscale\":[[0.0,\"#0d0887\"],[0.1111111111111111,\"#46039f\"],[0.2222222222222222,\"#7201a8\"],[0.3333333333333333,\"#9c179e\"],[0.4444444444444444,\"#bd3786\"],[0.5555555555555556,\"#d8576b\"],[0.6666666666666666,\"#ed7953\"],[0.7777777777777778,\"#fb9f3a\"],[0.8888888888888888,\"#fdca26\"],[1.0,\"#f0f921\"]],\"type\":\"histogram2dcontour\"}],\"mesh3d\":[{\"colorbar\":{\"outlinewidth\":0,\"ticks\":\"\"},\"type\":\"mesh3d\"}],\"parcoords\":[{\"line\":{\"colorbar\":{\"outlinewidth\":0,\"ticks\":\"\"}},\"type\":\"parcoords\"}],\"pie\":[{\"automargin\":true,\"type\":\"pie\"}],\"scatter\":[{\"marker\":{\"colorbar\":{\"outlinewidth\":0,\"ticks\":\"\"}},\"type\":\"scatter\"}],\"scatter3d\":[{\"line\":{\"colorbar\":{\"outlinewidth\":0,\"ticks\":\"\"}},\"marker\":{\"colorbar\":{\"outlinewidth\":0,\"ticks\":\"\"}},\"type\":\"scatter3d\"}],\"scattercarpet\":[{\"marker\":{\"colorbar\":{\"outlinewidth\":0,\"ticks\":\"\"}},\"type\":\"scattercarpet\"}],\"scattergeo\":[{\"marker\":{\"colorbar\":{\"outlinewidth\":0,\"ticks\":\"\"}},\"type\":\"scattergeo\"}],\"scattergl\":[{\"marker\":{\"colorbar\":{\"outlinewidth\":0,\"ticks\":\"\"}},\"type\":\"scattergl\"}],\"scattermapbox\":[{\"marker\":{\"colorbar\":{\"outlinewidth\":0,\"ticks\":\"\"}},\"type\":\"scattermapbox\"}],\"scatterpolar\":[{\"marker\":{\"colorbar\":{\"outlinewidth\":0,\"ticks\":\"\"}},\"type\":\"scatterpolar\"}],\"scatterpolargl\":[{\"marker\":{\"colorbar\":{\"outlinewidth\":0,\"ticks\":\"\"}},\"type\":\"scatterpolargl\"}],\"scatterternary\":[{\"marker\":{\"colorbar\":{\"outlinewidth\":0,\"ticks\":\"\"}},\"type\":\"scatterternary\"}],\"surface\":[{\"colorbar\":{\"outlinewidth\":0,\"ticks\":\"\"},\"colorscale\":[[0.0,\"#0d0887\"],[0.1111111111111111,\"#46039f\"],[0.2222222222222222,\"#7201a8\"],[0.3333333333333333,\"#9c179e\"],[0.4444444444444444,\"#bd3786\"],[0.5555555555555556,\"#d8576b\"],[0.6666666666666666,\"#ed7953\"],[0.7777777777777778,\"#fb9f3a\"],[0.8888888888888888,\"#fdca26\"],[1.0,\"#f0f921\"]],\"type\":\"surface\"}],\"table\":[{\"cells\":{\"fill\":{\"color\":\"#EBF0F8\"},\"line\":{\"color\":\"white\"}},\"header\":{\"fill\":{\"color\":\"#C8D4E3\"},\"line\":{\"color\":\"white\"}},\"type\":\"table\"}]},\"layout\":{\"annotationdefaults\":{\"arrowcolor\":\"#2a3f5f\",\"arrowhead\":0,\"arrowwidth\":1},\"autotypenumbers\":\"strict\",\"coloraxis\":{\"colorbar\":{\"outlinewidth\":0,\"ticks\":\"\"}},\"colorscale\":{\"diverging\":[[0,\"#8e0152\"],[0.1,\"#c51b7d\"],[0.2,\"#de77ae\"],[0.3,\"#f1b6da\"],[0.4,\"#fde0ef\"],[0.5,\"#f7f7f7\"],[0.6,\"#e6f5d0\"],[0.7,\"#b8e186\"],[0.8,\"#7fbc41\"],[0.9,\"#4d9221\"],[1,\"#276419\"]],\"sequential\":[[0.0,\"#0d0887\"],[0.1111111111111111,\"#46039f\"],[0.2222222222222222,\"#7201a8\"],[0.3333333333333333,\"#9c179e\"],[0.4444444444444444,\"#bd3786\"],[0.5555555555555556,\"#d8576b\"],[0.6666666666666666,\"#ed7953\"],[0.7777777777777778,\"#fb9f3a\"],[0.8888888888888888,\"#fdca26\"],[1.0,\"#f0f921\"]],\"sequentialminus\":[[0.0,\"#0d0887\"],[0.1111111111111111,\"#46039f\"],[0.2222222222222222,\"#7201a8\"],[0.3333333333333333,\"#9c179e\"],[0.4444444444444444,\"#bd3786\"],[0.5555555555555556,\"#d8576b\"],[0.6666666666666666,\"#ed7953\"],[0.7777777777777778,\"#fb9f3a\"],[0.8888888888888888,\"#fdca26\"],[1.0,\"#f0f921\"]]},\"colorway\":[\"#636efa\",\"#EF553B\",\"#00cc96\",\"#ab63fa\",\"#FFA15A\",\"#19d3f3\",\"#FF6692\",\"#B6E880\",\"#FF97FF\",\"#FECB52\"],\"font\":{\"color\":\"#2a3f5f\"},\"geo\":{\"bgcolor\":\"white\",\"lakecolor\":\"white\",\"landcolor\":\"#E5ECF6\",\"showlakes\":true,\"showland\":true,\"subunitcolor\":\"white\"},\"hoverlabel\":{\"align\":\"left\"},\"hovermode\":\"closest\",\"mapbox\":{\"style\":\"light\"},\"paper_bgcolor\":\"white\",\"plot_bgcolor\":\"#E5ECF6\",\"polar\":{\"angularaxis\":{\"gridcolor\":\"white\",\"linecolor\":\"white\",\"ticks\":\"\"},\"bgcolor\":\"#E5ECF6\",\"radialaxis\":{\"gridcolor\":\"white\",\"linecolor\":\"white\",\"ticks\":\"\"}},\"scene\":{\"xaxis\":{\"backgroundcolor\":\"#E5ECF6\",\"gridcolor\":\"white\",\"gridwidth\":2,\"linecolor\":\"white\",\"showbackground\":true,\"ticks\":\"\",\"zerolinecolor\":\"white\"},\"yaxis\":{\"backgroundcolor\":\"#E5ECF6\",\"gridcolor\":\"white\",\"gridwidth\":2,\"linecolor\":\"white\",\"showbackground\":true,\"ticks\":\"\",\"zerolinecolor\":\"white\"},\"zaxis\":{\"backgroundcolor\":\"#E5ECF6\",\"gridcolor\":\"white\",\"gridwidth\":2,\"linecolor\":\"white\",\"showbackground\":true,\"ticks\":\"\",\"zerolinecolor\":\"white\"}},\"shapedefaults\":{\"line\":{\"color\":\"#2a3f5f\"}},\"ternary\":{\"aaxis\":{\"gridcolor\":\"white\",\"linecolor\":\"white\",\"ticks\":\"\"},\"baxis\":{\"gridcolor\":\"white\",\"linecolor\":\"white\",\"ticks\":\"\"},\"bgcolor\":\"#E5ECF6\",\"caxis\":{\"gridcolor\":\"white\",\"linecolor\":\"white\",\"ticks\":\"\"}},\"title\":{\"x\":0.05},\"xaxis\":{\"automargin\":true,\"gridcolor\":\"white\",\"linecolor\":\"white\",\"ticks\":\"\",\"title\":{\"standoff\":15},\"zerolinecolor\":\"white\",\"zerolinewidth\":2},\"yaxis\":{\"automargin\":true,\"gridcolor\":\"white\",\"linecolor\":\"white\",\"ticks\":\"\",\"title\":{\"standoff\":15},\"zerolinecolor\":\"white\",\"zerolinewidth\":2}}},\"title\":{\"text\":\"Histogram of General Won\"},\"xaxis\":{\"anchor\":\"y\",\"domain\":[0.0,1.0],\"title\":{\"text\":\"general_won\"}},\"yaxis\":{\"anchor\":\"x\",\"domain\":[0.0,1.0],\"title\":{\"text\":\"count\"}}},                        {\"responsive\": true}                    ).then(function(){\n",
       "                            \n",
       "var gd = document.getElementById('e9f83b7a-18d6-4934-abed-2ec5915064d7');\n",
       "var x = new MutationObserver(function (mutations, observer) {{\n",
       "        var display = window.getComputedStyle(gd).display;\n",
       "        if (!display || display === 'none') {{\n",
       "            console.log([gd, 'removed!']);\n",
       "            Plotly.purge(gd);\n",
       "            observer.disconnect();\n",
       "        }}\n",
       "}});\n",
       "\n",
       "// Listen for the removal of the full notebook cells\n",
       "var notebookContainer = gd.closest('#notebook-container');\n",
       "if (notebookContainer) {{\n",
       "    x.observe(notebookContainer, {childList: true});\n",
       "}}\n",
       "\n",
       "// Listen for the clearing of the current output cell\n",
       "var outputEl = gd.closest('.output');\n",
       "if (outputEl) {{\n",
       "    x.observe(outputEl, {childList: true});\n",
       "}}\n",
       "\n",
       "                        })                };                });            </script>        </div>"
      ]
     },
     "metadata": {},
     "output_type": "display_data"
    }
   ],
   "source": [
    "fig = epl_dataset.plot.hist(x = 'general_won', title = 'Histogram of General Won', nbins = 10)\n",
    "fig.show()"
   ]
  },
  {
   "cell_type": "markdown",
   "id": "15ded530",
   "metadata": {},
   "source": [
    "Which team have general_won value between 30-34?"
   ]
  },
  {
   "cell_type": "code",
   "execution_count": 48,
   "id": "8b38b6dc",
   "metadata": {},
   "outputs": [
    {
     "data": {
      "text/html": [
       "<div>\n",
       "<style scoped>\n",
       "    .dataframe tbody tr th:only-of-type {\n",
       "        vertical-align: middle;\n",
       "    }\n",
       "\n",
       "    .dataframe tbody tr th {\n",
       "        vertical-align: top;\n",
       "    }\n",
       "\n",
       "    .dataframe thead th {\n",
       "        text-align: right;\n",
       "    }\n",
       "</style>\n",
       "<table border=\"1\" class=\"dataframe\">\n",
       "  <thead>\n",
       "    <tr style=\"text-align: right;\">\n",
       "      <th></th>\n",
       "      <th>Team</th>\n",
       "      <th>category</th>\n",
       "      <th>general_league_position</th>\n",
       "      <th>finance _live_games_televised</th>\n",
       "      <th>finance _tv_revenue</th>\n",
       "      <th>general_matches_played</th>\n",
       "      <th>general_won</th>\n",
       "      <th>general_draw</th>\n",
       "      <th>general_lost</th>\n",
       "      <th>attack_scored</th>\n",
       "      <th>...</th>\n",
       "      <th>defence_saves</th>\n",
       "      <th>defence_blocks</th>\n",
       "      <th>defence_interceptions</th>\n",
       "      <th>defence_tackles</th>\n",
       "      <th>defence_tackles_last_man</th>\n",
       "      <th>defence_clearances</th>\n",
       "      <th>defence_clearances_headed</th>\n",
       "      <th>defence_penalty_conceeded</th>\n",
       "      <th>attack_posession</th>\n",
       "      <th>attack_pass_accuracy</th>\n",
       "    </tr>\n",
       "  </thead>\n",
       "  <tbody>\n",
       "    <tr>\n",
       "      <th>0</th>\n",
       "      <td>Manchester City</td>\n",
       "      <td>Champions League</td>\n",
       "      <td>1</td>\n",
       "      <td>26</td>\n",
       "      <td>150986355</td>\n",
       "      <td>38</td>\n",
       "      <td>32</td>\n",
       "      <td>2</td>\n",
       "      <td>4</td>\n",
       "      <td>95</td>\n",
       "      <td>...</td>\n",
       "      <td>58</td>\n",
       "      <td>63</td>\n",
       "      <td>362</td>\n",
       "      <td>518</td>\n",
       "      <td>0</td>\n",
       "      <td>543</td>\n",
       "      <td>295</td>\n",
       "      <td>4</td>\n",
       "      <td>64.0</td>\n",
       "      <td>89.0</td>\n",
       "    </tr>\n",
       "    <tr>\n",
       "      <th>1</th>\n",
       "      <td>Liverpool</td>\n",
       "      <td>Champions League</td>\n",
       "      <td>2</td>\n",
       "      <td>29</td>\n",
       "      <td>152425146</td>\n",
       "      <td>38</td>\n",
       "      <td>30</td>\n",
       "      <td>7</td>\n",
       "      <td>1</td>\n",
       "      <td>89</td>\n",
       "      <td>...</td>\n",
       "      <td>76</td>\n",
       "      <td>78</td>\n",
       "      <td>314</td>\n",
       "      <td>610</td>\n",
       "      <td>2</td>\n",
       "      <td>639</td>\n",
       "      <td>317</td>\n",
       "      <td>1</td>\n",
       "      <td>58.8</td>\n",
       "      <td>84.4</td>\n",
       "    </tr>\n",
       "  </tbody>\n",
       "</table>\n",
       "<p>2 rows × 44 columns</p>\n",
       "</div>"
      ],
      "text/plain": [
       "              Team          category  general_league_position  \\\n",
       "0  Manchester City  Champions League                        1   \n",
       "1        Liverpool  Champions League                        2   \n",
       "\n",
       "   finance _live_games_televised  finance _tv_revenue  general_matches_played  \\\n",
       "0                             26            150986355                      38   \n",
       "1                             29            152425146                      38   \n",
       "\n",
       "   general_won  general_draw  general_lost  attack_scored  ...  defence_saves  \\\n",
       "0           32             2             4             95  ...             58   \n",
       "1           30             7             1             89  ...             76   \n",
       "\n",
       "   defence_blocks  defence_interceptions  defence_tackles  \\\n",
       "0              63                    362              518   \n",
       "1              78                    314              610   \n",
       "\n",
       "   defence_tackles_last_man  defence_clearances  defence_clearances_headed  \\\n",
       "0                         0                 543                        295   \n",
       "1                         2                 639                        317   \n",
       "\n",
       "   defence_penalty_conceeded attack_posession  attack_pass_accuracy  \n",
       "0                          4             64.0                  89.0  \n",
       "1                          1             58.8                  84.4  \n",
       "\n",
       "[2 rows x 44 columns]"
      ]
     },
     "execution_count": 48,
     "metadata": {},
     "output_type": "execute_result"
    }
   ],
   "source": [
    "epl_dataset.loc[(epl_dataset['general_won'] >= 30) & (epl_dataset['general_won'] <= 34)]"
   ]
  },
  {
   "cell_type": "code",
   "execution_count": 27,
   "id": "e5ed7570",
   "metadata": {},
   "outputs": [
    {
     "data": {
      "application/vnd.plotly.v1+json": {
       "config": {
        "plotlyServerURL": "https://plot.ly"
       },
       "data": [
        {
         "alignmentgroup": "True",
         "hovertemplate": "general_won=%{x}<extra></extra>",
         "legendgroup": "",
         "marker": {
          "color": "#636efa"
         },
         "name": "",
         "notched": false,
         "offsetgroup": "",
         "orientation": "h",
         "showlegend": false,
         "type": "box",
         "x": [
          32,
          30,
          21,
          23,
          21,
          19,
          16,
          15,
          15,
          15,
          14,
          14,
          12,
          13,
          11,
          9,
          9,
          10,
          7,
          3
         ],
         "x0": " ",
         "xaxis": "x",
         "y0": " ",
         "yaxis": "y"
        }
       ],
       "layout": {
        "boxmode": "group",
        "legend": {
         "tracegroupgap": 0
        },
        "margin": {
         "t": 60
        },
        "template": {
         "data": {
          "bar": [
           {
            "error_x": {
             "color": "#2a3f5f"
            },
            "error_y": {
             "color": "#2a3f5f"
            },
            "marker": {
             "line": {
              "color": "#E5ECF6",
              "width": 0.5
             },
             "pattern": {
              "fillmode": "overlay",
              "size": 10,
              "solidity": 0.2
             }
            },
            "type": "bar"
           }
          ],
          "barpolar": [
           {
            "marker": {
             "line": {
              "color": "#E5ECF6",
              "width": 0.5
             },
             "pattern": {
              "fillmode": "overlay",
              "size": 10,
              "solidity": 0.2
             }
            },
            "type": "barpolar"
           }
          ],
          "carpet": [
           {
            "aaxis": {
             "endlinecolor": "#2a3f5f",
             "gridcolor": "white",
             "linecolor": "white",
             "minorgridcolor": "white",
             "startlinecolor": "#2a3f5f"
            },
            "baxis": {
             "endlinecolor": "#2a3f5f",
             "gridcolor": "white",
             "linecolor": "white",
             "minorgridcolor": "white",
             "startlinecolor": "#2a3f5f"
            },
            "type": "carpet"
           }
          ],
          "choropleth": [
           {
            "colorbar": {
             "outlinewidth": 0,
             "ticks": ""
            },
            "type": "choropleth"
           }
          ],
          "contour": [
           {
            "colorbar": {
             "outlinewidth": 0,
             "ticks": ""
            },
            "colorscale": [
             [
              0,
              "#0d0887"
             ],
             [
              0.1111111111111111,
              "#46039f"
             ],
             [
              0.2222222222222222,
              "#7201a8"
             ],
             [
              0.3333333333333333,
              "#9c179e"
             ],
             [
              0.4444444444444444,
              "#bd3786"
             ],
             [
              0.5555555555555556,
              "#d8576b"
             ],
             [
              0.6666666666666666,
              "#ed7953"
             ],
             [
              0.7777777777777778,
              "#fb9f3a"
             ],
             [
              0.8888888888888888,
              "#fdca26"
             ],
             [
              1,
              "#f0f921"
             ]
            ],
            "type": "contour"
           }
          ],
          "contourcarpet": [
           {
            "colorbar": {
             "outlinewidth": 0,
             "ticks": ""
            },
            "type": "contourcarpet"
           }
          ],
          "heatmap": [
           {
            "colorbar": {
             "outlinewidth": 0,
             "ticks": ""
            },
            "colorscale": [
             [
              0,
              "#0d0887"
             ],
             [
              0.1111111111111111,
              "#46039f"
             ],
             [
              0.2222222222222222,
              "#7201a8"
             ],
             [
              0.3333333333333333,
              "#9c179e"
             ],
             [
              0.4444444444444444,
              "#bd3786"
             ],
             [
              0.5555555555555556,
              "#d8576b"
             ],
             [
              0.6666666666666666,
              "#ed7953"
             ],
             [
              0.7777777777777778,
              "#fb9f3a"
             ],
             [
              0.8888888888888888,
              "#fdca26"
             ],
             [
              1,
              "#f0f921"
             ]
            ],
            "type": "heatmap"
           }
          ],
          "heatmapgl": [
           {
            "colorbar": {
             "outlinewidth": 0,
             "ticks": ""
            },
            "colorscale": [
             [
              0,
              "#0d0887"
             ],
             [
              0.1111111111111111,
              "#46039f"
             ],
             [
              0.2222222222222222,
              "#7201a8"
             ],
             [
              0.3333333333333333,
              "#9c179e"
             ],
             [
              0.4444444444444444,
              "#bd3786"
             ],
             [
              0.5555555555555556,
              "#d8576b"
             ],
             [
              0.6666666666666666,
              "#ed7953"
             ],
             [
              0.7777777777777778,
              "#fb9f3a"
             ],
             [
              0.8888888888888888,
              "#fdca26"
             ],
             [
              1,
              "#f0f921"
             ]
            ],
            "type": "heatmapgl"
           }
          ],
          "histogram": [
           {
            "marker": {
             "pattern": {
              "fillmode": "overlay",
              "size": 10,
              "solidity": 0.2
             }
            },
            "type": "histogram"
           }
          ],
          "histogram2d": [
           {
            "colorbar": {
             "outlinewidth": 0,
             "ticks": ""
            },
            "colorscale": [
             [
              0,
              "#0d0887"
             ],
             [
              0.1111111111111111,
              "#46039f"
             ],
             [
              0.2222222222222222,
              "#7201a8"
             ],
             [
              0.3333333333333333,
              "#9c179e"
             ],
             [
              0.4444444444444444,
              "#bd3786"
             ],
             [
              0.5555555555555556,
              "#d8576b"
             ],
             [
              0.6666666666666666,
              "#ed7953"
             ],
             [
              0.7777777777777778,
              "#fb9f3a"
             ],
             [
              0.8888888888888888,
              "#fdca26"
             ],
             [
              1,
              "#f0f921"
             ]
            ],
            "type": "histogram2d"
           }
          ],
          "histogram2dcontour": [
           {
            "colorbar": {
             "outlinewidth": 0,
             "ticks": ""
            },
            "colorscale": [
             [
              0,
              "#0d0887"
             ],
             [
              0.1111111111111111,
              "#46039f"
             ],
             [
              0.2222222222222222,
              "#7201a8"
             ],
             [
              0.3333333333333333,
              "#9c179e"
             ],
             [
              0.4444444444444444,
              "#bd3786"
             ],
             [
              0.5555555555555556,
              "#d8576b"
             ],
             [
              0.6666666666666666,
              "#ed7953"
             ],
             [
              0.7777777777777778,
              "#fb9f3a"
             ],
             [
              0.8888888888888888,
              "#fdca26"
             ],
             [
              1,
              "#f0f921"
             ]
            ],
            "type": "histogram2dcontour"
           }
          ],
          "mesh3d": [
           {
            "colorbar": {
             "outlinewidth": 0,
             "ticks": ""
            },
            "type": "mesh3d"
           }
          ],
          "parcoords": [
           {
            "line": {
             "colorbar": {
              "outlinewidth": 0,
              "ticks": ""
             }
            },
            "type": "parcoords"
           }
          ],
          "pie": [
           {
            "automargin": true,
            "type": "pie"
           }
          ],
          "scatter": [
           {
            "marker": {
             "colorbar": {
              "outlinewidth": 0,
              "ticks": ""
             }
            },
            "type": "scatter"
           }
          ],
          "scatter3d": [
           {
            "line": {
             "colorbar": {
              "outlinewidth": 0,
              "ticks": ""
             }
            },
            "marker": {
             "colorbar": {
              "outlinewidth": 0,
              "ticks": ""
             }
            },
            "type": "scatter3d"
           }
          ],
          "scattercarpet": [
           {
            "marker": {
             "colorbar": {
              "outlinewidth": 0,
              "ticks": ""
             }
            },
            "type": "scattercarpet"
           }
          ],
          "scattergeo": [
           {
            "marker": {
             "colorbar": {
              "outlinewidth": 0,
              "ticks": ""
             }
            },
            "type": "scattergeo"
           }
          ],
          "scattergl": [
           {
            "marker": {
             "colorbar": {
              "outlinewidth": 0,
              "ticks": ""
             }
            },
            "type": "scattergl"
           }
          ],
          "scattermapbox": [
           {
            "marker": {
             "colorbar": {
              "outlinewidth": 0,
              "ticks": ""
             }
            },
            "type": "scattermapbox"
           }
          ],
          "scatterpolar": [
           {
            "marker": {
             "colorbar": {
              "outlinewidth": 0,
              "ticks": ""
             }
            },
            "type": "scatterpolar"
           }
          ],
          "scatterpolargl": [
           {
            "marker": {
             "colorbar": {
              "outlinewidth": 0,
              "ticks": ""
             }
            },
            "type": "scatterpolargl"
           }
          ],
          "scatterternary": [
           {
            "marker": {
             "colorbar": {
              "outlinewidth": 0,
              "ticks": ""
             }
            },
            "type": "scatterternary"
           }
          ],
          "surface": [
           {
            "colorbar": {
             "outlinewidth": 0,
             "ticks": ""
            },
            "colorscale": [
             [
              0,
              "#0d0887"
             ],
             [
              0.1111111111111111,
              "#46039f"
             ],
             [
              0.2222222222222222,
              "#7201a8"
             ],
             [
              0.3333333333333333,
              "#9c179e"
             ],
             [
              0.4444444444444444,
              "#bd3786"
             ],
             [
              0.5555555555555556,
              "#d8576b"
             ],
             [
              0.6666666666666666,
              "#ed7953"
             ],
             [
              0.7777777777777778,
              "#fb9f3a"
             ],
             [
              0.8888888888888888,
              "#fdca26"
             ],
             [
              1,
              "#f0f921"
             ]
            ],
            "type": "surface"
           }
          ],
          "table": [
           {
            "cells": {
             "fill": {
              "color": "#EBF0F8"
             },
             "line": {
              "color": "white"
             }
            },
            "header": {
             "fill": {
              "color": "#C8D4E3"
             },
             "line": {
              "color": "white"
             }
            },
            "type": "table"
           }
          ]
         },
         "layout": {
          "annotationdefaults": {
           "arrowcolor": "#2a3f5f",
           "arrowhead": 0,
           "arrowwidth": 1
          },
          "autotypenumbers": "strict",
          "coloraxis": {
           "colorbar": {
            "outlinewidth": 0,
            "ticks": ""
           }
          },
          "colorscale": {
           "diverging": [
            [
             0,
             "#8e0152"
            ],
            [
             0.1,
             "#c51b7d"
            ],
            [
             0.2,
             "#de77ae"
            ],
            [
             0.3,
             "#f1b6da"
            ],
            [
             0.4,
             "#fde0ef"
            ],
            [
             0.5,
             "#f7f7f7"
            ],
            [
             0.6,
             "#e6f5d0"
            ],
            [
             0.7,
             "#b8e186"
            ],
            [
             0.8,
             "#7fbc41"
            ],
            [
             0.9,
             "#4d9221"
            ],
            [
             1,
             "#276419"
            ]
           ],
           "sequential": [
            [
             0,
             "#0d0887"
            ],
            [
             0.1111111111111111,
             "#46039f"
            ],
            [
             0.2222222222222222,
             "#7201a8"
            ],
            [
             0.3333333333333333,
             "#9c179e"
            ],
            [
             0.4444444444444444,
             "#bd3786"
            ],
            [
             0.5555555555555556,
             "#d8576b"
            ],
            [
             0.6666666666666666,
             "#ed7953"
            ],
            [
             0.7777777777777778,
             "#fb9f3a"
            ],
            [
             0.8888888888888888,
             "#fdca26"
            ],
            [
             1,
             "#f0f921"
            ]
           ],
           "sequentialminus": [
            [
             0,
             "#0d0887"
            ],
            [
             0.1111111111111111,
             "#46039f"
            ],
            [
             0.2222222222222222,
             "#7201a8"
            ],
            [
             0.3333333333333333,
             "#9c179e"
            ],
            [
             0.4444444444444444,
             "#bd3786"
            ],
            [
             0.5555555555555556,
             "#d8576b"
            ],
            [
             0.6666666666666666,
             "#ed7953"
            ],
            [
             0.7777777777777778,
             "#fb9f3a"
            ],
            [
             0.8888888888888888,
             "#fdca26"
            ],
            [
             1,
             "#f0f921"
            ]
           ]
          },
          "colorway": [
           "#636efa",
           "#EF553B",
           "#00cc96",
           "#ab63fa",
           "#FFA15A",
           "#19d3f3",
           "#FF6692",
           "#B6E880",
           "#FF97FF",
           "#FECB52"
          ],
          "font": {
           "color": "#2a3f5f"
          },
          "geo": {
           "bgcolor": "white",
           "lakecolor": "white",
           "landcolor": "#E5ECF6",
           "showlakes": true,
           "showland": true,
           "subunitcolor": "white"
          },
          "hoverlabel": {
           "align": "left"
          },
          "hovermode": "closest",
          "mapbox": {
           "style": "light"
          },
          "paper_bgcolor": "white",
          "plot_bgcolor": "#E5ECF6",
          "polar": {
           "angularaxis": {
            "gridcolor": "white",
            "linecolor": "white",
            "ticks": ""
           },
           "bgcolor": "#E5ECF6",
           "radialaxis": {
            "gridcolor": "white",
            "linecolor": "white",
            "ticks": ""
           }
          },
          "scene": {
           "xaxis": {
            "backgroundcolor": "#E5ECF6",
            "gridcolor": "white",
            "gridwidth": 2,
            "linecolor": "white",
            "showbackground": true,
            "ticks": "",
            "zerolinecolor": "white"
           },
           "yaxis": {
            "backgroundcolor": "#E5ECF6",
            "gridcolor": "white",
            "gridwidth": 2,
            "linecolor": "white",
            "showbackground": true,
            "ticks": "",
            "zerolinecolor": "white"
           },
           "zaxis": {
            "backgroundcolor": "#E5ECF6",
            "gridcolor": "white",
            "gridwidth": 2,
            "linecolor": "white",
            "showbackground": true,
            "ticks": "",
            "zerolinecolor": "white"
           }
          },
          "shapedefaults": {
           "line": {
            "color": "#2a3f5f"
           }
          },
          "ternary": {
           "aaxis": {
            "gridcolor": "white",
            "linecolor": "white",
            "ticks": ""
           },
           "baxis": {
            "gridcolor": "white",
            "linecolor": "white",
            "ticks": ""
           },
           "bgcolor": "#E5ECF6",
           "caxis": {
            "gridcolor": "white",
            "linecolor": "white",
            "ticks": ""
           }
          },
          "title": {
           "x": 0.05
          },
          "xaxis": {
           "automargin": true,
           "gridcolor": "white",
           "linecolor": "white",
           "ticks": "",
           "title": {
            "standoff": 15
           },
           "zerolinecolor": "white",
           "zerolinewidth": 2
          },
          "yaxis": {
           "automargin": true,
           "gridcolor": "white",
           "linecolor": "white",
           "ticks": "",
           "title": {
            "standoff": 15
           },
           "zerolinecolor": "white",
           "zerolinewidth": 2
          }
         }
        },
        "xaxis": {
         "anchor": "y",
         "domain": [
          0,
          1
         ],
         "title": {
          "text": "general_won"
         }
        },
        "yaxis": {
         "anchor": "x",
         "domain": [
          0,
          1
         ]
        }
       }
      },
      "text/html": [
       "<div>                            <div id=\"ec1ebea1-1ed1-4d57-8b44-17e17351ab7e\" class=\"plotly-graph-div\" style=\"height:525px; width:100%;\"></div>            <script type=\"text/javascript\">                require([\"plotly\"], function(Plotly) {                    window.PLOTLYENV=window.PLOTLYENV || {};                                    if (document.getElementById(\"ec1ebea1-1ed1-4d57-8b44-17e17351ab7e\")) {                    Plotly.newPlot(                        \"ec1ebea1-1ed1-4d57-8b44-17e17351ab7e\",                        [{\"alignmentgroup\":\"True\",\"hovertemplate\":\"general_won=%{x}<extra></extra>\",\"legendgroup\":\"\",\"marker\":{\"color\":\"#636efa\"},\"name\":\"\",\"notched\":false,\"offsetgroup\":\"\",\"orientation\":\"h\",\"showlegend\":false,\"type\":\"box\",\"x\":[32,30,21,23,21,19,16,15,15,15,14,14,12,13,11,9,9,10,7,3],\"x0\":\" \",\"xaxis\":\"x\",\"y0\":\" \",\"yaxis\":\"y\"}],                        {\"boxmode\":\"group\",\"legend\":{\"tracegroupgap\":0},\"margin\":{\"t\":60},\"template\":{\"data\":{\"bar\":[{\"error_x\":{\"color\":\"#2a3f5f\"},\"error_y\":{\"color\":\"#2a3f5f\"},\"marker\":{\"line\":{\"color\":\"#E5ECF6\",\"width\":0.5},\"pattern\":{\"fillmode\":\"overlay\",\"size\":10,\"solidity\":0.2}},\"type\":\"bar\"}],\"barpolar\":[{\"marker\":{\"line\":{\"color\":\"#E5ECF6\",\"width\":0.5},\"pattern\":{\"fillmode\":\"overlay\",\"size\":10,\"solidity\":0.2}},\"type\":\"barpolar\"}],\"carpet\":[{\"aaxis\":{\"endlinecolor\":\"#2a3f5f\",\"gridcolor\":\"white\",\"linecolor\":\"white\",\"minorgridcolor\":\"white\",\"startlinecolor\":\"#2a3f5f\"},\"baxis\":{\"endlinecolor\":\"#2a3f5f\",\"gridcolor\":\"white\",\"linecolor\":\"white\",\"minorgridcolor\":\"white\",\"startlinecolor\":\"#2a3f5f\"},\"type\":\"carpet\"}],\"choropleth\":[{\"colorbar\":{\"outlinewidth\":0,\"ticks\":\"\"},\"type\":\"choropleth\"}],\"contour\":[{\"colorbar\":{\"outlinewidth\":0,\"ticks\":\"\"},\"colorscale\":[[0.0,\"#0d0887\"],[0.1111111111111111,\"#46039f\"],[0.2222222222222222,\"#7201a8\"],[0.3333333333333333,\"#9c179e\"],[0.4444444444444444,\"#bd3786\"],[0.5555555555555556,\"#d8576b\"],[0.6666666666666666,\"#ed7953\"],[0.7777777777777778,\"#fb9f3a\"],[0.8888888888888888,\"#fdca26\"],[1.0,\"#f0f921\"]],\"type\":\"contour\"}],\"contourcarpet\":[{\"colorbar\":{\"outlinewidth\":0,\"ticks\":\"\"},\"type\":\"contourcarpet\"}],\"heatmap\":[{\"colorbar\":{\"outlinewidth\":0,\"ticks\":\"\"},\"colorscale\":[[0.0,\"#0d0887\"],[0.1111111111111111,\"#46039f\"],[0.2222222222222222,\"#7201a8\"],[0.3333333333333333,\"#9c179e\"],[0.4444444444444444,\"#bd3786\"],[0.5555555555555556,\"#d8576b\"],[0.6666666666666666,\"#ed7953\"],[0.7777777777777778,\"#fb9f3a\"],[0.8888888888888888,\"#fdca26\"],[1.0,\"#f0f921\"]],\"type\":\"heatmap\"}],\"heatmapgl\":[{\"colorbar\":{\"outlinewidth\":0,\"ticks\":\"\"},\"colorscale\":[[0.0,\"#0d0887\"],[0.1111111111111111,\"#46039f\"],[0.2222222222222222,\"#7201a8\"],[0.3333333333333333,\"#9c179e\"],[0.4444444444444444,\"#bd3786\"],[0.5555555555555556,\"#d8576b\"],[0.6666666666666666,\"#ed7953\"],[0.7777777777777778,\"#fb9f3a\"],[0.8888888888888888,\"#fdca26\"],[1.0,\"#f0f921\"]],\"type\":\"heatmapgl\"}],\"histogram\":[{\"marker\":{\"pattern\":{\"fillmode\":\"overlay\",\"size\":10,\"solidity\":0.2}},\"type\":\"histogram\"}],\"histogram2d\":[{\"colorbar\":{\"outlinewidth\":0,\"ticks\":\"\"},\"colorscale\":[[0.0,\"#0d0887\"],[0.1111111111111111,\"#46039f\"],[0.2222222222222222,\"#7201a8\"],[0.3333333333333333,\"#9c179e\"],[0.4444444444444444,\"#bd3786\"],[0.5555555555555556,\"#d8576b\"],[0.6666666666666666,\"#ed7953\"],[0.7777777777777778,\"#fb9f3a\"],[0.8888888888888888,\"#fdca26\"],[1.0,\"#f0f921\"]],\"type\":\"histogram2d\"}],\"histogram2dcontour\":[{\"colorbar\":{\"outlinewidth\":0,\"ticks\":\"\"},\"colorscale\":[[0.0,\"#0d0887\"],[0.1111111111111111,\"#46039f\"],[0.2222222222222222,\"#7201a8\"],[0.3333333333333333,\"#9c179e\"],[0.4444444444444444,\"#bd3786\"],[0.5555555555555556,\"#d8576b\"],[0.6666666666666666,\"#ed7953\"],[0.7777777777777778,\"#fb9f3a\"],[0.8888888888888888,\"#fdca26\"],[1.0,\"#f0f921\"]],\"type\":\"histogram2dcontour\"}],\"mesh3d\":[{\"colorbar\":{\"outlinewidth\":0,\"ticks\":\"\"},\"type\":\"mesh3d\"}],\"parcoords\":[{\"line\":{\"colorbar\":{\"outlinewidth\":0,\"ticks\":\"\"}},\"type\":\"parcoords\"}],\"pie\":[{\"automargin\":true,\"type\":\"pie\"}],\"scatter\":[{\"marker\":{\"colorbar\":{\"outlinewidth\":0,\"ticks\":\"\"}},\"type\":\"scatter\"}],\"scatter3d\":[{\"line\":{\"colorbar\":{\"outlinewidth\":0,\"ticks\":\"\"}},\"marker\":{\"colorbar\":{\"outlinewidth\":0,\"ticks\":\"\"}},\"type\":\"scatter3d\"}],\"scattercarpet\":[{\"marker\":{\"colorbar\":{\"outlinewidth\":0,\"ticks\":\"\"}},\"type\":\"scattercarpet\"}],\"scattergeo\":[{\"marker\":{\"colorbar\":{\"outlinewidth\":0,\"ticks\":\"\"}},\"type\":\"scattergeo\"}],\"scattergl\":[{\"marker\":{\"colorbar\":{\"outlinewidth\":0,\"ticks\":\"\"}},\"type\":\"scattergl\"}],\"scattermapbox\":[{\"marker\":{\"colorbar\":{\"outlinewidth\":0,\"ticks\":\"\"}},\"type\":\"scattermapbox\"}],\"scatterpolar\":[{\"marker\":{\"colorbar\":{\"outlinewidth\":0,\"ticks\":\"\"}},\"type\":\"scatterpolar\"}],\"scatterpolargl\":[{\"marker\":{\"colorbar\":{\"outlinewidth\":0,\"ticks\":\"\"}},\"type\":\"scatterpolargl\"}],\"scatterternary\":[{\"marker\":{\"colorbar\":{\"outlinewidth\":0,\"ticks\":\"\"}},\"type\":\"scatterternary\"}],\"surface\":[{\"colorbar\":{\"outlinewidth\":0,\"ticks\":\"\"},\"colorscale\":[[0.0,\"#0d0887\"],[0.1111111111111111,\"#46039f\"],[0.2222222222222222,\"#7201a8\"],[0.3333333333333333,\"#9c179e\"],[0.4444444444444444,\"#bd3786\"],[0.5555555555555556,\"#d8576b\"],[0.6666666666666666,\"#ed7953\"],[0.7777777777777778,\"#fb9f3a\"],[0.8888888888888888,\"#fdca26\"],[1.0,\"#f0f921\"]],\"type\":\"surface\"}],\"table\":[{\"cells\":{\"fill\":{\"color\":\"#EBF0F8\"},\"line\":{\"color\":\"white\"}},\"header\":{\"fill\":{\"color\":\"#C8D4E3\"},\"line\":{\"color\":\"white\"}},\"type\":\"table\"}]},\"layout\":{\"annotationdefaults\":{\"arrowcolor\":\"#2a3f5f\",\"arrowhead\":0,\"arrowwidth\":1},\"autotypenumbers\":\"strict\",\"coloraxis\":{\"colorbar\":{\"outlinewidth\":0,\"ticks\":\"\"}},\"colorscale\":{\"diverging\":[[0,\"#8e0152\"],[0.1,\"#c51b7d\"],[0.2,\"#de77ae\"],[0.3,\"#f1b6da\"],[0.4,\"#fde0ef\"],[0.5,\"#f7f7f7\"],[0.6,\"#e6f5d0\"],[0.7,\"#b8e186\"],[0.8,\"#7fbc41\"],[0.9,\"#4d9221\"],[1,\"#276419\"]],\"sequential\":[[0.0,\"#0d0887\"],[0.1111111111111111,\"#46039f\"],[0.2222222222222222,\"#7201a8\"],[0.3333333333333333,\"#9c179e\"],[0.4444444444444444,\"#bd3786\"],[0.5555555555555556,\"#d8576b\"],[0.6666666666666666,\"#ed7953\"],[0.7777777777777778,\"#fb9f3a\"],[0.8888888888888888,\"#fdca26\"],[1.0,\"#f0f921\"]],\"sequentialminus\":[[0.0,\"#0d0887\"],[0.1111111111111111,\"#46039f\"],[0.2222222222222222,\"#7201a8\"],[0.3333333333333333,\"#9c179e\"],[0.4444444444444444,\"#bd3786\"],[0.5555555555555556,\"#d8576b\"],[0.6666666666666666,\"#ed7953\"],[0.7777777777777778,\"#fb9f3a\"],[0.8888888888888888,\"#fdca26\"],[1.0,\"#f0f921\"]]},\"colorway\":[\"#636efa\",\"#EF553B\",\"#00cc96\",\"#ab63fa\",\"#FFA15A\",\"#19d3f3\",\"#FF6692\",\"#B6E880\",\"#FF97FF\",\"#FECB52\"],\"font\":{\"color\":\"#2a3f5f\"},\"geo\":{\"bgcolor\":\"white\",\"lakecolor\":\"white\",\"landcolor\":\"#E5ECF6\",\"showlakes\":true,\"showland\":true,\"subunitcolor\":\"white\"},\"hoverlabel\":{\"align\":\"left\"},\"hovermode\":\"closest\",\"mapbox\":{\"style\":\"light\"},\"paper_bgcolor\":\"white\",\"plot_bgcolor\":\"#E5ECF6\",\"polar\":{\"angularaxis\":{\"gridcolor\":\"white\",\"linecolor\":\"white\",\"ticks\":\"\"},\"bgcolor\":\"#E5ECF6\",\"radialaxis\":{\"gridcolor\":\"white\",\"linecolor\":\"white\",\"ticks\":\"\"}},\"scene\":{\"xaxis\":{\"backgroundcolor\":\"#E5ECF6\",\"gridcolor\":\"white\",\"gridwidth\":2,\"linecolor\":\"white\",\"showbackground\":true,\"ticks\":\"\",\"zerolinecolor\":\"white\"},\"yaxis\":{\"backgroundcolor\":\"#E5ECF6\",\"gridcolor\":\"white\",\"gridwidth\":2,\"linecolor\":\"white\",\"showbackground\":true,\"ticks\":\"\",\"zerolinecolor\":\"white\"},\"zaxis\":{\"backgroundcolor\":\"#E5ECF6\",\"gridcolor\":\"white\",\"gridwidth\":2,\"linecolor\":\"white\",\"showbackground\":true,\"ticks\":\"\",\"zerolinecolor\":\"white\"}},\"shapedefaults\":{\"line\":{\"color\":\"#2a3f5f\"}},\"ternary\":{\"aaxis\":{\"gridcolor\":\"white\",\"linecolor\":\"white\",\"ticks\":\"\"},\"baxis\":{\"gridcolor\":\"white\",\"linecolor\":\"white\",\"ticks\":\"\"},\"bgcolor\":\"#E5ECF6\",\"caxis\":{\"gridcolor\":\"white\",\"linecolor\":\"white\",\"ticks\":\"\"}},\"title\":{\"x\":0.05},\"xaxis\":{\"automargin\":true,\"gridcolor\":\"white\",\"linecolor\":\"white\",\"ticks\":\"\",\"title\":{\"standoff\":15},\"zerolinecolor\":\"white\",\"zerolinewidth\":2},\"yaxis\":{\"automargin\":true,\"gridcolor\":\"white\",\"linecolor\":\"white\",\"ticks\":\"\",\"title\":{\"standoff\":15},\"zerolinecolor\":\"white\",\"zerolinewidth\":2}}},\"xaxis\":{\"anchor\":\"y\",\"domain\":[0.0,1.0],\"title\":{\"text\":\"general_won\"}},\"yaxis\":{\"anchor\":\"x\",\"domain\":[0.0,1.0]}},                        {\"responsive\": true}                    ).then(function(){\n",
       "                            \n",
       "var gd = document.getElementById('ec1ebea1-1ed1-4d57-8b44-17e17351ab7e');\n",
       "var x = new MutationObserver(function (mutations, observer) {{\n",
       "        var display = window.getComputedStyle(gd).display;\n",
       "        if (!display || display === 'none') {{\n",
       "            console.log([gd, 'removed!']);\n",
       "            Plotly.purge(gd);\n",
       "            observer.disconnect();\n",
       "        }}\n",
       "}});\n",
       "\n",
       "// Listen for the removal of the full notebook cells\n",
       "var notebookContainer = gd.closest('#notebook-container');\n",
       "if (notebookContainer) {{\n",
       "    x.observe(notebookContainer, {childList: true});\n",
       "}}\n",
       "\n",
       "// Listen for the clearing of the current output cell\n",
       "var outputEl = gd.closest('.output');\n",
       "if (outputEl) {{\n",
       "    x.observe(outputEl, {childList: true});\n",
       "}}\n",
       "\n",
       "                        })                };                });            </script>        </div>"
      ]
     },
     "metadata": {},
     "output_type": "display_data"
    }
   ],
   "source": [
    "fig_2 = epl_dataset.plot.box(x = 'general_won')\n",
    "fig_2.show()"
   ]
  },
  {
   "cell_type": "markdown",
   "id": "7041ac6a",
   "metadata": {},
   "source": [
    "Let's calculate the lower and upper bound of general_won variable."
   ]
  },
  {
   "cell_type": "code",
   "execution_count": 49,
   "id": "74142feb",
   "metadata": {},
   "outputs": [
    {
     "name": "stdout",
     "output_type": "stream",
     "text": [
      "lower bound for general_won -2.375\n",
      "upper bound for general_won 32.625\n"
     ]
    }
   ],
   "source": [
    "Q1_gw = epl_dataset['general_won'].quantile(0.25)\n",
    "Q3_gw = epl_dataset['general_won'].quantile(0.75)\n",
    "IQR_gw = Q3_gw - Q1_gw\n",
    "\n",
    "lb_gw = Q1_gw - 1.5*IQR_gw\n",
    "ub_gw = Q3_gw + 1.5*IQR_gw\n",
    "print(\"lower bound for general_won \" + str(lb_gw))\n",
    "print(\"upper bound for general_won \" + str(ub_gw))"
   ]
  },
  {
   "cell_type": "code",
   "execution_count": 44,
   "id": "ffade6a2",
   "metadata": {},
   "outputs": [
    {
     "data": {
      "text/html": [
       "<div>\n",
       "<style scoped>\n",
       "    .dataframe tbody tr th:only-of-type {\n",
       "        vertical-align: middle;\n",
       "    }\n",
       "\n",
       "    .dataframe tbody tr th {\n",
       "        vertical-align: top;\n",
       "    }\n",
       "\n",
       "    .dataframe thead th {\n",
       "        text-align: right;\n",
       "    }\n",
       "</style>\n",
       "<table border=\"1\" class=\"dataframe\">\n",
       "  <thead>\n",
       "    <tr style=\"text-align: right;\">\n",
       "      <th></th>\n",
       "      <th>Team</th>\n",
       "      <th>category</th>\n",
       "      <th>general_league_position</th>\n",
       "      <th>finance _live_games_televised</th>\n",
       "      <th>finance _tv_revenue</th>\n",
       "      <th>general_matches_played</th>\n",
       "      <th>general_won</th>\n",
       "      <th>general_draw</th>\n",
       "      <th>general_lost</th>\n",
       "      <th>attack_scored</th>\n",
       "      <th>...</th>\n",
       "      <th>defence_saves</th>\n",
       "      <th>defence_blocks</th>\n",
       "      <th>defence_interceptions</th>\n",
       "      <th>defence_tackles</th>\n",
       "      <th>defence_tackles_last_man</th>\n",
       "      <th>defence_clearances</th>\n",
       "      <th>defence_clearances_headed</th>\n",
       "      <th>defence_penalty_conceeded</th>\n",
       "      <th>attack_posession</th>\n",
       "      <th>attack_pass_accuracy</th>\n",
       "    </tr>\n",
       "  </thead>\n",
       "  <tbody>\n",
       "  </tbody>\n",
       "</table>\n",
       "<p>0 rows × 44 columns</p>\n",
       "</div>"
      ],
      "text/plain": [
       "Empty DataFrame\n",
       "Columns: [Team, category, general_league_position, finance _live_games_televised, finance _tv_revenue, general_matches_played, general_won, general_draw, general_lost, attack_scored, defence_goals_conceeded, general_goal_difference, general_points, general_squad_size, general_squad_average_age, general_squad_foreigners, finance _team_market, finance _market_average, attack_passes, attack_passes_through, attack_passes_long, attack_passes_back, attack_crosses, attack_corners_taken, attack_shots, attack_shots_on_target, attack_goals_headed, attack_goals_penalty, attack_goals_box, attack_goals_outsidebox, general_card_yellow, general_card_red, attack_goals_counter, attack_goals_freekick, defence_saves, defence_blocks, defence_interceptions, defence_tackles, defence_tackles_last_man, defence_clearances, defence_clearances_headed, defence_penalty_conceeded, attack_posession, attack_pass_accuracy]\n",
       "Index: []\n",
       "\n",
       "[0 rows x 44 columns]"
      ]
     },
     "execution_count": 44,
     "metadata": {},
     "output_type": "execute_result"
    }
   ],
   "source": [
    "gw_outlier = epl_dataset[epl_dataset['general_won'] > ub_gw]\n",
    "gw_outlier"
   ]
  },
  {
   "cell_type": "markdown",
   "id": "4062660c",
   "metadata": {},
   "source": [
    "From this inspection, there are no outlier in this dataset, from winning match perspective."
   ]
  },
  {
   "cell_type": "markdown",
   "id": "677ea0a4",
   "metadata": {},
   "source": [
    "### Finance: Team Market"
   ]
  },
  {
   "cell_type": "code",
   "execution_count": 35,
   "id": "84aaac95",
   "metadata": {},
   "outputs": [
    {
     "data": {
      "application/vnd.plotly.v1+json": {
       "config": {
        "plotlyServerURL": "https://plot.ly"
       },
       "data": [
        {
         "alignmentgroup": "True",
         "bingroup": "x",
         "hovertemplate": "finance _team_market=%{x}<br>count=%{y}<extra></extra>",
         "legendgroup": "",
         "marker": {
          "color": "#636efa",
          "pattern": {
           "shape": ""
          }
         },
         "name": "",
         "nbinsx": 10,
         "offsetgroup": "",
         "orientation": "v",
         "showlegend": false,
         "type": "histogram",
         "x": [
          1003200000,
          836440000,
          779460000,
          735240000,
          701800000,
          550440000,
          369600000,
          305360000,
          284240000,
          234212000,
          229240000,
          223520000,
          214060000,
          200288000,
          176440000,
          160072000,
          152680000,
          152020000,
          106920000,
          85492000
         ],
         "xaxis": "x",
         "yaxis": "y"
        }
       ],
       "layout": {
        "barmode": "relative",
        "legend": {
         "tracegroupgap": 0
        },
        "template": {
         "data": {
          "bar": [
           {
            "error_x": {
             "color": "#2a3f5f"
            },
            "error_y": {
             "color": "#2a3f5f"
            },
            "marker": {
             "line": {
              "color": "#E5ECF6",
              "width": 0.5
             },
             "pattern": {
              "fillmode": "overlay",
              "size": 10,
              "solidity": 0.2
             }
            },
            "type": "bar"
           }
          ],
          "barpolar": [
           {
            "marker": {
             "line": {
              "color": "#E5ECF6",
              "width": 0.5
             },
             "pattern": {
              "fillmode": "overlay",
              "size": 10,
              "solidity": 0.2
             }
            },
            "type": "barpolar"
           }
          ],
          "carpet": [
           {
            "aaxis": {
             "endlinecolor": "#2a3f5f",
             "gridcolor": "white",
             "linecolor": "white",
             "minorgridcolor": "white",
             "startlinecolor": "#2a3f5f"
            },
            "baxis": {
             "endlinecolor": "#2a3f5f",
             "gridcolor": "white",
             "linecolor": "white",
             "minorgridcolor": "white",
             "startlinecolor": "#2a3f5f"
            },
            "type": "carpet"
           }
          ],
          "choropleth": [
           {
            "colorbar": {
             "outlinewidth": 0,
             "ticks": ""
            },
            "type": "choropleth"
           }
          ],
          "contour": [
           {
            "colorbar": {
             "outlinewidth": 0,
             "ticks": ""
            },
            "colorscale": [
             [
              0,
              "#0d0887"
             ],
             [
              0.1111111111111111,
              "#46039f"
             ],
             [
              0.2222222222222222,
              "#7201a8"
             ],
             [
              0.3333333333333333,
              "#9c179e"
             ],
             [
              0.4444444444444444,
              "#bd3786"
             ],
             [
              0.5555555555555556,
              "#d8576b"
             ],
             [
              0.6666666666666666,
              "#ed7953"
             ],
             [
              0.7777777777777778,
              "#fb9f3a"
             ],
             [
              0.8888888888888888,
              "#fdca26"
             ],
             [
              1,
              "#f0f921"
             ]
            ],
            "type": "contour"
           }
          ],
          "contourcarpet": [
           {
            "colorbar": {
             "outlinewidth": 0,
             "ticks": ""
            },
            "type": "contourcarpet"
           }
          ],
          "heatmap": [
           {
            "colorbar": {
             "outlinewidth": 0,
             "ticks": ""
            },
            "colorscale": [
             [
              0,
              "#0d0887"
             ],
             [
              0.1111111111111111,
              "#46039f"
             ],
             [
              0.2222222222222222,
              "#7201a8"
             ],
             [
              0.3333333333333333,
              "#9c179e"
             ],
             [
              0.4444444444444444,
              "#bd3786"
             ],
             [
              0.5555555555555556,
              "#d8576b"
             ],
             [
              0.6666666666666666,
              "#ed7953"
             ],
             [
              0.7777777777777778,
              "#fb9f3a"
             ],
             [
              0.8888888888888888,
              "#fdca26"
             ],
             [
              1,
              "#f0f921"
             ]
            ],
            "type": "heatmap"
           }
          ],
          "heatmapgl": [
           {
            "colorbar": {
             "outlinewidth": 0,
             "ticks": ""
            },
            "colorscale": [
             [
              0,
              "#0d0887"
             ],
             [
              0.1111111111111111,
              "#46039f"
             ],
             [
              0.2222222222222222,
              "#7201a8"
             ],
             [
              0.3333333333333333,
              "#9c179e"
             ],
             [
              0.4444444444444444,
              "#bd3786"
             ],
             [
              0.5555555555555556,
              "#d8576b"
             ],
             [
              0.6666666666666666,
              "#ed7953"
             ],
             [
              0.7777777777777778,
              "#fb9f3a"
             ],
             [
              0.8888888888888888,
              "#fdca26"
             ],
             [
              1,
              "#f0f921"
             ]
            ],
            "type": "heatmapgl"
           }
          ],
          "histogram": [
           {
            "marker": {
             "pattern": {
              "fillmode": "overlay",
              "size": 10,
              "solidity": 0.2
             }
            },
            "type": "histogram"
           }
          ],
          "histogram2d": [
           {
            "colorbar": {
             "outlinewidth": 0,
             "ticks": ""
            },
            "colorscale": [
             [
              0,
              "#0d0887"
             ],
             [
              0.1111111111111111,
              "#46039f"
             ],
             [
              0.2222222222222222,
              "#7201a8"
             ],
             [
              0.3333333333333333,
              "#9c179e"
             ],
             [
              0.4444444444444444,
              "#bd3786"
             ],
             [
              0.5555555555555556,
              "#d8576b"
             ],
             [
              0.6666666666666666,
              "#ed7953"
             ],
             [
              0.7777777777777778,
              "#fb9f3a"
             ],
             [
              0.8888888888888888,
              "#fdca26"
             ],
             [
              1,
              "#f0f921"
             ]
            ],
            "type": "histogram2d"
           }
          ],
          "histogram2dcontour": [
           {
            "colorbar": {
             "outlinewidth": 0,
             "ticks": ""
            },
            "colorscale": [
             [
              0,
              "#0d0887"
             ],
             [
              0.1111111111111111,
              "#46039f"
             ],
             [
              0.2222222222222222,
              "#7201a8"
             ],
             [
              0.3333333333333333,
              "#9c179e"
             ],
             [
              0.4444444444444444,
              "#bd3786"
             ],
             [
              0.5555555555555556,
              "#d8576b"
             ],
             [
              0.6666666666666666,
              "#ed7953"
             ],
             [
              0.7777777777777778,
              "#fb9f3a"
             ],
             [
              0.8888888888888888,
              "#fdca26"
             ],
             [
              1,
              "#f0f921"
             ]
            ],
            "type": "histogram2dcontour"
           }
          ],
          "mesh3d": [
           {
            "colorbar": {
             "outlinewidth": 0,
             "ticks": ""
            },
            "type": "mesh3d"
           }
          ],
          "parcoords": [
           {
            "line": {
             "colorbar": {
              "outlinewidth": 0,
              "ticks": ""
             }
            },
            "type": "parcoords"
           }
          ],
          "pie": [
           {
            "automargin": true,
            "type": "pie"
           }
          ],
          "scatter": [
           {
            "marker": {
             "colorbar": {
              "outlinewidth": 0,
              "ticks": ""
             }
            },
            "type": "scatter"
           }
          ],
          "scatter3d": [
           {
            "line": {
             "colorbar": {
              "outlinewidth": 0,
              "ticks": ""
             }
            },
            "marker": {
             "colorbar": {
              "outlinewidth": 0,
              "ticks": ""
             }
            },
            "type": "scatter3d"
           }
          ],
          "scattercarpet": [
           {
            "marker": {
             "colorbar": {
              "outlinewidth": 0,
              "ticks": ""
             }
            },
            "type": "scattercarpet"
           }
          ],
          "scattergeo": [
           {
            "marker": {
             "colorbar": {
              "outlinewidth": 0,
              "ticks": ""
             }
            },
            "type": "scattergeo"
           }
          ],
          "scattergl": [
           {
            "marker": {
             "colorbar": {
              "outlinewidth": 0,
              "ticks": ""
             }
            },
            "type": "scattergl"
           }
          ],
          "scattermapbox": [
           {
            "marker": {
             "colorbar": {
              "outlinewidth": 0,
              "ticks": ""
             }
            },
            "type": "scattermapbox"
           }
          ],
          "scatterpolar": [
           {
            "marker": {
             "colorbar": {
              "outlinewidth": 0,
              "ticks": ""
             }
            },
            "type": "scatterpolar"
           }
          ],
          "scatterpolargl": [
           {
            "marker": {
             "colorbar": {
              "outlinewidth": 0,
              "ticks": ""
             }
            },
            "type": "scatterpolargl"
           }
          ],
          "scatterternary": [
           {
            "marker": {
             "colorbar": {
              "outlinewidth": 0,
              "ticks": ""
             }
            },
            "type": "scatterternary"
           }
          ],
          "surface": [
           {
            "colorbar": {
             "outlinewidth": 0,
             "ticks": ""
            },
            "colorscale": [
             [
              0,
              "#0d0887"
             ],
             [
              0.1111111111111111,
              "#46039f"
             ],
             [
              0.2222222222222222,
              "#7201a8"
             ],
             [
              0.3333333333333333,
              "#9c179e"
             ],
             [
              0.4444444444444444,
              "#bd3786"
             ],
             [
              0.5555555555555556,
              "#d8576b"
             ],
             [
              0.6666666666666666,
              "#ed7953"
             ],
             [
              0.7777777777777778,
              "#fb9f3a"
             ],
             [
              0.8888888888888888,
              "#fdca26"
             ],
             [
              1,
              "#f0f921"
             ]
            ],
            "type": "surface"
           }
          ],
          "table": [
           {
            "cells": {
             "fill": {
              "color": "#EBF0F8"
             },
             "line": {
              "color": "white"
             }
            },
            "header": {
             "fill": {
              "color": "#C8D4E3"
             },
             "line": {
              "color": "white"
             }
            },
            "type": "table"
           }
          ]
         },
         "layout": {
          "annotationdefaults": {
           "arrowcolor": "#2a3f5f",
           "arrowhead": 0,
           "arrowwidth": 1
          },
          "autotypenumbers": "strict",
          "coloraxis": {
           "colorbar": {
            "outlinewidth": 0,
            "ticks": ""
           }
          },
          "colorscale": {
           "diverging": [
            [
             0,
             "#8e0152"
            ],
            [
             0.1,
             "#c51b7d"
            ],
            [
             0.2,
             "#de77ae"
            ],
            [
             0.3,
             "#f1b6da"
            ],
            [
             0.4,
             "#fde0ef"
            ],
            [
             0.5,
             "#f7f7f7"
            ],
            [
             0.6,
             "#e6f5d0"
            ],
            [
             0.7,
             "#b8e186"
            ],
            [
             0.8,
             "#7fbc41"
            ],
            [
             0.9,
             "#4d9221"
            ],
            [
             1,
             "#276419"
            ]
           ],
           "sequential": [
            [
             0,
             "#0d0887"
            ],
            [
             0.1111111111111111,
             "#46039f"
            ],
            [
             0.2222222222222222,
             "#7201a8"
            ],
            [
             0.3333333333333333,
             "#9c179e"
            ],
            [
             0.4444444444444444,
             "#bd3786"
            ],
            [
             0.5555555555555556,
             "#d8576b"
            ],
            [
             0.6666666666666666,
             "#ed7953"
            ],
            [
             0.7777777777777778,
             "#fb9f3a"
            ],
            [
             0.8888888888888888,
             "#fdca26"
            ],
            [
             1,
             "#f0f921"
            ]
           ],
           "sequentialminus": [
            [
             0,
             "#0d0887"
            ],
            [
             0.1111111111111111,
             "#46039f"
            ],
            [
             0.2222222222222222,
             "#7201a8"
            ],
            [
             0.3333333333333333,
             "#9c179e"
            ],
            [
             0.4444444444444444,
             "#bd3786"
            ],
            [
             0.5555555555555556,
             "#d8576b"
            ],
            [
             0.6666666666666666,
             "#ed7953"
            ],
            [
             0.7777777777777778,
             "#fb9f3a"
            ],
            [
             0.8888888888888888,
             "#fdca26"
            ],
            [
             1,
             "#f0f921"
            ]
           ]
          },
          "colorway": [
           "#636efa",
           "#EF553B",
           "#00cc96",
           "#ab63fa",
           "#FFA15A",
           "#19d3f3",
           "#FF6692",
           "#B6E880",
           "#FF97FF",
           "#FECB52"
          ],
          "font": {
           "color": "#2a3f5f"
          },
          "geo": {
           "bgcolor": "white",
           "lakecolor": "white",
           "landcolor": "#E5ECF6",
           "showlakes": true,
           "showland": true,
           "subunitcolor": "white"
          },
          "hoverlabel": {
           "align": "left"
          },
          "hovermode": "closest",
          "mapbox": {
           "style": "light"
          },
          "paper_bgcolor": "white",
          "plot_bgcolor": "#E5ECF6",
          "polar": {
           "angularaxis": {
            "gridcolor": "white",
            "linecolor": "white",
            "ticks": ""
           },
           "bgcolor": "#E5ECF6",
           "radialaxis": {
            "gridcolor": "white",
            "linecolor": "white",
            "ticks": ""
           }
          },
          "scene": {
           "xaxis": {
            "backgroundcolor": "#E5ECF6",
            "gridcolor": "white",
            "gridwidth": 2,
            "linecolor": "white",
            "showbackground": true,
            "ticks": "",
            "zerolinecolor": "white"
           },
           "yaxis": {
            "backgroundcolor": "#E5ECF6",
            "gridcolor": "white",
            "gridwidth": 2,
            "linecolor": "white",
            "showbackground": true,
            "ticks": "",
            "zerolinecolor": "white"
           },
           "zaxis": {
            "backgroundcolor": "#E5ECF6",
            "gridcolor": "white",
            "gridwidth": 2,
            "linecolor": "white",
            "showbackground": true,
            "ticks": "",
            "zerolinecolor": "white"
           }
          },
          "shapedefaults": {
           "line": {
            "color": "#2a3f5f"
           }
          },
          "ternary": {
           "aaxis": {
            "gridcolor": "white",
            "linecolor": "white",
            "ticks": ""
           },
           "baxis": {
            "gridcolor": "white",
            "linecolor": "white",
            "ticks": ""
           },
           "bgcolor": "#E5ECF6",
           "caxis": {
            "gridcolor": "white",
            "linecolor": "white",
            "ticks": ""
           }
          },
          "title": {
           "x": 0.05
          },
          "xaxis": {
           "automargin": true,
           "gridcolor": "white",
           "linecolor": "white",
           "ticks": "",
           "title": {
            "standoff": 15
           },
           "zerolinecolor": "white",
           "zerolinewidth": 2
          },
          "yaxis": {
           "automargin": true,
           "gridcolor": "white",
           "linecolor": "white",
           "ticks": "",
           "title": {
            "standoff": 15
           },
           "zerolinecolor": "white",
           "zerolinewidth": 2
          }
         }
        },
        "title": {
         "text": "Histogram of Finance: Team Market"
        },
        "xaxis": {
         "anchor": "y",
         "domain": [
          0,
          1
         ],
         "title": {
          "text": "finance _team_market"
         }
        },
        "yaxis": {
         "anchor": "x",
         "domain": [
          0,
          1
         ],
         "title": {
          "text": "count"
         }
        }
       }
      },
      "text/html": [
       "<div>                            <div id=\"ea0bce6f-2315-4f82-8ad8-68e7c91040bc\" class=\"plotly-graph-div\" style=\"height:525px; width:100%;\"></div>            <script type=\"text/javascript\">                require([\"plotly\"], function(Plotly) {                    window.PLOTLYENV=window.PLOTLYENV || {};                                    if (document.getElementById(\"ea0bce6f-2315-4f82-8ad8-68e7c91040bc\")) {                    Plotly.newPlot(                        \"ea0bce6f-2315-4f82-8ad8-68e7c91040bc\",                        [{\"alignmentgroup\":\"True\",\"bingroup\":\"x\",\"hovertemplate\":\"finance _team_market=%{x}<br>count=%{y}<extra></extra>\",\"legendgroup\":\"\",\"marker\":{\"color\":\"#636efa\",\"pattern\":{\"shape\":\"\"}},\"name\":\"\",\"nbinsx\":10,\"offsetgroup\":\"\",\"orientation\":\"v\",\"showlegend\":false,\"type\":\"histogram\",\"x\":[1003200000,836440000,779460000,735240000,701800000,550440000,369600000,305360000,284240000,234212000,229240000,223520000,214060000,200288000,176440000,160072000,152680000,152020000,106920000,85492000],\"xaxis\":\"x\",\"yaxis\":\"y\"}],                        {\"barmode\":\"relative\",\"legend\":{\"tracegroupgap\":0},\"template\":{\"data\":{\"bar\":[{\"error_x\":{\"color\":\"#2a3f5f\"},\"error_y\":{\"color\":\"#2a3f5f\"},\"marker\":{\"line\":{\"color\":\"#E5ECF6\",\"width\":0.5},\"pattern\":{\"fillmode\":\"overlay\",\"size\":10,\"solidity\":0.2}},\"type\":\"bar\"}],\"barpolar\":[{\"marker\":{\"line\":{\"color\":\"#E5ECF6\",\"width\":0.5},\"pattern\":{\"fillmode\":\"overlay\",\"size\":10,\"solidity\":0.2}},\"type\":\"barpolar\"}],\"carpet\":[{\"aaxis\":{\"endlinecolor\":\"#2a3f5f\",\"gridcolor\":\"white\",\"linecolor\":\"white\",\"minorgridcolor\":\"white\",\"startlinecolor\":\"#2a3f5f\"},\"baxis\":{\"endlinecolor\":\"#2a3f5f\",\"gridcolor\":\"white\",\"linecolor\":\"white\",\"minorgridcolor\":\"white\",\"startlinecolor\":\"#2a3f5f\"},\"type\":\"carpet\"}],\"choropleth\":[{\"colorbar\":{\"outlinewidth\":0,\"ticks\":\"\"},\"type\":\"choropleth\"}],\"contour\":[{\"colorbar\":{\"outlinewidth\":0,\"ticks\":\"\"},\"colorscale\":[[0.0,\"#0d0887\"],[0.1111111111111111,\"#46039f\"],[0.2222222222222222,\"#7201a8\"],[0.3333333333333333,\"#9c179e\"],[0.4444444444444444,\"#bd3786\"],[0.5555555555555556,\"#d8576b\"],[0.6666666666666666,\"#ed7953\"],[0.7777777777777778,\"#fb9f3a\"],[0.8888888888888888,\"#fdca26\"],[1.0,\"#f0f921\"]],\"type\":\"contour\"}],\"contourcarpet\":[{\"colorbar\":{\"outlinewidth\":0,\"ticks\":\"\"},\"type\":\"contourcarpet\"}],\"heatmap\":[{\"colorbar\":{\"outlinewidth\":0,\"ticks\":\"\"},\"colorscale\":[[0.0,\"#0d0887\"],[0.1111111111111111,\"#46039f\"],[0.2222222222222222,\"#7201a8\"],[0.3333333333333333,\"#9c179e\"],[0.4444444444444444,\"#bd3786\"],[0.5555555555555556,\"#d8576b\"],[0.6666666666666666,\"#ed7953\"],[0.7777777777777778,\"#fb9f3a\"],[0.8888888888888888,\"#fdca26\"],[1.0,\"#f0f921\"]],\"type\":\"heatmap\"}],\"heatmapgl\":[{\"colorbar\":{\"outlinewidth\":0,\"ticks\":\"\"},\"colorscale\":[[0.0,\"#0d0887\"],[0.1111111111111111,\"#46039f\"],[0.2222222222222222,\"#7201a8\"],[0.3333333333333333,\"#9c179e\"],[0.4444444444444444,\"#bd3786\"],[0.5555555555555556,\"#d8576b\"],[0.6666666666666666,\"#ed7953\"],[0.7777777777777778,\"#fb9f3a\"],[0.8888888888888888,\"#fdca26\"],[1.0,\"#f0f921\"]],\"type\":\"heatmapgl\"}],\"histogram\":[{\"marker\":{\"pattern\":{\"fillmode\":\"overlay\",\"size\":10,\"solidity\":0.2}},\"type\":\"histogram\"}],\"histogram2d\":[{\"colorbar\":{\"outlinewidth\":0,\"ticks\":\"\"},\"colorscale\":[[0.0,\"#0d0887\"],[0.1111111111111111,\"#46039f\"],[0.2222222222222222,\"#7201a8\"],[0.3333333333333333,\"#9c179e\"],[0.4444444444444444,\"#bd3786\"],[0.5555555555555556,\"#d8576b\"],[0.6666666666666666,\"#ed7953\"],[0.7777777777777778,\"#fb9f3a\"],[0.8888888888888888,\"#fdca26\"],[1.0,\"#f0f921\"]],\"type\":\"histogram2d\"}],\"histogram2dcontour\":[{\"colorbar\":{\"outlinewidth\":0,\"ticks\":\"\"},\"colorscale\":[[0.0,\"#0d0887\"],[0.1111111111111111,\"#46039f\"],[0.2222222222222222,\"#7201a8\"],[0.3333333333333333,\"#9c179e\"],[0.4444444444444444,\"#bd3786\"],[0.5555555555555556,\"#d8576b\"],[0.6666666666666666,\"#ed7953\"],[0.7777777777777778,\"#fb9f3a\"],[0.8888888888888888,\"#fdca26\"],[1.0,\"#f0f921\"]],\"type\":\"histogram2dcontour\"}],\"mesh3d\":[{\"colorbar\":{\"outlinewidth\":0,\"ticks\":\"\"},\"type\":\"mesh3d\"}],\"parcoords\":[{\"line\":{\"colorbar\":{\"outlinewidth\":0,\"ticks\":\"\"}},\"type\":\"parcoords\"}],\"pie\":[{\"automargin\":true,\"type\":\"pie\"}],\"scatter\":[{\"marker\":{\"colorbar\":{\"outlinewidth\":0,\"ticks\":\"\"}},\"type\":\"scatter\"}],\"scatter3d\":[{\"line\":{\"colorbar\":{\"outlinewidth\":0,\"ticks\":\"\"}},\"marker\":{\"colorbar\":{\"outlinewidth\":0,\"ticks\":\"\"}},\"type\":\"scatter3d\"}],\"scattercarpet\":[{\"marker\":{\"colorbar\":{\"outlinewidth\":0,\"ticks\":\"\"}},\"type\":\"scattercarpet\"}],\"scattergeo\":[{\"marker\":{\"colorbar\":{\"outlinewidth\":0,\"ticks\":\"\"}},\"type\":\"scattergeo\"}],\"scattergl\":[{\"marker\":{\"colorbar\":{\"outlinewidth\":0,\"ticks\":\"\"}},\"type\":\"scattergl\"}],\"scattermapbox\":[{\"marker\":{\"colorbar\":{\"outlinewidth\":0,\"ticks\":\"\"}},\"type\":\"scattermapbox\"}],\"scatterpolar\":[{\"marker\":{\"colorbar\":{\"outlinewidth\":0,\"ticks\":\"\"}},\"type\":\"scatterpolar\"}],\"scatterpolargl\":[{\"marker\":{\"colorbar\":{\"outlinewidth\":0,\"ticks\":\"\"}},\"type\":\"scatterpolargl\"}],\"scatterternary\":[{\"marker\":{\"colorbar\":{\"outlinewidth\":0,\"ticks\":\"\"}},\"type\":\"scatterternary\"}],\"surface\":[{\"colorbar\":{\"outlinewidth\":0,\"ticks\":\"\"},\"colorscale\":[[0.0,\"#0d0887\"],[0.1111111111111111,\"#46039f\"],[0.2222222222222222,\"#7201a8\"],[0.3333333333333333,\"#9c179e\"],[0.4444444444444444,\"#bd3786\"],[0.5555555555555556,\"#d8576b\"],[0.6666666666666666,\"#ed7953\"],[0.7777777777777778,\"#fb9f3a\"],[0.8888888888888888,\"#fdca26\"],[1.0,\"#f0f921\"]],\"type\":\"surface\"}],\"table\":[{\"cells\":{\"fill\":{\"color\":\"#EBF0F8\"},\"line\":{\"color\":\"white\"}},\"header\":{\"fill\":{\"color\":\"#C8D4E3\"},\"line\":{\"color\":\"white\"}},\"type\":\"table\"}]},\"layout\":{\"annotationdefaults\":{\"arrowcolor\":\"#2a3f5f\",\"arrowhead\":0,\"arrowwidth\":1},\"autotypenumbers\":\"strict\",\"coloraxis\":{\"colorbar\":{\"outlinewidth\":0,\"ticks\":\"\"}},\"colorscale\":{\"diverging\":[[0,\"#8e0152\"],[0.1,\"#c51b7d\"],[0.2,\"#de77ae\"],[0.3,\"#f1b6da\"],[0.4,\"#fde0ef\"],[0.5,\"#f7f7f7\"],[0.6,\"#e6f5d0\"],[0.7,\"#b8e186\"],[0.8,\"#7fbc41\"],[0.9,\"#4d9221\"],[1,\"#276419\"]],\"sequential\":[[0.0,\"#0d0887\"],[0.1111111111111111,\"#46039f\"],[0.2222222222222222,\"#7201a8\"],[0.3333333333333333,\"#9c179e\"],[0.4444444444444444,\"#bd3786\"],[0.5555555555555556,\"#d8576b\"],[0.6666666666666666,\"#ed7953\"],[0.7777777777777778,\"#fb9f3a\"],[0.8888888888888888,\"#fdca26\"],[1.0,\"#f0f921\"]],\"sequentialminus\":[[0.0,\"#0d0887\"],[0.1111111111111111,\"#46039f\"],[0.2222222222222222,\"#7201a8\"],[0.3333333333333333,\"#9c179e\"],[0.4444444444444444,\"#bd3786\"],[0.5555555555555556,\"#d8576b\"],[0.6666666666666666,\"#ed7953\"],[0.7777777777777778,\"#fb9f3a\"],[0.8888888888888888,\"#fdca26\"],[1.0,\"#f0f921\"]]},\"colorway\":[\"#636efa\",\"#EF553B\",\"#00cc96\",\"#ab63fa\",\"#FFA15A\",\"#19d3f3\",\"#FF6692\",\"#B6E880\",\"#FF97FF\",\"#FECB52\"],\"font\":{\"color\":\"#2a3f5f\"},\"geo\":{\"bgcolor\":\"white\",\"lakecolor\":\"white\",\"landcolor\":\"#E5ECF6\",\"showlakes\":true,\"showland\":true,\"subunitcolor\":\"white\"},\"hoverlabel\":{\"align\":\"left\"},\"hovermode\":\"closest\",\"mapbox\":{\"style\":\"light\"},\"paper_bgcolor\":\"white\",\"plot_bgcolor\":\"#E5ECF6\",\"polar\":{\"angularaxis\":{\"gridcolor\":\"white\",\"linecolor\":\"white\",\"ticks\":\"\"},\"bgcolor\":\"#E5ECF6\",\"radialaxis\":{\"gridcolor\":\"white\",\"linecolor\":\"white\",\"ticks\":\"\"}},\"scene\":{\"xaxis\":{\"backgroundcolor\":\"#E5ECF6\",\"gridcolor\":\"white\",\"gridwidth\":2,\"linecolor\":\"white\",\"showbackground\":true,\"ticks\":\"\",\"zerolinecolor\":\"white\"},\"yaxis\":{\"backgroundcolor\":\"#E5ECF6\",\"gridcolor\":\"white\",\"gridwidth\":2,\"linecolor\":\"white\",\"showbackground\":true,\"ticks\":\"\",\"zerolinecolor\":\"white\"},\"zaxis\":{\"backgroundcolor\":\"#E5ECF6\",\"gridcolor\":\"white\",\"gridwidth\":2,\"linecolor\":\"white\",\"showbackground\":true,\"ticks\":\"\",\"zerolinecolor\":\"white\"}},\"shapedefaults\":{\"line\":{\"color\":\"#2a3f5f\"}},\"ternary\":{\"aaxis\":{\"gridcolor\":\"white\",\"linecolor\":\"white\",\"ticks\":\"\"},\"baxis\":{\"gridcolor\":\"white\",\"linecolor\":\"white\",\"ticks\":\"\"},\"bgcolor\":\"#E5ECF6\",\"caxis\":{\"gridcolor\":\"white\",\"linecolor\":\"white\",\"ticks\":\"\"}},\"title\":{\"x\":0.05},\"xaxis\":{\"automargin\":true,\"gridcolor\":\"white\",\"linecolor\":\"white\",\"ticks\":\"\",\"title\":{\"standoff\":15},\"zerolinecolor\":\"white\",\"zerolinewidth\":2},\"yaxis\":{\"automargin\":true,\"gridcolor\":\"white\",\"linecolor\":\"white\",\"ticks\":\"\",\"title\":{\"standoff\":15},\"zerolinecolor\":\"white\",\"zerolinewidth\":2}}},\"title\":{\"text\":\"Histogram of Finance: Team Market\"},\"xaxis\":{\"anchor\":\"y\",\"domain\":[0.0,1.0],\"title\":{\"text\":\"finance _team_market\"}},\"yaxis\":{\"anchor\":\"x\",\"domain\":[0.0,1.0],\"title\":{\"text\":\"count\"}}},                        {\"responsive\": true}                    ).then(function(){\n",
       "                            \n",
       "var gd = document.getElementById('ea0bce6f-2315-4f82-8ad8-68e7c91040bc');\n",
       "var x = new MutationObserver(function (mutations, observer) {{\n",
       "        var display = window.getComputedStyle(gd).display;\n",
       "        if (!display || display === 'none') {{\n",
       "            console.log([gd, 'removed!']);\n",
       "            Plotly.purge(gd);\n",
       "            observer.disconnect();\n",
       "        }}\n",
       "}});\n",
       "\n",
       "// Listen for the removal of the full notebook cells\n",
       "var notebookContainer = gd.closest('#notebook-container');\n",
       "if (notebookContainer) {{\n",
       "    x.observe(notebookContainer, {childList: true});\n",
       "}}\n",
       "\n",
       "// Listen for the clearing of the current output cell\n",
       "var outputEl = gd.closest('.output');\n",
       "if (outputEl) {{\n",
       "    x.observe(outputEl, {childList: true});\n",
       "}}\n",
       "\n",
       "                        })                };                });            </script>        </div>"
      ]
     },
     "metadata": {},
     "output_type": "display_data"
    }
   ],
   "source": [
    "fig_3 = epl_dataset.plot.hist(x = 'finance _team_market', title = 'Histogram of Finance: Team Market', nbins = 10)\n",
    "fig_3.show()"
   ]
  },
  {
   "cell_type": "code",
   "execution_count": 36,
   "id": "db2c4284",
   "metadata": {},
   "outputs": [
    {
     "data": {
      "application/vnd.plotly.v1+json": {
       "config": {
        "plotlyServerURL": "https://plot.ly"
       },
       "data": [
        {
         "alignmentgroup": "True",
         "hovertemplate": "finance _team_market=%{x}<extra></extra>",
         "legendgroup": "",
         "marker": {
          "color": "#636efa"
         },
         "name": "",
         "notched": false,
         "offsetgroup": "",
         "orientation": "h",
         "showlegend": false,
         "type": "box",
         "x": [
          1003200000,
          836440000,
          779460000,
          735240000,
          701800000,
          550440000,
          369600000,
          305360000,
          284240000,
          234212000,
          229240000,
          223520000,
          214060000,
          200288000,
          176440000,
          160072000,
          152680000,
          152020000,
          106920000,
          85492000
         ],
         "x0": " ",
         "xaxis": "x",
         "y0": " ",
         "yaxis": "y"
        }
       ],
       "layout": {
        "boxmode": "group",
        "legend": {
         "tracegroupgap": 0
        },
        "margin": {
         "t": 60
        },
        "template": {
         "data": {
          "bar": [
           {
            "error_x": {
             "color": "#2a3f5f"
            },
            "error_y": {
             "color": "#2a3f5f"
            },
            "marker": {
             "line": {
              "color": "#E5ECF6",
              "width": 0.5
             },
             "pattern": {
              "fillmode": "overlay",
              "size": 10,
              "solidity": 0.2
             }
            },
            "type": "bar"
           }
          ],
          "barpolar": [
           {
            "marker": {
             "line": {
              "color": "#E5ECF6",
              "width": 0.5
             },
             "pattern": {
              "fillmode": "overlay",
              "size": 10,
              "solidity": 0.2
             }
            },
            "type": "barpolar"
           }
          ],
          "carpet": [
           {
            "aaxis": {
             "endlinecolor": "#2a3f5f",
             "gridcolor": "white",
             "linecolor": "white",
             "minorgridcolor": "white",
             "startlinecolor": "#2a3f5f"
            },
            "baxis": {
             "endlinecolor": "#2a3f5f",
             "gridcolor": "white",
             "linecolor": "white",
             "minorgridcolor": "white",
             "startlinecolor": "#2a3f5f"
            },
            "type": "carpet"
           }
          ],
          "choropleth": [
           {
            "colorbar": {
             "outlinewidth": 0,
             "ticks": ""
            },
            "type": "choropleth"
           }
          ],
          "contour": [
           {
            "colorbar": {
             "outlinewidth": 0,
             "ticks": ""
            },
            "colorscale": [
             [
              0,
              "#0d0887"
             ],
             [
              0.1111111111111111,
              "#46039f"
             ],
             [
              0.2222222222222222,
              "#7201a8"
             ],
             [
              0.3333333333333333,
              "#9c179e"
             ],
             [
              0.4444444444444444,
              "#bd3786"
             ],
             [
              0.5555555555555556,
              "#d8576b"
             ],
             [
              0.6666666666666666,
              "#ed7953"
             ],
             [
              0.7777777777777778,
              "#fb9f3a"
             ],
             [
              0.8888888888888888,
              "#fdca26"
             ],
             [
              1,
              "#f0f921"
             ]
            ],
            "type": "contour"
           }
          ],
          "contourcarpet": [
           {
            "colorbar": {
             "outlinewidth": 0,
             "ticks": ""
            },
            "type": "contourcarpet"
           }
          ],
          "heatmap": [
           {
            "colorbar": {
             "outlinewidth": 0,
             "ticks": ""
            },
            "colorscale": [
             [
              0,
              "#0d0887"
             ],
             [
              0.1111111111111111,
              "#46039f"
             ],
             [
              0.2222222222222222,
              "#7201a8"
             ],
             [
              0.3333333333333333,
              "#9c179e"
             ],
             [
              0.4444444444444444,
              "#bd3786"
             ],
             [
              0.5555555555555556,
              "#d8576b"
             ],
             [
              0.6666666666666666,
              "#ed7953"
             ],
             [
              0.7777777777777778,
              "#fb9f3a"
             ],
             [
              0.8888888888888888,
              "#fdca26"
             ],
             [
              1,
              "#f0f921"
             ]
            ],
            "type": "heatmap"
           }
          ],
          "heatmapgl": [
           {
            "colorbar": {
             "outlinewidth": 0,
             "ticks": ""
            },
            "colorscale": [
             [
              0,
              "#0d0887"
             ],
             [
              0.1111111111111111,
              "#46039f"
             ],
             [
              0.2222222222222222,
              "#7201a8"
             ],
             [
              0.3333333333333333,
              "#9c179e"
             ],
             [
              0.4444444444444444,
              "#bd3786"
             ],
             [
              0.5555555555555556,
              "#d8576b"
             ],
             [
              0.6666666666666666,
              "#ed7953"
             ],
             [
              0.7777777777777778,
              "#fb9f3a"
             ],
             [
              0.8888888888888888,
              "#fdca26"
             ],
             [
              1,
              "#f0f921"
             ]
            ],
            "type": "heatmapgl"
           }
          ],
          "histogram": [
           {
            "marker": {
             "pattern": {
              "fillmode": "overlay",
              "size": 10,
              "solidity": 0.2
             }
            },
            "type": "histogram"
           }
          ],
          "histogram2d": [
           {
            "colorbar": {
             "outlinewidth": 0,
             "ticks": ""
            },
            "colorscale": [
             [
              0,
              "#0d0887"
             ],
             [
              0.1111111111111111,
              "#46039f"
             ],
             [
              0.2222222222222222,
              "#7201a8"
             ],
             [
              0.3333333333333333,
              "#9c179e"
             ],
             [
              0.4444444444444444,
              "#bd3786"
             ],
             [
              0.5555555555555556,
              "#d8576b"
             ],
             [
              0.6666666666666666,
              "#ed7953"
             ],
             [
              0.7777777777777778,
              "#fb9f3a"
             ],
             [
              0.8888888888888888,
              "#fdca26"
             ],
             [
              1,
              "#f0f921"
             ]
            ],
            "type": "histogram2d"
           }
          ],
          "histogram2dcontour": [
           {
            "colorbar": {
             "outlinewidth": 0,
             "ticks": ""
            },
            "colorscale": [
             [
              0,
              "#0d0887"
             ],
             [
              0.1111111111111111,
              "#46039f"
             ],
             [
              0.2222222222222222,
              "#7201a8"
             ],
             [
              0.3333333333333333,
              "#9c179e"
             ],
             [
              0.4444444444444444,
              "#bd3786"
             ],
             [
              0.5555555555555556,
              "#d8576b"
             ],
             [
              0.6666666666666666,
              "#ed7953"
             ],
             [
              0.7777777777777778,
              "#fb9f3a"
             ],
             [
              0.8888888888888888,
              "#fdca26"
             ],
             [
              1,
              "#f0f921"
             ]
            ],
            "type": "histogram2dcontour"
           }
          ],
          "mesh3d": [
           {
            "colorbar": {
             "outlinewidth": 0,
             "ticks": ""
            },
            "type": "mesh3d"
           }
          ],
          "parcoords": [
           {
            "line": {
             "colorbar": {
              "outlinewidth": 0,
              "ticks": ""
             }
            },
            "type": "parcoords"
           }
          ],
          "pie": [
           {
            "automargin": true,
            "type": "pie"
           }
          ],
          "scatter": [
           {
            "marker": {
             "colorbar": {
              "outlinewidth": 0,
              "ticks": ""
             }
            },
            "type": "scatter"
           }
          ],
          "scatter3d": [
           {
            "line": {
             "colorbar": {
              "outlinewidth": 0,
              "ticks": ""
             }
            },
            "marker": {
             "colorbar": {
              "outlinewidth": 0,
              "ticks": ""
             }
            },
            "type": "scatter3d"
           }
          ],
          "scattercarpet": [
           {
            "marker": {
             "colorbar": {
              "outlinewidth": 0,
              "ticks": ""
             }
            },
            "type": "scattercarpet"
           }
          ],
          "scattergeo": [
           {
            "marker": {
             "colorbar": {
              "outlinewidth": 0,
              "ticks": ""
             }
            },
            "type": "scattergeo"
           }
          ],
          "scattergl": [
           {
            "marker": {
             "colorbar": {
              "outlinewidth": 0,
              "ticks": ""
             }
            },
            "type": "scattergl"
           }
          ],
          "scattermapbox": [
           {
            "marker": {
             "colorbar": {
              "outlinewidth": 0,
              "ticks": ""
             }
            },
            "type": "scattermapbox"
           }
          ],
          "scatterpolar": [
           {
            "marker": {
             "colorbar": {
              "outlinewidth": 0,
              "ticks": ""
             }
            },
            "type": "scatterpolar"
           }
          ],
          "scatterpolargl": [
           {
            "marker": {
             "colorbar": {
              "outlinewidth": 0,
              "ticks": ""
             }
            },
            "type": "scatterpolargl"
           }
          ],
          "scatterternary": [
           {
            "marker": {
             "colorbar": {
              "outlinewidth": 0,
              "ticks": ""
             }
            },
            "type": "scatterternary"
           }
          ],
          "surface": [
           {
            "colorbar": {
             "outlinewidth": 0,
             "ticks": ""
            },
            "colorscale": [
             [
              0,
              "#0d0887"
             ],
             [
              0.1111111111111111,
              "#46039f"
             ],
             [
              0.2222222222222222,
              "#7201a8"
             ],
             [
              0.3333333333333333,
              "#9c179e"
             ],
             [
              0.4444444444444444,
              "#bd3786"
             ],
             [
              0.5555555555555556,
              "#d8576b"
             ],
             [
              0.6666666666666666,
              "#ed7953"
             ],
             [
              0.7777777777777778,
              "#fb9f3a"
             ],
             [
              0.8888888888888888,
              "#fdca26"
             ],
             [
              1,
              "#f0f921"
             ]
            ],
            "type": "surface"
           }
          ],
          "table": [
           {
            "cells": {
             "fill": {
              "color": "#EBF0F8"
             },
             "line": {
              "color": "white"
             }
            },
            "header": {
             "fill": {
              "color": "#C8D4E3"
             },
             "line": {
              "color": "white"
             }
            },
            "type": "table"
           }
          ]
         },
         "layout": {
          "annotationdefaults": {
           "arrowcolor": "#2a3f5f",
           "arrowhead": 0,
           "arrowwidth": 1
          },
          "autotypenumbers": "strict",
          "coloraxis": {
           "colorbar": {
            "outlinewidth": 0,
            "ticks": ""
           }
          },
          "colorscale": {
           "diverging": [
            [
             0,
             "#8e0152"
            ],
            [
             0.1,
             "#c51b7d"
            ],
            [
             0.2,
             "#de77ae"
            ],
            [
             0.3,
             "#f1b6da"
            ],
            [
             0.4,
             "#fde0ef"
            ],
            [
             0.5,
             "#f7f7f7"
            ],
            [
             0.6,
             "#e6f5d0"
            ],
            [
             0.7,
             "#b8e186"
            ],
            [
             0.8,
             "#7fbc41"
            ],
            [
             0.9,
             "#4d9221"
            ],
            [
             1,
             "#276419"
            ]
           ],
           "sequential": [
            [
             0,
             "#0d0887"
            ],
            [
             0.1111111111111111,
             "#46039f"
            ],
            [
             0.2222222222222222,
             "#7201a8"
            ],
            [
             0.3333333333333333,
             "#9c179e"
            ],
            [
             0.4444444444444444,
             "#bd3786"
            ],
            [
             0.5555555555555556,
             "#d8576b"
            ],
            [
             0.6666666666666666,
             "#ed7953"
            ],
            [
             0.7777777777777778,
             "#fb9f3a"
            ],
            [
             0.8888888888888888,
             "#fdca26"
            ],
            [
             1,
             "#f0f921"
            ]
           ],
           "sequentialminus": [
            [
             0,
             "#0d0887"
            ],
            [
             0.1111111111111111,
             "#46039f"
            ],
            [
             0.2222222222222222,
             "#7201a8"
            ],
            [
             0.3333333333333333,
             "#9c179e"
            ],
            [
             0.4444444444444444,
             "#bd3786"
            ],
            [
             0.5555555555555556,
             "#d8576b"
            ],
            [
             0.6666666666666666,
             "#ed7953"
            ],
            [
             0.7777777777777778,
             "#fb9f3a"
            ],
            [
             0.8888888888888888,
             "#fdca26"
            ],
            [
             1,
             "#f0f921"
            ]
           ]
          },
          "colorway": [
           "#636efa",
           "#EF553B",
           "#00cc96",
           "#ab63fa",
           "#FFA15A",
           "#19d3f3",
           "#FF6692",
           "#B6E880",
           "#FF97FF",
           "#FECB52"
          ],
          "font": {
           "color": "#2a3f5f"
          },
          "geo": {
           "bgcolor": "white",
           "lakecolor": "white",
           "landcolor": "#E5ECF6",
           "showlakes": true,
           "showland": true,
           "subunitcolor": "white"
          },
          "hoverlabel": {
           "align": "left"
          },
          "hovermode": "closest",
          "mapbox": {
           "style": "light"
          },
          "paper_bgcolor": "white",
          "plot_bgcolor": "#E5ECF6",
          "polar": {
           "angularaxis": {
            "gridcolor": "white",
            "linecolor": "white",
            "ticks": ""
           },
           "bgcolor": "#E5ECF6",
           "radialaxis": {
            "gridcolor": "white",
            "linecolor": "white",
            "ticks": ""
           }
          },
          "scene": {
           "xaxis": {
            "backgroundcolor": "#E5ECF6",
            "gridcolor": "white",
            "gridwidth": 2,
            "linecolor": "white",
            "showbackground": true,
            "ticks": "",
            "zerolinecolor": "white"
           },
           "yaxis": {
            "backgroundcolor": "#E5ECF6",
            "gridcolor": "white",
            "gridwidth": 2,
            "linecolor": "white",
            "showbackground": true,
            "ticks": "",
            "zerolinecolor": "white"
           },
           "zaxis": {
            "backgroundcolor": "#E5ECF6",
            "gridcolor": "white",
            "gridwidth": 2,
            "linecolor": "white",
            "showbackground": true,
            "ticks": "",
            "zerolinecolor": "white"
           }
          },
          "shapedefaults": {
           "line": {
            "color": "#2a3f5f"
           }
          },
          "ternary": {
           "aaxis": {
            "gridcolor": "white",
            "linecolor": "white",
            "ticks": ""
           },
           "baxis": {
            "gridcolor": "white",
            "linecolor": "white",
            "ticks": ""
           },
           "bgcolor": "#E5ECF6",
           "caxis": {
            "gridcolor": "white",
            "linecolor": "white",
            "ticks": ""
           }
          },
          "title": {
           "x": 0.05
          },
          "xaxis": {
           "automargin": true,
           "gridcolor": "white",
           "linecolor": "white",
           "ticks": "",
           "title": {
            "standoff": 15
           },
           "zerolinecolor": "white",
           "zerolinewidth": 2
          },
          "yaxis": {
           "automargin": true,
           "gridcolor": "white",
           "linecolor": "white",
           "ticks": "",
           "title": {
            "standoff": 15
           },
           "zerolinecolor": "white",
           "zerolinewidth": 2
          }
         }
        },
        "xaxis": {
         "anchor": "y",
         "domain": [
          0,
          1
         ],
         "title": {
          "text": "finance _team_market"
         }
        },
        "yaxis": {
         "anchor": "x",
         "domain": [
          0,
          1
         ]
        }
       }
      },
      "text/html": [
       "<div>                            <div id=\"5c4681d1-0454-4655-aa18-b24b3f24282f\" class=\"plotly-graph-div\" style=\"height:525px; width:100%;\"></div>            <script type=\"text/javascript\">                require([\"plotly\"], function(Plotly) {                    window.PLOTLYENV=window.PLOTLYENV || {};                                    if (document.getElementById(\"5c4681d1-0454-4655-aa18-b24b3f24282f\")) {                    Plotly.newPlot(                        \"5c4681d1-0454-4655-aa18-b24b3f24282f\",                        [{\"alignmentgroup\":\"True\",\"hovertemplate\":\"finance _team_market=%{x}<extra></extra>\",\"legendgroup\":\"\",\"marker\":{\"color\":\"#636efa\"},\"name\":\"\",\"notched\":false,\"offsetgroup\":\"\",\"orientation\":\"h\",\"showlegend\":false,\"type\":\"box\",\"x\":[1003200000,836440000,779460000,735240000,701800000,550440000,369600000,305360000,284240000,234212000,229240000,223520000,214060000,200288000,176440000,160072000,152680000,152020000,106920000,85492000],\"x0\":\" \",\"xaxis\":\"x\",\"y0\":\" \",\"yaxis\":\"y\"}],                        {\"boxmode\":\"group\",\"legend\":{\"tracegroupgap\":0},\"margin\":{\"t\":60},\"template\":{\"data\":{\"bar\":[{\"error_x\":{\"color\":\"#2a3f5f\"},\"error_y\":{\"color\":\"#2a3f5f\"},\"marker\":{\"line\":{\"color\":\"#E5ECF6\",\"width\":0.5},\"pattern\":{\"fillmode\":\"overlay\",\"size\":10,\"solidity\":0.2}},\"type\":\"bar\"}],\"barpolar\":[{\"marker\":{\"line\":{\"color\":\"#E5ECF6\",\"width\":0.5},\"pattern\":{\"fillmode\":\"overlay\",\"size\":10,\"solidity\":0.2}},\"type\":\"barpolar\"}],\"carpet\":[{\"aaxis\":{\"endlinecolor\":\"#2a3f5f\",\"gridcolor\":\"white\",\"linecolor\":\"white\",\"minorgridcolor\":\"white\",\"startlinecolor\":\"#2a3f5f\"},\"baxis\":{\"endlinecolor\":\"#2a3f5f\",\"gridcolor\":\"white\",\"linecolor\":\"white\",\"minorgridcolor\":\"white\",\"startlinecolor\":\"#2a3f5f\"},\"type\":\"carpet\"}],\"choropleth\":[{\"colorbar\":{\"outlinewidth\":0,\"ticks\":\"\"},\"type\":\"choropleth\"}],\"contour\":[{\"colorbar\":{\"outlinewidth\":0,\"ticks\":\"\"},\"colorscale\":[[0.0,\"#0d0887\"],[0.1111111111111111,\"#46039f\"],[0.2222222222222222,\"#7201a8\"],[0.3333333333333333,\"#9c179e\"],[0.4444444444444444,\"#bd3786\"],[0.5555555555555556,\"#d8576b\"],[0.6666666666666666,\"#ed7953\"],[0.7777777777777778,\"#fb9f3a\"],[0.8888888888888888,\"#fdca26\"],[1.0,\"#f0f921\"]],\"type\":\"contour\"}],\"contourcarpet\":[{\"colorbar\":{\"outlinewidth\":0,\"ticks\":\"\"},\"type\":\"contourcarpet\"}],\"heatmap\":[{\"colorbar\":{\"outlinewidth\":0,\"ticks\":\"\"},\"colorscale\":[[0.0,\"#0d0887\"],[0.1111111111111111,\"#46039f\"],[0.2222222222222222,\"#7201a8\"],[0.3333333333333333,\"#9c179e\"],[0.4444444444444444,\"#bd3786\"],[0.5555555555555556,\"#d8576b\"],[0.6666666666666666,\"#ed7953\"],[0.7777777777777778,\"#fb9f3a\"],[0.8888888888888888,\"#fdca26\"],[1.0,\"#f0f921\"]],\"type\":\"heatmap\"}],\"heatmapgl\":[{\"colorbar\":{\"outlinewidth\":0,\"ticks\":\"\"},\"colorscale\":[[0.0,\"#0d0887\"],[0.1111111111111111,\"#46039f\"],[0.2222222222222222,\"#7201a8\"],[0.3333333333333333,\"#9c179e\"],[0.4444444444444444,\"#bd3786\"],[0.5555555555555556,\"#d8576b\"],[0.6666666666666666,\"#ed7953\"],[0.7777777777777778,\"#fb9f3a\"],[0.8888888888888888,\"#fdca26\"],[1.0,\"#f0f921\"]],\"type\":\"heatmapgl\"}],\"histogram\":[{\"marker\":{\"pattern\":{\"fillmode\":\"overlay\",\"size\":10,\"solidity\":0.2}},\"type\":\"histogram\"}],\"histogram2d\":[{\"colorbar\":{\"outlinewidth\":0,\"ticks\":\"\"},\"colorscale\":[[0.0,\"#0d0887\"],[0.1111111111111111,\"#46039f\"],[0.2222222222222222,\"#7201a8\"],[0.3333333333333333,\"#9c179e\"],[0.4444444444444444,\"#bd3786\"],[0.5555555555555556,\"#d8576b\"],[0.6666666666666666,\"#ed7953\"],[0.7777777777777778,\"#fb9f3a\"],[0.8888888888888888,\"#fdca26\"],[1.0,\"#f0f921\"]],\"type\":\"histogram2d\"}],\"histogram2dcontour\":[{\"colorbar\":{\"outlinewidth\":0,\"ticks\":\"\"},\"colorscale\":[[0.0,\"#0d0887\"],[0.1111111111111111,\"#46039f\"],[0.2222222222222222,\"#7201a8\"],[0.3333333333333333,\"#9c179e\"],[0.4444444444444444,\"#bd3786\"],[0.5555555555555556,\"#d8576b\"],[0.6666666666666666,\"#ed7953\"],[0.7777777777777778,\"#fb9f3a\"],[0.8888888888888888,\"#fdca26\"],[1.0,\"#f0f921\"]],\"type\":\"histogram2dcontour\"}],\"mesh3d\":[{\"colorbar\":{\"outlinewidth\":0,\"ticks\":\"\"},\"type\":\"mesh3d\"}],\"parcoords\":[{\"line\":{\"colorbar\":{\"outlinewidth\":0,\"ticks\":\"\"}},\"type\":\"parcoords\"}],\"pie\":[{\"automargin\":true,\"type\":\"pie\"}],\"scatter\":[{\"marker\":{\"colorbar\":{\"outlinewidth\":0,\"ticks\":\"\"}},\"type\":\"scatter\"}],\"scatter3d\":[{\"line\":{\"colorbar\":{\"outlinewidth\":0,\"ticks\":\"\"}},\"marker\":{\"colorbar\":{\"outlinewidth\":0,\"ticks\":\"\"}},\"type\":\"scatter3d\"}],\"scattercarpet\":[{\"marker\":{\"colorbar\":{\"outlinewidth\":0,\"ticks\":\"\"}},\"type\":\"scattercarpet\"}],\"scattergeo\":[{\"marker\":{\"colorbar\":{\"outlinewidth\":0,\"ticks\":\"\"}},\"type\":\"scattergeo\"}],\"scattergl\":[{\"marker\":{\"colorbar\":{\"outlinewidth\":0,\"ticks\":\"\"}},\"type\":\"scattergl\"}],\"scattermapbox\":[{\"marker\":{\"colorbar\":{\"outlinewidth\":0,\"ticks\":\"\"}},\"type\":\"scattermapbox\"}],\"scatterpolar\":[{\"marker\":{\"colorbar\":{\"outlinewidth\":0,\"ticks\":\"\"}},\"type\":\"scatterpolar\"}],\"scatterpolargl\":[{\"marker\":{\"colorbar\":{\"outlinewidth\":0,\"ticks\":\"\"}},\"type\":\"scatterpolargl\"}],\"scatterternary\":[{\"marker\":{\"colorbar\":{\"outlinewidth\":0,\"ticks\":\"\"}},\"type\":\"scatterternary\"}],\"surface\":[{\"colorbar\":{\"outlinewidth\":0,\"ticks\":\"\"},\"colorscale\":[[0.0,\"#0d0887\"],[0.1111111111111111,\"#46039f\"],[0.2222222222222222,\"#7201a8\"],[0.3333333333333333,\"#9c179e\"],[0.4444444444444444,\"#bd3786\"],[0.5555555555555556,\"#d8576b\"],[0.6666666666666666,\"#ed7953\"],[0.7777777777777778,\"#fb9f3a\"],[0.8888888888888888,\"#fdca26\"],[1.0,\"#f0f921\"]],\"type\":\"surface\"}],\"table\":[{\"cells\":{\"fill\":{\"color\":\"#EBF0F8\"},\"line\":{\"color\":\"white\"}},\"header\":{\"fill\":{\"color\":\"#C8D4E3\"},\"line\":{\"color\":\"white\"}},\"type\":\"table\"}]},\"layout\":{\"annotationdefaults\":{\"arrowcolor\":\"#2a3f5f\",\"arrowhead\":0,\"arrowwidth\":1},\"autotypenumbers\":\"strict\",\"coloraxis\":{\"colorbar\":{\"outlinewidth\":0,\"ticks\":\"\"}},\"colorscale\":{\"diverging\":[[0,\"#8e0152\"],[0.1,\"#c51b7d\"],[0.2,\"#de77ae\"],[0.3,\"#f1b6da\"],[0.4,\"#fde0ef\"],[0.5,\"#f7f7f7\"],[0.6,\"#e6f5d0\"],[0.7,\"#b8e186\"],[0.8,\"#7fbc41\"],[0.9,\"#4d9221\"],[1,\"#276419\"]],\"sequential\":[[0.0,\"#0d0887\"],[0.1111111111111111,\"#46039f\"],[0.2222222222222222,\"#7201a8\"],[0.3333333333333333,\"#9c179e\"],[0.4444444444444444,\"#bd3786\"],[0.5555555555555556,\"#d8576b\"],[0.6666666666666666,\"#ed7953\"],[0.7777777777777778,\"#fb9f3a\"],[0.8888888888888888,\"#fdca26\"],[1.0,\"#f0f921\"]],\"sequentialminus\":[[0.0,\"#0d0887\"],[0.1111111111111111,\"#46039f\"],[0.2222222222222222,\"#7201a8\"],[0.3333333333333333,\"#9c179e\"],[0.4444444444444444,\"#bd3786\"],[0.5555555555555556,\"#d8576b\"],[0.6666666666666666,\"#ed7953\"],[0.7777777777777778,\"#fb9f3a\"],[0.8888888888888888,\"#fdca26\"],[1.0,\"#f0f921\"]]},\"colorway\":[\"#636efa\",\"#EF553B\",\"#00cc96\",\"#ab63fa\",\"#FFA15A\",\"#19d3f3\",\"#FF6692\",\"#B6E880\",\"#FF97FF\",\"#FECB52\"],\"font\":{\"color\":\"#2a3f5f\"},\"geo\":{\"bgcolor\":\"white\",\"lakecolor\":\"white\",\"landcolor\":\"#E5ECF6\",\"showlakes\":true,\"showland\":true,\"subunitcolor\":\"white\"},\"hoverlabel\":{\"align\":\"left\"},\"hovermode\":\"closest\",\"mapbox\":{\"style\":\"light\"},\"paper_bgcolor\":\"white\",\"plot_bgcolor\":\"#E5ECF6\",\"polar\":{\"angularaxis\":{\"gridcolor\":\"white\",\"linecolor\":\"white\",\"ticks\":\"\"},\"bgcolor\":\"#E5ECF6\",\"radialaxis\":{\"gridcolor\":\"white\",\"linecolor\":\"white\",\"ticks\":\"\"}},\"scene\":{\"xaxis\":{\"backgroundcolor\":\"#E5ECF6\",\"gridcolor\":\"white\",\"gridwidth\":2,\"linecolor\":\"white\",\"showbackground\":true,\"ticks\":\"\",\"zerolinecolor\":\"white\"},\"yaxis\":{\"backgroundcolor\":\"#E5ECF6\",\"gridcolor\":\"white\",\"gridwidth\":2,\"linecolor\":\"white\",\"showbackground\":true,\"ticks\":\"\",\"zerolinecolor\":\"white\"},\"zaxis\":{\"backgroundcolor\":\"#E5ECF6\",\"gridcolor\":\"white\",\"gridwidth\":2,\"linecolor\":\"white\",\"showbackground\":true,\"ticks\":\"\",\"zerolinecolor\":\"white\"}},\"shapedefaults\":{\"line\":{\"color\":\"#2a3f5f\"}},\"ternary\":{\"aaxis\":{\"gridcolor\":\"white\",\"linecolor\":\"white\",\"ticks\":\"\"},\"baxis\":{\"gridcolor\":\"white\",\"linecolor\":\"white\",\"ticks\":\"\"},\"bgcolor\":\"#E5ECF6\",\"caxis\":{\"gridcolor\":\"white\",\"linecolor\":\"white\",\"ticks\":\"\"}},\"title\":{\"x\":0.05},\"xaxis\":{\"automargin\":true,\"gridcolor\":\"white\",\"linecolor\":\"white\",\"ticks\":\"\",\"title\":{\"standoff\":15},\"zerolinecolor\":\"white\",\"zerolinewidth\":2},\"yaxis\":{\"automargin\":true,\"gridcolor\":\"white\",\"linecolor\":\"white\",\"ticks\":\"\",\"title\":{\"standoff\":15},\"zerolinecolor\":\"white\",\"zerolinewidth\":2}}},\"xaxis\":{\"anchor\":\"y\",\"domain\":[0.0,1.0],\"title\":{\"text\":\"finance _team_market\"}},\"yaxis\":{\"anchor\":\"x\",\"domain\":[0.0,1.0]}},                        {\"responsive\": true}                    ).then(function(){\n",
       "                            \n",
       "var gd = document.getElementById('5c4681d1-0454-4655-aa18-b24b3f24282f');\n",
       "var x = new MutationObserver(function (mutations, observer) {{\n",
       "        var display = window.getComputedStyle(gd).display;\n",
       "        if (!display || display === 'none') {{\n",
       "            console.log([gd, 'removed!']);\n",
       "            Plotly.purge(gd);\n",
       "            observer.disconnect();\n",
       "        }}\n",
       "}});\n",
       "\n",
       "// Listen for the removal of the full notebook cells\n",
       "var notebookContainer = gd.closest('#notebook-container');\n",
       "if (notebookContainer) {{\n",
       "    x.observe(notebookContainer, {childList: true});\n",
       "}}\n",
       "\n",
       "// Listen for the clearing of the current output cell\n",
       "var outputEl = gd.closest('.output');\n",
       "if (outputEl) {{\n",
       "    x.observe(outputEl, {childList: true});\n",
       "}}\n",
       "\n",
       "                        })                };                });            </script>        </div>"
      ]
     },
     "metadata": {},
     "output_type": "display_data"
    }
   ],
   "source": [
    "fig_3 = epl_dataset.plot.box(x = 'finance _team_market')\n",
    "fig_3.show()"
   ]
  },
  {
   "cell_type": "code",
   "execution_count": 45,
   "id": "986312e3",
   "metadata": {},
   "outputs": [
    {
     "name": "stdout",
     "output_type": "stream",
     "text": [
      "lower bound for finance: team market -451550000.0\n",
      "upper bound for finance: team market 1212178000.0\n"
     ]
    }
   ],
   "source": [
    "Q1_tm = epl_dataset['finance _team_market'].quantile(0.25)\n",
    "Q3_tm = epl_dataset['finance _team_market'].quantile(0.75)\n",
    "IQR_tm = Q3_tm - Q1_tm\n",
    "\n",
    "lb_tm = Q1_tm - 1.5*IQR_tm\n",
    "ub_tm = Q3_tm + 1.5*IQR_tm\n",
    "print(\"lower bound for finance: team market \" + str(lb_tm))\n",
    "print(\"upper bound for finance: team market \" + str(ub_tm))"
   ]
  },
  {
   "cell_type": "code",
   "execution_count": 47,
   "id": "1427ade5",
   "metadata": {},
   "outputs": [
    {
     "data": {
      "text/html": [
       "<div>\n",
       "<style scoped>\n",
       "    .dataframe tbody tr th:only-of-type {\n",
       "        vertical-align: middle;\n",
       "    }\n",
       "\n",
       "    .dataframe tbody tr th {\n",
       "        vertical-align: top;\n",
       "    }\n",
       "\n",
       "    .dataframe thead th {\n",
       "        text-align: right;\n",
       "    }\n",
       "</style>\n",
       "<table border=\"1\" class=\"dataframe\">\n",
       "  <thead>\n",
       "    <tr style=\"text-align: right;\">\n",
       "      <th></th>\n",
       "      <th>Team</th>\n",
       "      <th>category</th>\n",
       "      <th>general_league_position</th>\n",
       "      <th>finance _live_games_televised</th>\n",
       "      <th>finance _tv_revenue</th>\n",
       "      <th>general_matches_played</th>\n",
       "      <th>general_won</th>\n",
       "      <th>general_draw</th>\n",
       "      <th>general_lost</th>\n",
       "      <th>attack_scored</th>\n",
       "      <th>...</th>\n",
       "      <th>defence_saves</th>\n",
       "      <th>defence_blocks</th>\n",
       "      <th>defence_interceptions</th>\n",
       "      <th>defence_tackles</th>\n",
       "      <th>defence_tackles_last_man</th>\n",
       "      <th>defence_clearances</th>\n",
       "      <th>defence_clearances_headed</th>\n",
       "      <th>defence_penalty_conceeded</th>\n",
       "      <th>attack_posession</th>\n",
       "      <th>attack_pass_accuracy</th>\n",
       "    </tr>\n",
       "  </thead>\n",
       "  <tbody>\n",
       "  </tbody>\n",
       "</table>\n",
       "<p>0 rows × 44 columns</p>\n",
       "</div>"
      ],
      "text/plain": [
       "Empty DataFrame\n",
       "Columns: [Team, category, general_league_position, finance _live_games_televised, finance _tv_revenue, general_matches_played, general_won, general_draw, general_lost, attack_scored, defence_goals_conceeded, general_goal_difference, general_points, general_squad_size, general_squad_average_age, general_squad_foreigners, finance _team_market, finance _market_average, attack_passes, attack_passes_through, attack_passes_long, attack_passes_back, attack_crosses, attack_corners_taken, attack_shots, attack_shots_on_target, attack_goals_headed, attack_goals_penalty, attack_goals_box, attack_goals_outsidebox, general_card_yellow, general_card_red, attack_goals_counter, attack_goals_freekick, defence_saves, defence_blocks, defence_interceptions, defence_tackles, defence_tackles_last_man, defence_clearances, defence_clearances_headed, defence_penalty_conceeded, attack_posession, attack_pass_accuracy]\n",
       "Index: []\n",
       "\n",
       "[0 rows x 44 columns]"
      ]
     },
     "execution_count": 47,
     "metadata": {},
     "output_type": "execute_result"
    }
   ],
   "source": [
    "tm_outlier = epl_dataset[epl_dataset['finance _team_market'] > ub_tm]\n",
    "tm_outlier"
   ]
  },
  {
   "cell_type": "markdown",
   "id": "2aee2c4c",
   "metadata": {},
   "source": [
    "Based on histogram and upper bound calculation, there are no outlier data in this dataset."
   ]
  },
  {
   "cell_type": "markdown",
   "id": "bc03476d",
   "metadata": {},
   "source": [
    "## 3.5 Data types"
   ]
  },
  {
   "cell_type": "code",
   "execution_count": 15,
   "id": "30b82835",
   "metadata": {},
   "outputs": [
    {
     "name": "stdout",
     "output_type": "stream",
     "text": [
      "<class 'pandas.core.frame.DataFrame'>\n",
      "RangeIndex: 20 entries, 0 to 19\n",
      "Data columns (total 44 columns):\n",
      " #   Column                         Non-Null Count  Dtype  \n",
      "---  ------                         --------------  -----  \n",
      " 0   Team                           20 non-null     object \n",
      " 1   category                       20 non-null     object \n",
      " 2   general_league_position        20 non-null     int64  \n",
      " 3   finance _live_games_televised  20 non-null     int64  \n",
      " 4   finance _tv_revenue            20 non-null     int64  \n",
      " 5   general_matches_played         20 non-null     int64  \n",
      " 6   general_won                    20 non-null     int64  \n",
      " 7   general_draw                   20 non-null     int64  \n",
      " 8   general_lost                   20 non-null     int64  \n",
      " 9   attack_scored                  20 non-null     int64  \n",
      " 10  defence_goals_conceeded        20 non-null     int64  \n",
      " 11  general_goal_difference        20 non-null     int64  \n",
      " 12  general_points                 20 non-null     int64  \n",
      " 13  general_squad_size             20 non-null     int64  \n",
      " 14  general_squad_average_age      20 non-null     float64\n",
      " 15  general_squad_foreigners       20 non-null     int64  \n",
      " 16  finance _team_market           20 non-null     int64  \n",
      " 17  finance _market_average        20 non-null     int64  \n",
      " 18  attack_passes                  20 non-null     object \n",
      " 19  attack_passes_through          20 non-null     int64  \n",
      " 20  attack_passes_long             20 non-null     object \n",
      " 21  attack_passes_back             20 non-null     object \n",
      " 22  attack_crosses                 20 non-null     int64  \n",
      " 23  attack_corners_taken           20 non-null     int64  \n",
      " 24  attack_shots                   20 non-null     int64  \n",
      " 25  attack_shots_on_target         20 non-null     int64  \n",
      " 26  attack_goals_headed            20 non-null     int64  \n",
      " 27  attack_goals_penalty           20 non-null     int64  \n",
      " 28  attack_goals_box               20 non-null     int64  \n",
      " 29  attack_goals_outsidebox        20 non-null     int64  \n",
      " 30  general_card_yellow            20 non-null     int64  \n",
      " 31  general_card_red               20 non-null     int64  \n",
      " 32  attack_goals_counter           20 non-null     int64  \n",
      " 33  attack_goals_freekick          20 non-null     int64  \n",
      " 34  defence_saves                  20 non-null     int64  \n",
      " 35  defence_blocks                 20 non-null     int64  \n",
      " 36  defence_interceptions          20 non-null     int64  \n",
      " 37  defence_tackles                20 non-null     int64  \n",
      " 38  defence_tackles_last_man       20 non-null     int64  \n",
      " 39  defence_clearances             20 non-null     object \n",
      " 40  defence_clearances_headed      20 non-null     int64  \n",
      " 41  defence_penalty_conceeded      20 non-null     int64  \n",
      " 42  attack_posession               20 non-null     float64\n",
      " 43  attack_pass_accuracy           20 non-null     float64\n",
      "dtypes: float64(3), int64(35), object(6)\n",
      "memory usage: 7.0+ KB\n"
     ]
    }
   ],
   "source": [
    "epl_dataset.info()"
   ]
  },
  {
   "cell_type": "markdown",
   "id": "ad439e69",
   "metadata": {},
   "source": [
    "# 4. Problem Set"
   ]
  },
  {
   "cell_type": "markdown",
   "id": "f66bf9be",
   "metadata": {},
   "source": [
    "## No 1. Is this data clean?"
   ]
  },
  {
   "cell_type": "markdown",
   "id": "18159261",
   "metadata": {},
   "source": [
    "Based on data pre-processing and exploratory data analysis, this data is clean."
   ]
  },
  {
   "cell_type": "markdown",
   "id": "5f9874e8",
   "metadata": {},
   "source": [
    "## No 2. How is the point distribution of the EPL team? and which team is an anomaly?"
   ]
  },
  {
   "cell_type": "markdown",
   "id": "e360af03",
   "metadata": {},
   "source": [
    "Please refer to Section 3. Exploratory Data Analysis."
   ]
  },
  {
   "cell_type": "markdown",
   "id": "3589ba35",
   "metadata": {},
   "source": [
    "## No 3. Which team has the best attack?"
   ]
  },
  {
   "cell_type": "markdown",
   "id": "ebb9be76",
   "metadata": {},
   "source": [
    "To answer this question, we have to collect all variables that define the team's attack skill. The variables are: attack_scored, attack_passes, attac_passes_through, attack_passes_long, attack_passes_back, attack_crosses, attack_corners_taken, attack_shots, attack_shots_on_target, attack_goals_headed, attack_goals_penalty, attack_goals_box, attack_goals_outsidebox, attack_goals_counter, attack_goals_freekick, attack_possession, attack_pass_accuracy. "
   ]
  },
  {
   "cell_type": "code",
   "execution_count": 63,
   "id": "2fb9a664",
   "metadata": {},
   "outputs": [],
   "source": [
    "#Create attack dataset\n",
    "attack = epl_dataset[['Team','attack_scored', 'attack_passes', 'attack_passes_through', 'attack_passes_long', 'attack_passes_back', 'attack_crosses', 'attack_corners_taken', 'attack_shots', 'attack_shots_on_target', 'attack_goals_headed', 'attack_goals_penalty', 'attack_goals_box', 'attack_goals_outsidebox', 'attack_goals_counter', 'attack_goals_freekick', 'attack_posession', 'attack_pass_accuracy']]"
   ]
  },
  {
   "cell_type": "code",
   "execution_count": 66,
   "id": "a08ff608",
   "metadata": {},
   "outputs": [
    {
     "data": {
      "text/html": [
       "<div>\n",
       "<style scoped>\n",
       "    .dataframe tbody tr th:only-of-type {\n",
       "        vertical-align: middle;\n",
       "    }\n",
       "\n",
       "    .dataframe tbody tr th {\n",
       "        vertical-align: top;\n",
       "    }\n",
       "\n",
       "    .dataframe thead th {\n",
       "        text-align: right;\n",
       "    }\n",
       "</style>\n",
       "<table border=\"1\" class=\"dataframe\">\n",
       "  <thead>\n",
       "    <tr style=\"text-align: right;\">\n",
       "      <th></th>\n",
       "      <th>Team</th>\n",
       "      <th>attack_scored</th>\n",
       "      <th>attack_passes</th>\n",
       "      <th>attack_passes_through</th>\n",
       "      <th>attack_passes_long</th>\n",
       "      <th>attack_passes_back</th>\n",
       "      <th>attack_crosses</th>\n",
       "      <th>attack_corners_taken</th>\n",
       "      <th>attack_shots</th>\n",
       "      <th>attack_shots_on_target</th>\n",
       "      <th>attack_goals_headed</th>\n",
       "      <th>attack_goals_penalty</th>\n",
       "      <th>attack_goals_box</th>\n",
       "      <th>attack_goals_outsidebox</th>\n",
       "      <th>attack_goals_counter</th>\n",
       "      <th>attack_goals_freekick</th>\n",
       "      <th>attack_posession</th>\n",
       "      <th>attack_pass_accuracy</th>\n",
       "    </tr>\n",
       "  </thead>\n",
       "  <tbody>\n",
       "    <tr>\n",
       "      <th>0</th>\n",
       "      <td>Manchester City</td>\n",
       "      <td>95</td>\n",
       "      <td>26,581</td>\n",
       "      <td>112</td>\n",
       "      <td>1,814</td>\n",
       "      <td>4,240</td>\n",
       "      <td>783</td>\n",
       "      <td>298</td>\n",
       "      <td>683</td>\n",
       "      <td>260</td>\n",
       "      <td>12</td>\n",
       "      <td>3</td>\n",
       "      <td>80</td>\n",
       "      <td>15</td>\n",
       "      <td>5</td>\n",
       "      <td>2</td>\n",
       "      <td>64.0</td>\n",
       "      <td>89.0</td>\n",
       "    </tr>\n",
       "    <tr>\n",
       "      <th>1</th>\n",
       "      <td>Liverpool</td>\n",
       "      <td>89</td>\n",
       "      <td>23,638</td>\n",
       "      <td>98</td>\n",
       "      <td>2,250</td>\n",
       "      <td>3,416</td>\n",
       "      <td>721</td>\n",
       "      <td>249</td>\n",
       "      <td>575</td>\n",
       "      <td>226</td>\n",
       "      <td>19</td>\n",
       "      <td>7</td>\n",
       "      <td>84</td>\n",
       "      <td>5</td>\n",
       "      <td>6</td>\n",
       "      <td>1</td>\n",
       "      <td>58.8</td>\n",
       "      <td>84.4</td>\n",
       "    </tr>\n",
       "    <tr>\n",
       "      <th>4</th>\n",
       "      <td>Arsenal</td>\n",
       "      <td>73</td>\n",
       "      <td>20,805</td>\n",
       "      <td>65</td>\n",
       "      <td>2,062</td>\n",
       "      <td>3,102</td>\n",
       "      <td>605</td>\n",
       "      <td>209</td>\n",
       "      <td>467</td>\n",
       "      <td>170</td>\n",
       "      <td>5</td>\n",
       "      <td>4</td>\n",
       "      <td>62</td>\n",
       "      <td>11</td>\n",
       "      <td>3</td>\n",
       "      <td>3</td>\n",
       "      <td>56.1</td>\n",
       "      <td>83.3</td>\n",
       "    </tr>\n",
       "    <tr>\n",
       "      <th>3</th>\n",
       "      <td>Tottenham</td>\n",
       "      <td>67</td>\n",
       "      <td>21,295</td>\n",
       "      <td>87</td>\n",
       "      <td>2,267</td>\n",
       "      <td>3,191</td>\n",
       "      <td>643</td>\n",
       "      <td>194</td>\n",
       "      <td>537</td>\n",
       "      <td>189</td>\n",
       "      <td>14</td>\n",
       "      <td>4</td>\n",
       "      <td>53</td>\n",
       "      <td>14</td>\n",
       "      <td>5</td>\n",
       "      <td>2</td>\n",
       "      <td>56.7</td>\n",
       "      <td>83.2</td>\n",
       "    </tr>\n",
       "    <tr>\n",
       "      <th>5</th>\n",
       "      <td>Manchester United</td>\n",
       "      <td>65</td>\n",
       "      <td>19,202</td>\n",
       "      <td>63</td>\n",
       "      <td>2,242</td>\n",
       "      <td>2,634</td>\n",
       "      <td>638</td>\n",
       "      <td>200</td>\n",
       "      <td>526</td>\n",
       "      <td>225</td>\n",
       "      <td>4</td>\n",
       "      <td>9</td>\n",
       "      <td>55</td>\n",
       "      <td>10</td>\n",
       "      <td>4</td>\n",
       "      <td>2</td>\n",
       "      <td>53.3</td>\n",
       "      <td>82.3</td>\n",
       "    </tr>\n",
       "    <tr>\n",
       "      <th>2</th>\n",
       "      <td>Chelsea</td>\n",
       "      <td>63</td>\n",
       "      <td>25,070</td>\n",
       "      <td>146</td>\n",
       "      <td>1,774</td>\n",
       "      <td>3,874</td>\n",
       "      <td>692</td>\n",
       "      <td>215</td>\n",
       "      <td>607</td>\n",
       "      <td>198</td>\n",
       "      <td>8</td>\n",
       "      <td>5</td>\n",
       "      <td>54</td>\n",
       "      <td>9</td>\n",
       "      <td>1</td>\n",
       "      <td>1</td>\n",
       "      <td>59.9</td>\n",
       "      <td>87.6</td>\n",
       "    </tr>\n",
       "    <tr>\n",
       "      <th>13</th>\n",
       "      <td>Bournemouth</td>\n",
       "      <td>56</td>\n",
       "      <td>15,943</td>\n",
       "      <td>57</td>\n",
       "      <td>1,932</td>\n",
       "      <td>2,249</td>\n",
       "      <td>613</td>\n",
       "      <td>191</td>\n",
       "      <td>446</td>\n",
       "      <td>163</td>\n",
       "      <td>11</td>\n",
       "      <td>7</td>\n",
       "      <td>50</td>\n",
       "      <td>6</td>\n",
       "      <td>9</td>\n",
       "      <td>0</td>\n",
       "      <td>47.7</td>\n",
       "      <td>78.1</td>\n",
       "    </tr>\n",
       "    <tr>\n",
       "      <th>7</th>\n",
       "      <td>Everton</td>\n",
       "      <td>54</td>\n",
       "      <td>16,494</td>\n",
       "      <td>44</td>\n",
       "      <td>2,310</td>\n",
       "      <td>2,362</td>\n",
       "      <td>814</td>\n",
       "      <td>215</td>\n",
       "      <td>498</td>\n",
       "      <td>169</td>\n",
       "      <td>13</td>\n",
       "      <td>2</td>\n",
       "      <td>45</td>\n",
       "      <td>10</td>\n",
       "      <td>3</td>\n",
       "      <td>0</td>\n",
       "      <td>51.0</td>\n",
       "      <td>77.3</td>\n",
       "    </tr>\n",
       "    <tr>\n",
       "      <th>9</th>\n",
       "      <td>West Ham</td>\n",
       "      <td>52</td>\n",
       "      <td>16,358</td>\n",
       "      <td>75</td>\n",
       "      <td>2,315</td>\n",
       "      <td>2,273</td>\n",
       "      <td>630</td>\n",
       "      <td>188</td>\n",
       "      <td>441</td>\n",
       "      <td>157</td>\n",
       "      <td>10</td>\n",
       "      <td>5</td>\n",
       "      <td>47</td>\n",
       "      <td>5</td>\n",
       "      <td>3</td>\n",
       "      <td>0</td>\n",
       "      <td>49.0</td>\n",
       "      <td>78.7</td>\n",
       "    </tr>\n",
       "    <tr>\n",
       "      <th>10</th>\n",
       "      <td>Watford</td>\n",
       "      <td>52</td>\n",
       "      <td>15,462</td>\n",
       "      <td>32</td>\n",
       "      <td>2,437</td>\n",
       "      <td>2,314</td>\n",
       "      <td>570</td>\n",
       "      <td>177</td>\n",
       "      <td>437</td>\n",
       "      <td>152</td>\n",
       "      <td>8</td>\n",
       "      <td>1</td>\n",
       "      <td>44</td>\n",
       "      <td>8</td>\n",
       "      <td>3</td>\n",
       "      <td>0</td>\n",
       "      <td>47.4</td>\n",
       "      <td>76.1</td>\n",
       "    </tr>\n",
       "    <tr>\n",
       "      <th>8</th>\n",
       "      <td>Leicester</td>\n",
       "      <td>51</td>\n",
       "      <td>17,219</td>\n",
       "      <td>88</td>\n",
       "      <td>2,335</td>\n",
       "      <td>2,593</td>\n",
       "      <td>779</td>\n",
       "      <td>210</td>\n",
       "      <td>515</td>\n",
       "      <td>184</td>\n",
       "      <td>9</td>\n",
       "      <td>5</td>\n",
       "      <td>43</td>\n",
       "      <td>8</td>\n",
       "      <td>8</td>\n",
       "      <td>3</td>\n",
       "      <td>50.8</td>\n",
       "      <td>79.2</td>\n",
       "    </tr>\n",
       "    <tr>\n",
       "      <th>11</th>\n",
       "      <td>Crystal Palace</td>\n",
       "      <td>51</td>\n",
       "      <td>15,243</td>\n",
       "      <td>26</td>\n",
       "      <td>2,259</td>\n",
       "      <td>2,233</td>\n",
       "      <td>577</td>\n",
       "      <td>205</td>\n",
       "      <td>493</td>\n",
       "      <td>148</td>\n",
       "      <td>5</td>\n",
       "      <td>10</td>\n",
       "      <td>43</td>\n",
       "      <td>8</td>\n",
       "      <td>2</td>\n",
       "      <td>2</td>\n",
       "      <td>46.6</td>\n",
       "      <td>76.8</td>\n",
       "    </tr>\n",
       "    <tr>\n",
       "      <th>6</th>\n",
       "      <td>Wolverhampton</td>\n",
       "      <td>47</td>\n",
       "      <td>16,618</td>\n",
       "      <td>51</td>\n",
       "      <td>2,552</td>\n",
       "      <td>2,515</td>\n",
       "      <td>622</td>\n",
       "      <td>195</td>\n",
       "      <td>477</td>\n",
       "      <td>152</td>\n",
       "      <td>10</td>\n",
       "      <td>4</td>\n",
       "      <td>44</td>\n",
       "      <td>3</td>\n",
       "      <td>5</td>\n",
       "      <td>2</td>\n",
       "      <td>47.4</td>\n",
       "      <td>78.2</td>\n",
       "    </tr>\n",
       "    <tr>\n",
       "      <th>14</th>\n",
       "      <td>Burnley</td>\n",
       "      <td>45</td>\n",
       "      <td>13,011</td>\n",
       "      <td>35</td>\n",
       "      <td>2,898</td>\n",
       "      <td>2,046</td>\n",
       "      <td>693</td>\n",
       "      <td>140</td>\n",
       "      <td>360</td>\n",
       "      <td>116</td>\n",
       "      <td>13</td>\n",
       "      <td>2</td>\n",
       "      <td>43</td>\n",
       "      <td>2</td>\n",
       "      <td>1</td>\n",
       "      <td>0</td>\n",
       "      <td>43.4</td>\n",
       "      <td>70.3</td>\n",
       "    </tr>\n",
       "    <tr>\n",
       "      <th>15</th>\n",
       "      <td>Southampton</td>\n",
       "      <td>45</td>\n",
       "      <td>14,297</td>\n",
       "      <td>35</td>\n",
       "      <td>2,394</td>\n",
       "      <td>2,040</td>\n",
       "      <td>664</td>\n",
       "      <td>193</td>\n",
       "      <td>483</td>\n",
       "      <td>162</td>\n",
       "      <td>4</td>\n",
       "      <td>4</td>\n",
       "      <td>31</td>\n",
       "      <td>14</td>\n",
       "      <td>1</td>\n",
       "      <td>3</td>\n",
       "      <td>45.4</td>\n",
       "      <td>74.0</td>\n",
       "    </tr>\n",
       "    <tr>\n",
       "      <th>12</th>\n",
       "      <td>Newcastle</td>\n",
       "      <td>42</td>\n",
       "      <td>13,490</td>\n",
       "      <td>50</td>\n",
       "      <td>2,680</td>\n",
       "      <td>1,999</td>\n",
       "      <td>711</td>\n",
       "      <td>181</td>\n",
       "      <td>446</td>\n",
       "      <td>142</td>\n",
       "      <td>12</td>\n",
       "      <td>1</td>\n",
       "      <td>40</td>\n",
       "      <td>2</td>\n",
       "      <td>1</td>\n",
       "      <td>1</td>\n",
       "      <td>42.9</td>\n",
       "      <td>72.9</td>\n",
       "    </tr>\n",
       "    <tr>\n",
       "      <th>16</th>\n",
       "      <td>Brighton</td>\n",
       "      <td>35</td>\n",
       "      <td>14,109</td>\n",
       "      <td>15</td>\n",
       "      <td>2,623</td>\n",
       "      <td>2,072</td>\n",
       "      <td>636</td>\n",
       "      <td>156</td>\n",
       "      <td>371</td>\n",
       "      <td>108</td>\n",
       "      <td>10</td>\n",
       "      <td>5</td>\n",
       "      <td>34</td>\n",
       "      <td>1</td>\n",
       "      <td>4</td>\n",
       "      <td>0</td>\n",
       "      <td>44.1</td>\n",
       "      <td>74.8</td>\n",
       "    </tr>\n",
       "    <tr>\n",
       "      <th>17</th>\n",
       "      <td>Cardiff</td>\n",
       "      <td>34</td>\n",
       "      <td>10,226</td>\n",
       "      <td>39</td>\n",
       "      <td>2,513</td>\n",
       "      <td>1,418</td>\n",
       "      <td>562</td>\n",
       "      <td>168</td>\n",
       "      <td>417</td>\n",
       "      <td>126</td>\n",
       "      <td>4</td>\n",
       "      <td>3</td>\n",
       "      <td>29</td>\n",
       "      <td>5</td>\n",
       "      <td>0</td>\n",
       "      <td>0</td>\n",
       "      <td>39.1</td>\n",
       "      <td>63.9</td>\n",
       "    </tr>\n",
       "    <tr>\n",
       "      <th>18</th>\n",
       "      <td>Fulham</td>\n",
       "      <td>34</td>\n",
       "      <td>17,699</td>\n",
       "      <td>33</td>\n",
       "      <td>2,417</td>\n",
       "      <td>2,750</td>\n",
       "      <td>611</td>\n",
       "      <td>161</td>\n",
       "      <td>454</td>\n",
       "      <td>146</td>\n",
       "      <td>7</td>\n",
       "      <td>2</td>\n",
       "      <td>30</td>\n",
       "      <td>4</td>\n",
       "      <td>2</td>\n",
       "      <td>0</td>\n",
       "      <td>49.2</td>\n",
       "      <td>80.3</td>\n",
       "    </tr>\n",
       "    <tr>\n",
       "      <th>19</th>\n",
       "      <td>Huddersfield</td>\n",
       "      <td>22</td>\n",
       "      <td>15,902</td>\n",
       "      <td>23</td>\n",
       "      <td>2,603</td>\n",
       "      <td>2,492</td>\n",
       "      <td>769</td>\n",
       "      <td>162</td>\n",
       "      <td>400</td>\n",
       "      <td>118</td>\n",
       "      <td>8</td>\n",
       "      <td>1</td>\n",
       "      <td>17</td>\n",
       "      <td>5</td>\n",
       "      <td>1</td>\n",
       "      <td>1</td>\n",
       "      <td>47.1</td>\n",
       "      <td>75.8</td>\n",
       "    </tr>\n",
       "  </tbody>\n",
       "</table>\n",
       "</div>"
      ],
      "text/plain": [
       "                 Team  attack_scored attack_passes  attack_passes_through  \\\n",
       "0     Manchester City             95        26,581                    112   \n",
       "1           Liverpool             89        23,638                     98   \n",
       "4             Arsenal             73        20,805                     65   \n",
       "3           Tottenham             67        21,295                     87   \n",
       "5   Manchester United             65        19,202                     63   \n",
       "2             Chelsea             63        25,070                    146   \n",
       "13        Bournemouth             56        15,943                     57   \n",
       "7             Everton             54        16,494                     44   \n",
       "9            West Ham             52        16,358                     75   \n",
       "10            Watford             52        15,462                     32   \n",
       "8           Leicester             51        17,219                     88   \n",
       "11     Crystal Palace             51        15,243                     26   \n",
       "6       Wolverhampton             47        16,618                     51   \n",
       "14            Burnley             45        13,011                     35   \n",
       "15        Southampton             45        14,297                     35   \n",
       "12          Newcastle             42        13,490                     50   \n",
       "16           Brighton             35        14,109                     15   \n",
       "17            Cardiff             34        10,226                     39   \n",
       "18             Fulham             34        17,699                     33   \n",
       "19       Huddersfield             22        15,902                     23   \n",
       "\n",
       "   attack_passes_long attack_passes_back  attack_crosses  \\\n",
       "0               1,814              4,240             783   \n",
       "1               2,250              3,416             721   \n",
       "4               2,062              3,102             605   \n",
       "3               2,267              3,191             643   \n",
       "5               2,242              2,634             638   \n",
       "2               1,774              3,874             692   \n",
       "13              1,932              2,249             613   \n",
       "7               2,310              2,362             814   \n",
       "9               2,315              2,273             630   \n",
       "10              2,437              2,314             570   \n",
       "8               2,335              2,593             779   \n",
       "11              2,259              2,233             577   \n",
       "6               2,552              2,515             622   \n",
       "14              2,898              2,046             693   \n",
       "15              2,394              2,040             664   \n",
       "12              2,680              1,999             711   \n",
       "16              2,623              2,072             636   \n",
       "17              2,513              1,418             562   \n",
       "18              2,417              2,750             611   \n",
       "19              2,603              2,492             769   \n",
       "\n",
       "    attack_corners_taken  attack_shots  attack_shots_on_target  \\\n",
       "0                    298           683                     260   \n",
       "1                    249           575                     226   \n",
       "4                    209           467                     170   \n",
       "3                    194           537                     189   \n",
       "5                    200           526                     225   \n",
       "2                    215           607                     198   \n",
       "13                   191           446                     163   \n",
       "7                    215           498                     169   \n",
       "9                    188           441                     157   \n",
       "10                   177           437                     152   \n",
       "8                    210           515                     184   \n",
       "11                   205           493                     148   \n",
       "6                    195           477                     152   \n",
       "14                   140           360                     116   \n",
       "15                   193           483                     162   \n",
       "12                   181           446                     142   \n",
       "16                   156           371                     108   \n",
       "17                   168           417                     126   \n",
       "18                   161           454                     146   \n",
       "19                   162           400                     118   \n",
       "\n",
       "    attack_goals_headed  attack_goals_penalty  attack_goals_box  \\\n",
       "0                    12                     3                80   \n",
       "1                    19                     7                84   \n",
       "4                     5                     4                62   \n",
       "3                    14                     4                53   \n",
       "5                     4                     9                55   \n",
       "2                     8                     5                54   \n",
       "13                   11                     7                50   \n",
       "7                    13                     2                45   \n",
       "9                    10                     5                47   \n",
       "10                    8                     1                44   \n",
       "8                     9                     5                43   \n",
       "11                    5                    10                43   \n",
       "6                    10                     4                44   \n",
       "14                   13                     2                43   \n",
       "15                    4                     4                31   \n",
       "12                   12                     1                40   \n",
       "16                   10                     5                34   \n",
       "17                    4                     3                29   \n",
       "18                    7                     2                30   \n",
       "19                    8                     1                17   \n",
       "\n",
       "    attack_goals_outsidebox  attack_goals_counter  attack_goals_freekick  \\\n",
       "0                        15                     5                      2   \n",
       "1                         5                     6                      1   \n",
       "4                        11                     3                      3   \n",
       "3                        14                     5                      2   \n",
       "5                        10                     4                      2   \n",
       "2                         9                     1                      1   \n",
       "13                        6                     9                      0   \n",
       "7                        10                     3                      0   \n",
       "9                         5                     3                      0   \n",
       "10                        8                     3                      0   \n",
       "8                         8                     8                      3   \n",
       "11                        8                     2                      2   \n",
       "6                         3                     5                      2   \n",
       "14                        2                     1                      0   \n",
       "15                       14                     1                      3   \n",
       "12                        2                     1                      1   \n",
       "16                        1                     4                      0   \n",
       "17                        5                     0                      0   \n",
       "18                        4                     2                      0   \n",
       "19                        5                     1                      1   \n",
       "\n",
       "    attack_posession  attack_pass_accuracy  \n",
       "0               64.0                  89.0  \n",
       "1               58.8                  84.4  \n",
       "4               56.1                  83.3  \n",
       "3               56.7                  83.2  \n",
       "5               53.3                  82.3  \n",
       "2               59.9                  87.6  \n",
       "13              47.7                  78.1  \n",
       "7               51.0                  77.3  \n",
       "9               49.0                  78.7  \n",
       "10              47.4                  76.1  \n",
       "8               50.8                  79.2  \n",
       "11              46.6                  76.8  \n",
       "6               47.4                  78.2  \n",
       "14              43.4                  70.3  \n",
       "15              45.4                  74.0  \n",
       "12              42.9                  72.9  \n",
       "16              44.1                  74.8  \n",
       "17              39.1                  63.9  \n",
       "18              49.2                  80.3  \n",
       "19              47.1                  75.8  "
      ]
     },
     "execution_count": 66,
     "metadata": {},
     "output_type": "execute_result"
    }
   ],
   "source": [
    "attack.sort_values(by = 'attack_scored', ascending = False)"
   ]
  },
  {
   "cell_type": "markdown",
   "id": "e9e3dbcf",
   "metadata": {},
   "source": [
    "Solely based on attack_scored, the team that possess the best attack is **Manchester City**. Ideally, each variables other that attack_scored should be taken into account in determining which team that has the best attack."
   ]
  },
  {
   "cell_type": "markdown",
   "id": "05efafa6",
   "metadata": {},
   "source": [
    "## No 4. Which team has the best defense?  "
   ]
  },
  {
   "cell_type": "markdown",
   "id": "8db9b7fa",
   "metadata": {},
   "source": [
    "Let's first create defense dataset that only includes variables that define defense skill: defence_goals_conceeded, defence_saves, defence_blocks, defence_interceptions, defence_tackles, defence_tackles_last_man, defence_clearances, defence_clearances_headed, and defence_penalty_conceeded.     "
   ]
  },
  {
   "cell_type": "code",
   "execution_count": 69,
   "id": "8720a9fe",
   "metadata": {},
   "outputs": [],
   "source": [
    "defense = epl_dataset[['Team','defence_goals_conceeded', 'defence_saves', 'defence_blocks', 'defence_interceptions', 'defence_tackles', 'defence_tackles_last_man', 'defence_clearances', 'defence_clearances_headed', 'defence_penalty_conceeded']]"
   ]
  },
  {
   "cell_type": "code",
   "execution_count": 72,
   "id": "e0a06be7",
   "metadata": {},
   "outputs": [
    {
     "data": {
      "text/html": [
       "<div>\n",
       "<style scoped>\n",
       "    .dataframe tbody tr th:only-of-type {\n",
       "        vertical-align: middle;\n",
       "    }\n",
       "\n",
       "    .dataframe tbody tr th {\n",
       "        vertical-align: top;\n",
       "    }\n",
       "\n",
       "    .dataframe thead th {\n",
       "        text-align: right;\n",
       "    }\n",
       "</style>\n",
       "<table border=\"1\" class=\"dataframe\">\n",
       "  <thead>\n",
       "    <tr style=\"text-align: right;\">\n",
       "      <th></th>\n",
       "      <th>Team</th>\n",
       "      <th>defence_goals_conceeded</th>\n",
       "      <th>defence_saves</th>\n",
       "      <th>defence_blocks</th>\n",
       "      <th>defence_interceptions</th>\n",
       "      <th>defence_tackles</th>\n",
       "      <th>defence_tackles_last_man</th>\n",
       "      <th>defence_clearances</th>\n",
       "      <th>defence_clearances_headed</th>\n",
       "      <th>defence_penalty_conceeded</th>\n",
       "    </tr>\n",
       "  </thead>\n",
       "  <tbody>\n",
       "    <tr>\n",
       "      <th>1</th>\n",
       "      <td>Liverpool</td>\n",
       "      <td>22</td>\n",
       "      <td>76</td>\n",
       "      <td>78</td>\n",
       "      <td>314</td>\n",
       "      <td>610</td>\n",
       "      <td>2</td>\n",
       "      <td>639</td>\n",
       "      <td>317</td>\n",
       "      <td>1</td>\n",
       "    </tr>\n",
       "    <tr>\n",
       "      <th>0</th>\n",
       "      <td>Manchester City</td>\n",
       "      <td>23</td>\n",
       "      <td>58</td>\n",
       "      <td>63</td>\n",
       "      <td>362</td>\n",
       "      <td>518</td>\n",
       "      <td>0</td>\n",
       "      <td>543</td>\n",
       "      <td>295</td>\n",
       "      <td>4</td>\n",
       "    </tr>\n",
       "    <tr>\n",
       "      <th>2</th>\n",
       "      <td>Chelsea</td>\n",
       "      <td>39</td>\n",
       "      <td>85</td>\n",
       "      <td>73</td>\n",
       "      <td>351</td>\n",
       "      <td>618</td>\n",
       "      <td>2</td>\n",
       "      <td>593</td>\n",
       "      <td>330</td>\n",
       "      <td>2</td>\n",
       "    </tr>\n",
       "    <tr>\n",
       "      <th>3</th>\n",
       "      <td>Tottenham</td>\n",
       "      <td>39</td>\n",
       "      <td>121</td>\n",
       "      <td>112</td>\n",
       "      <td>326</td>\n",
       "      <td>626</td>\n",
       "      <td>3</td>\n",
       "      <td>770</td>\n",
       "      <td>411</td>\n",
       "      <td>5</td>\n",
       "    </tr>\n",
       "    <tr>\n",
       "      <th>6</th>\n",
       "      <td>Wolverhampton</td>\n",
       "      <td>46</td>\n",
       "      <td>100</td>\n",
       "      <td>148</td>\n",
       "      <td>501</td>\n",
       "      <td>720</td>\n",
       "      <td>2</td>\n",
       "      <td>824</td>\n",
       "      <td>464</td>\n",
       "      <td>4</td>\n",
       "    </tr>\n",
       "    <tr>\n",
       "      <th>7</th>\n",
       "      <td>Everton</td>\n",
       "      <td>46</td>\n",
       "      <td>94</td>\n",
       "      <td>85</td>\n",
       "      <td>456</td>\n",
       "      <td>700</td>\n",
       "      <td>4</td>\n",
       "      <td>825</td>\n",
       "      <td>430</td>\n",
       "      <td>5</td>\n",
       "    </tr>\n",
       "    <tr>\n",
       "      <th>8</th>\n",
       "      <td>Leicester</td>\n",
       "      <td>48</td>\n",
       "      <td>90</td>\n",
       "      <td>96</td>\n",
       "      <td>436</td>\n",
       "      <td>676</td>\n",
       "      <td>4</td>\n",
       "      <td>945</td>\n",
       "      <td>500</td>\n",
       "      <td>5</td>\n",
       "    </tr>\n",
       "    <tr>\n",
       "      <th>12</th>\n",
       "      <td>Newcastle</td>\n",
       "      <td>48</td>\n",
       "      <td>95</td>\n",
       "      <td>134</td>\n",
       "      <td>506</td>\n",
       "      <td>714</td>\n",
       "      <td>4</td>\n",
       "      <td>1,120</td>\n",
       "      <td>564</td>\n",
       "      <td>7</td>\n",
       "    </tr>\n",
       "    <tr>\n",
       "      <th>4</th>\n",
       "      <td>Arsenal</td>\n",
       "      <td>51</td>\n",
       "      <td>133</td>\n",
       "      <td>118</td>\n",
       "      <td>412</td>\n",
       "      <td>609</td>\n",
       "      <td>2</td>\n",
       "      <td>762</td>\n",
       "      <td>404</td>\n",
       "      <td>7</td>\n",
       "    </tr>\n",
       "    <tr>\n",
       "      <th>11</th>\n",
       "      <td>Crystal Palace</td>\n",
       "      <td>53</td>\n",
       "      <td>113</td>\n",
       "      <td>141</td>\n",
       "      <td>446</td>\n",
       "      <td>730</td>\n",
       "      <td>2</td>\n",
       "      <td>940</td>\n",
       "      <td>467</td>\n",
       "      <td>5</td>\n",
       "    </tr>\n",
       "    <tr>\n",
       "      <th>5</th>\n",
       "      <td>Manchester United</td>\n",
       "      <td>54</td>\n",
       "      <td>122</td>\n",
       "      <td>128</td>\n",
       "      <td>355</td>\n",
       "      <td>581</td>\n",
       "      <td>2</td>\n",
       "      <td>785</td>\n",
       "      <td>370</td>\n",
       "      <td>6</td>\n",
       "    </tr>\n",
       "    <tr>\n",
       "      <th>9</th>\n",
       "      <td>West Ham</td>\n",
       "      <td>55</td>\n",
       "      <td>148</td>\n",
       "      <td>141</td>\n",
       "      <td>457</td>\n",
       "      <td>723</td>\n",
       "      <td>5</td>\n",
       "      <td>855</td>\n",
       "      <td>397</td>\n",
       "      <td>5</td>\n",
       "    </tr>\n",
       "    <tr>\n",
       "      <th>10</th>\n",
       "      <td>Watford</td>\n",
       "      <td>59</td>\n",
       "      <td>127</td>\n",
       "      <td>120</td>\n",
       "      <td>426</td>\n",
       "      <td>655</td>\n",
       "      <td>8</td>\n",
       "      <td>956</td>\n",
       "      <td>447</td>\n",
       "      <td>5</td>\n",
       "    </tr>\n",
       "    <tr>\n",
       "      <th>16</th>\n",
       "      <td>Brighton</td>\n",
       "      <td>60</td>\n",
       "      <td>111</td>\n",
       "      <td>170</td>\n",
       "      <td>463</td>\n",
       "      <td>681</td>\n",
       "      <td>4</td>\n",
       "      <td>921</td>\n",
       "      <td>499</td>\n",
       "      <td>10</td>\n",
       "    </tr>\n",
       "    <tr>\n",
       "      <th>15</th>\n",
       "      <td>Southampton</td>\n",
       "      <td>65</td>\n",
       "      <td>114</td>\n",
       "      <td>153</td>\n",
       "      <td>548</td>\n",
       "      <td>699</td>\n",
       "      <td>4</td>\n",
       "      <td>1,068</td>\n",
       "      <td>502</td>\n",
       "      <td>3</td>\n",
       "    </tr>\n",
       "    <tr>\n",
       "      <th>14</th>\n",
       "      <td>Burnley</td>\n",
       "      <td>68</td>\n",
       "      <td>140</td>\n",
       "      <td>222</td>\n",
       "      <td>365</td>\n",
       "      <td>583</td>\n",
       "      <td>5</td>\n",
       "      <td>1,080</td>\n",
       "      <td>539</td>\n",
       "      <td>5</td>\n",
       "    </tr>\n",
       "    <tr>\n",
       "      <th>17</th>\n",
       "      <td>Cardiff</td>\n",
       "      <td>69</td>\n",
       "      <td>141</td>\n",
       "      <td>147</td>\n",
       "      <td>528</td>\n",
       "      <td>655</td>\n",
       "      <td>4</td>\n",
       "      <td>978</td>\n",
       "      <td>448</td>\n",
       "      <td>8</td>\n",
       "    </tr>\n",
       "    <tr>\n",
       "      <th>13</th>\n",
       "      <td>Bournemouth</td>\n",
       "      <td>70</td>\n",
       "      <td>110</td>\n",
       "      <td>152</td>\n",
       "      <td>371</td>\n",
       "      <td>526</td>\n",
       "      <td>5</td>\n",
       "      <td>1,019</td>\n",
       "      <td>515</td>\n",
       "      <td>5</td>\n",
       "    </tr>\n",
       "    <tr>\n",
       "      <th>19</th>\n",
       "      <td>Huddersfield</td>\n",
       "      <td>76</td>\n",
       "      <td>114</td>\n",
       "      <td>130</td>\n",
       "      <td>530</td>\n",
       "      <td>710</td>\n",
       "      <td>2</td>\n",
       "      <td>658</td>\n",
       "      <td>246</td>\n",
       "      <td>8</td>\n",
       "    </tr>\n",
       "    <tr>\n",
       "      <th>18</th>\n",
       "      <td>Fulham</td>\n",
       "      <td>81</td>\n",
       "      <td>147</td>\n",
       "      <td>144</td>\n",
       "      <td>433</td>\n",
       "      <td>591</td>\n",
       "      <td>0</td>\n",
       "      <td>971</td>\n",
       "      <td>443</td>\n",
       "      <td>7</td>\n",
       "    </tr>\n",
       "  </tbody>\n",
       "</table>\n",
       "</div>"
      ],
      "text/plain": [
       "                 Team  defence_goals_conceeded  defence_saves  defence_blocks  \\\n",
       "1           Liverpool                       22             76              78   \n",
       "0     Manchester City                       23             58              63   \n",
       "2             Chelsea                       39             85              73   \n",
       "3           Tottenham                       39            121             112   \n",
       "6       Wolverhampton                       46            100             148   \n",
       "7             Everton                       46             94              85   \n",
       "8           Leicester                       48             90              96   \n",
       "12          Newcastle                       48             95             134   \n",
       "4             Arsenal                       51            133             118   \n",
       "11     Crystal Palace                       53            113             141   \n",
       "5   Manchester United                       54            122             128   \n",
       "9            West Ham                       55            148             141   \n",
       "10            Watford                       59            127             120   \n",
       "16           Brighton                       60            111             170   \n",
       "15        Southampton                       65            114             153   \n",
       "14            Burnley                       68            140             222   \n",
       "17            Cardiff                       69            141             147   \n",
       "13        Bournemouth                       70            110             152   \n",
       "19       Huddersfield                       76            114             130   \n",
       "18             Fulham                       81            147             144   \n",
       "\n",
       "    defence_interceptions  defence_tackles  defence_tackles_last_man  \\\n",
       "1                     314              610                         2   \n",
       "0                     362              518                         0   \n",
       "2                     351              618                         2   \n",
       "3                     326              626                         3   \n",
       "6                     501              720                         2   \n",
       "7                     456              700                         4   \n",
       "8                     436              676                         4   \n",
       "12                    506              714                         4   \n",
       "4                     412              609                         2   \n",
       "11                    446              730                         2   \n",
       "5                     355              581                         2   \n",
       "9                     457              723                         5   \n",
       "10                    426              655                         8   \n",
       "16                    463              681                         4   \n",
       "15                    548              699                         4   \n",
       "14                    365              583                         5   \n",
       "17                    528              655                         4   \n",
       "13                    371              526                         5   \n",
       "19                    530              710                         2   \n",
       "18                    433              591                         0   \n",
       "\n",
       "   defence_clearances  defence_clearances_headed  defence_penalty_conceeded  \n",
       "1                 639                        317                          1  \n",
       "0                 543                        295                          4  \n",
       "2                 593                        330                          2  \n",
       "3                 770                        411                          5  \n",
       "6                 824                        464                          4  \n",
       "7                 825                        430                          5  \n",
       "8                 945                        500                          5  \n",
       "12              1,120                        564                          7  \n",
       "4                 762                        404                          7  \n",
       "11                940                        467                          5  \n",
       "5                 785                        370                          6  \n",
       "9                 855                        397                          5  \n",
       "10                956                        447                          5  \n",
       "16                921                        499                         10  \n",
       "15              1,068                        502                          3  \n",
       "14              1,080                        539                          5  \n",
       "17                978                        448                          8  \n",
       "13              1,019                        515                          5  \n",
       "19                658                        246                          8  \n",
       "18                971                        443                          7  "
      ]
     },
     "execution_count": 72,
     "metadata": {},
     "output_type": "execute_result"
    }
   ],
   "source": [
    "defense.sort_values(by = 'defence_goals_conceeded', ascending = True)"
   ]
  },
  {
   "cell_type": "markdown",
   "id": "ac96fa42",
   "metadata": {},
   "source": [
    "Solely based on defence_goals_conceeded, the team that possess the best defense is **Liverpool**. Ideally, each variables other than defence_goals_conceeded should be taken into account in determining which team that has the best defense. The best defense team should have minimum goal conceeded value."
   ]
  },
  {
   "cell_type": "markdown",
   "id": "a468d703",
   "metadata": {},
   "source": [
    "## No 5. Which team is good in the financial aspect?"
   ]
  },
  {
   "cell_type": "markdown",
   "id": "91604942",
   "metadata": {},
   "source": [
    "Let's first create finance dataset that only includes variables that define team's finance situation: finance _live_games_televised, finance _tv_revenue, finance _team_market, and finance _market_average."
   ]
  },
  {
   "cell_type": "code",
   "execution_count": 76,
   "id": "adb1b6fb",
   "metadata": {},
   "outputs": [],
   "source": [
    "finance = epl_dataset[['Team','finance _live_games_televised', 'finance _tv_revenue', 'finance _team_market', 'finance _market_average']]"
   ]
  },
  {
   "cell_type": "code",
   "execution_count": 77,
   "id": "18a44317",
   "metadata": {
    "scrolled": true
   },
   "outputs": [
    {
     "data": {
      "text/html": [
       "<div>\n",
       "<style scoped>\n",
       "    .dataframe tbody tr th:only-of-type {\n",
       "        vertical-align: middle;\n",
       "    }\n",
       "\n",
       "    .dataframe tbody tr th {\n",
       "        vertical-align: top;\n",
       "    }\n",
       "\n",
       "    .dataframe thead th {\n",
       "        text-align: right;\n",
       "    }\n",
       "</style>\n",
       "<table border=\"1\" class=\"dataframe\">\n",
       "  <thead>\n",
       "    <tr style=\"text-align: right;\">\n",
       "      <th></th>\n",
       "      <th>Team</th>\n",
       "      <th>finance _live_games_televised</th>\n",
       "      <th>finance _tv_revenue</th>\n",
       "      <th>finance _team_market</th>\n",
       "      <th>finance _market_average</th>\n",
       "    </tr>\n",
       "  </thead>\n",
       "  <tbody>\n",
       "    <tr>\n",
       "      <th>0</th>\n",
       "      <td>Manchester City</td>\n",
       "      <td>26</td>\n",
       "      <td>150986355</td>\n",
       "      <td>1003200000</td>\n",
       "      <td>39987200</td>\n",
       "    </tr>\n",
       "    <tr>\n",
       "      <th>1</th>\n",
       "      <td>Liverpool</td>\n",
       "      <td>29</td>\n",
       "      <td>152425146</td>\n",
       "      <td>836440000</td>\n",
       "      <td>34848000</td>\n",
       "    </tr>\n",
       "    <tr>\n",
       "      <th>2</th>\n",
       "      <td>Chelsea</td>\n",
       "      <td>25</td>\n",
       "      <td>146030216</td>\n",
       "      <td>779460000</td>\n",
       "      <td>29981600</td>\n",
       "    </tr>\n",
       "    <tr>\n",
       "      <th>3</th>\n",
       "      <td>Tottenham</td>\n",
       "      <td>26</td>\n",
       "      <td>145230801</td>\n",
       "      <td>735240000</td>\n",
       "      <td>29409600</td>\n",
       "    </tr>\n",
       "    <tr>\n",
       "      <th>4</th>\n",
       "      <td>Arsenal</td>\n",
       "      <td>25</td>\n",
       "      <td>142193180</td>\n",
       "      <td>701800000</td>\n",
       "      <td>26989600</td>\n",
       "    </tr>\n",
       "    <tr>\n",
       "      <th>5</th>\n",
       "      <td>Manchester United</td>\n",
       "      <td>27</td>\n",
       "      <td>142512868</td>\n",
       "      <td>550440000</td>\n",
       "      <td>22017600</td>\n",
       "    </tr>\n",
       "    <tr>\n",
       "      <th>6</th>\n",
       "      <td>Wolverhampton</td>\n",
       "      <td>15</td>\n",
       "      <td>127165114</td>\n",
       "      <td>369600000</td>\n",
       "      <td>16068800</td>\n",
       "    </tr>\n",
       "    <tr>\n",
       "      <th>7</th>\n",
       "      <td>Everton</td>\n",
       "      <td>18</td>\n",
       "      <td>128603905</td>\n",
       "      <td>305360000</td>\n",
       "      <td>11748000</td>\n",
       "    </tr>\n",
       "    <tr>\n",
       "      <th>8</th>\n",
       "      <td>Leicester</td>\n",
       "      <td>15</td>\n",
       "      <td>123328078</td>\n",
       "      <td>284240000</td>\n",
       "      <td>10929600</td>\n",
       "    </tr>\n",
       "    <tr>\n",
       "      <th>9</th>\n",
       "      <td>West Ham</td>\n",
       "      <td>16</td>\n",
       "      <td>122528663</td>\n",
       "      <td>234212000</td>\n",
       "      <td>9011200</td>\n",
       "    </tr>\n",
       "    <tr>\n",
       "      <th>10</th>\n",
       "      <td>Watford</td>\n",
       "      <td>10</td>\n",
       "      <td>113895527</td>\n",
       "      <td>229240000</td>\n",
       "      <td>9169600</td>\n",
       "    </tr>\n",
       "    <tr>\n",
       "      <th>11</th>\n",
       "      <td>Crystal Palace</td>\n",
       "      <td>12</td>\n",
       "      <td>114215215</td>\n",
       "      <td>223520000</td>\n",
       "      <td>8280800</td>\n",
       "    </tr>\n",
       "    <tr>\n",
       "      <th>12</th>\n",
       "      <td>Newcastle</td>\n",
       "      <td>19</td>\n",
       "      <td>120130418</td>\n",
       "      <td>214060000</td>\n",
       "      <td>10700800</td>\n",
       "    </tr>\n",
       "    <tr>\n",
       "      <th>13</th>\n",
       "      <td>Bournemouth</td>\n",
       "      <td>10</td>\n",
       "      <td>108139973</td>\n",
       "      <td>200288000</td>\n",
       "      <td>8008000</td>\n",
       "    </tr>\n",
       "    <tr>\n",
       "      <th>14</th>\n",
       "      <td>Burnley</td>\n",
       "      <td>11</td>\n",
       "      <td>107340558</td>\n",
       "      <td>176440000</td>\n",
       "      <td>6784800</td>\n",
       "    </tr>\n",
       "    <tr>\n",
       "      <th>15</th>\n",
       "      <td>Southampton</td>\n",
       "      <td>10</td>\n",
       "      <td>104302937</td>\n",
       "      <td>160072000</td>\n",
       "      <td>5720000</td>\n",
       "    </tr>\n",
       "    <tr>\n",
       "      <th>16</th>\n",
       "      <td>Brighton</td>\n",
       "      <td>13</td>\n",
       "      <td>105741728</td>\n",
       "      <td>152680000</td>\n",
       "      <td>6635200</td>\n",
       "    </tr>\n",
       "    <tr>\n",
       "      <th>17</th>\n",
       "      <td>Cardiff</td>\n",
       "      <td>12</td>\n",
       "      <td>102704107</td>\n",
       "      <td>152020000</td>\n",
       "      <td>6080800</td>\n",
       "    </tr>\n",
       "    <tr>\n",
       "      <th>18</th>\n",
       "      <td>Fulham</td>\n",
       "      <td>13</td>\n",
       "      <td>101904692</td>\n",
       "      <td>106920000</td>\n",
       "      <td>4276800</td>\n",
       "    </tr>\n",
       "    <tr>\n",
       "      <th>19</th>\n",
       "      <td>Huddersfield</td>\n",
       "      <td>10</td>\n",
       "      <td>96628865</td>\n",
       "      <td>85492000</td>\n",
       "      <td>3053600</td>\n",
       "    </tr>\n",
       "  </tbody>\n",
       "</table>\n",
       "</div>"
      ],
      "text/plain": [
       "                 Team  finance _live_games_televised  finance _tv_revenue  \\\n",
       "0     Manchester City                             26            150986355   \n",
       "1           Liverpool                             29            152425146   \n",
       "2             Chelsea                             25            146030216   \n",
       "3           Tottenham                             26            145230801   \n",
       "4             Arsenal                             25            142193180   \n",
       "5   Manchester United                             27            142512868   \n",
       "6       Wolverhampton                             15            127165114   \n",
       "7             Everton                             18            128603905   \n",
       "8           Leicester                             15            123328078   \n",
       "9            West Ham                             16            122528663   \n",
       "10            Watford                             10            113895527   \n",
       "11     Crystal Palace                             12            114215215   \n",
       "12          Newcastle                             19            120130418   \n",
       "13        Bournemouth                             10            108139973   \n",
       "14            Burnley                             11            107340558   \n",
       "15        Southampton                             10            104302937   \n",
       "16           Brighton                             13            105741728   \n",
       "17            Cardiff                             12            102704107   \n",
       "18             Fulham                             13            101904692   \n",
       "19       Huddersfield                             10             96628865   \n",
       "\n",
       "    finance _team_market  finance _market_average  \n",
       "0             1003200000                 39987200  \n",
       "1              836440000                 34848000  \n",
       "2              779460000                 29981600  \n",
       "3              735240000                 29409600  \n",
       "4              701800000                 26989600  \n",
       "5              550440000                 22017600  \n",
       "6              369600000                 16068800  \n",
       "7              305360000                 11748000  \n",
       "8              284240000                 10929600  \n",
       "9              234212000                  9011200  \n",
       "10             229240000                  9169600  \n",
       "11             223520000                  8280800  \n",
       "12             214060000                 10700800  \n",
       "13             200288000                  8008000  \n",
       "14             176440000                  6784800  \n",
       "15             160072000                  5720000  \n",
       "16             152680000                  6635200  \n",
       "17             152020000                  6080800  \n",
       "18             106920000                  4276800  \n",
       "19              85492000                  3053600  "
      ]
     },
     "execution_count": 77,
     "metadata": {},
     "output_type": "execute_result"
    }
   ],
   "source": [
    "finance"
   ]
  },
  {
   "cell_type": "code",
   "execution_count": 80,
   "id": "50270f5d",
   "metadata": {},
   "outputs": [
    {
     "data": {
      "text/html": [
       "<div>\n",
       "<style scoped>\n",
       "    .dataframe tbody tr th:only-of-type {\n",
       "        vertical-align: middle;\n",
       "    }\n",
       "\n",
       "    .dataframe tbody tr th {\n",
       "        vertical-align: top;\n",
       "    }\n",
       "\n",
       "    .dataframe thead th {\n",
       "        text-align: right;\n",
       "    }\n",
       "</style>\n",
       "<table border=\"1\" class=\"dataframe\">\n",
       "  <thead>\n",
       "    <tr style=\"text-align: right;\">\n",
       "      <th></th>\n",
       "      <th>Team</th>\n",
       "      <th>finance _live_games_televised</th>\n",
       "      <th>finance _tv_revenue</th>\n",
       "      <th>finance _team_market</th>\n",
       "      <th>finance _market_average</th>\n",
       "    </tr>\n",
       "  </thead>\n",
       "  <tbody>\n",
       "    <tr>\n",
       "      <th>0</th>\n",
       "      <td>Manchester City</td>\n",
       "      <td>26</td>\n",
       "      <td>150986355</td>\n",
       "      <td>1003200000</td>\n",
       "      <td>39987200</td>\n",
       "    </tr>\n",
       "    <tr>\n",
       "      <th>1</th>\n",
       "      <td>Liverpool</td>\n",
       "      <td>29</td>\n",
       "      <td>152425146</td>\n",
       "      <td>836440000</td>\n",
       "      <td>34848000</td>\n",
       "    </tr>\n",
       "    <tr>\n",
       "      <th>2</th>\n",
       "      <td>Chelsea</td>\n",
       "      <td>25</td>\n",
       "      <td>146030216</td>\n",
       "      <td>779460000</td>\n",
       "      <td>29981600</td>\n",
       "    </tr>\n",
       "    <tr>\n",
       "      <th>3</th>\n",
       "      <td>Tottenham</td>\n",
       "      <td>26</td>\n",
       "      <td>145230801</td>\n",
       "      <td>735240000</td>\n",
       "      <td>29409600</td>\n",
       "    </tr>\n",
       "    <tr>\n",
       "      <th>4</th>\n",
       "      <td>Arsenal</td>\n",
       "      <td>25</td>\n",
       "      <td>142193180</td>\n",
       "      <td>701800000</td>\n",
       "      <td>26989600</td>\n",
       "    </tr>\n",
       "    <tr>\n",
       "      <th>5</th>\n",
       "      <td>Manchester United</td>\n",
       "      <td>27</td>\n",
       "      <td>142512868</td>\n",
       "      <td>550440000</td>\n",
       "      <td>22017600</td>\n",
       "    </tr>\n",
       "    <tr>\n",
       "      <th>6</th>\n",
       "      <td>Wolverhampton</td>\n",
       "      <td>15</td>\n",
       "      <td>127165114</td>\n",
       "      <td>369600000</td>\n",
       "      <td>16068800</td>\n",
       "    </tr>\n",
       "    <tr>\n",
       "      <th>7</th>\n",
       "      <td>Everton</td>\n",
       "      <td>18</td>\n",
       "      <td>128603905</td>\n",
       "      <td>305360000</td>\n",
       "      <td>11748000</td>\n",
       "    </tr>\n",
       "    <tr>\n",
       "      <th>8</th>\n",
       "      <td>Leicester</td>\n",
       "      <td>15</td>\n",
       "      <td>123328078</td>\n",
       "      <td>284240000</td>\n",
       "      <td>10929600</td>\n",
       "    </tr>\n",
       "    <tr>\n",
       "      <th>9</th>\n",
       "      <td>West Ham</td>\n",
       "      <td>16</td>\n",
       "      <td>122528663</td>\n",
       "      <td>234212000</td>\n",
       "      <td>9011200</td>\n",
       "    </tr>\n",
       "    <tr>\n",
       "      <th>10</th>\n",
       "      <td>Watford</td>\n",
       "      <td>10</td>\n",
       "      <td>113895527</td>\n",
       "      <td>229240000</td>\n",
       "      <td>9169600</td>\n",
       "    </tr>\n",
       "    <tr>\n",
       "      <th>11</th>\n",
       "      <td>Crystal Palace</td>\n",
       "      <td>12</td>\n",
       "      <td>114215215</td>\n",
       "      <td>223520000</td>\n",
       "      <td>8280800</td>\n",
       "    </tr>\n",
       "    <tr>\n",
       "      <th>12</th>\n",
       "      <td>Newcastle</td>\n",
       "      <td>19</td>\n",
       "      <td>120130418</td>\n",
       "      <td>214060000</td>\n",
       "      <td>10700800</td>\n",
       "    </tr>\n",
       "    <tr>\n",
       "      <th>13</th>\n",
       "      <td>Bournemouth</td>\n",
       "      <td>10</td>\n",
       "      <td>108139973</td>\n",
       "      <td>200288000</td>\n",
       "      <td>8008000</td>\n",
       "    </tr>\n",
       "    <tr>\n",
       "      <th>14</th>\n",
       "      <td>Burnley</td>\n",
       "      <td>11</td>\n",
       "      <td>107340558</td>\n",
       "      <td>176440000</td>\n",
       "      <td>6784800</td>\n",
       "    </tr>\n",
       "    <tr>\n",
       "      <th>15</th>\n",
       "      <td>Southampton</td>\n",
       "      <td>10</td>\n",
       "      <td>104302937</td>\n",
       "      <td>160072000</td>\n",
       "      <td>5720000</td>\n",
       "    </tr>\n",
       "    <tr>\n",
       "      <th>16</th>\n",
       "      <td>Brighton</td>\n",
       "      <td>13</td>\n",
       "      <td>105741728</td>\n",
       "      <td>152680000</td>\n",
       "      <td>6635200</td>\n",
       "    </tr>\n",
       "    <tr>\n",
       "      <th>17</th>\n",
       "      <td>Cardiff</td>\n",
       "      <td>12</td>\n",
       "      <td>102704107</td>\n",
       "      <td>152020000</td>\n",
       "      <td>6080800</td>\n",
       "    </tr>\n",
       "    <tr>\n",
       "      <th>18</th>\n",
       "      <td>Fulham</td>\n",
       "      <td>13</td>\n",
       "      <td>101904692</td>\n",
       "      <td>106920000</td>\n",
       "      <td>4276800</td>\n",
       "    </tr>\n",
       "    <tr>\n",
       "      <th>19</th>\n",
       "      <td>Huddersfield</td>\n",
       "      <td>10</td>\n",
       "      <td>96628865</td>\n",
       "      <td>85492000</td>\n",
       "      <td>3053600</td>\n",
       "    </tr>\n",
       "  </tbody>\n",
       "</table>\n",
       "</div>"
      ],
      "text/plain": [
       "                 Team  finance _live_games_televised  finance _tv_revenue  \\\n",
       "0     Manchester City                             26            150986355   \n",
       "1           Liverpool                             29            152425146   \n",
       "2             Chelsea                             25            146030216   \n",
       "3           Tottenham                             26            145230801   \n",
       "4             Arsenal                             25            142193180   \n",
       "5   Manchester United                             27            142512868   \n",
       "6       Wolverhampton                             15            127165114   \n",
       "7             Everton                             18            128603905   \n",
       "8           Leicester                             15            123328078   \n",
       "9            West Ham                             16            122528663   \n",
       "10            Watford                             10            113895527   \n",
       "11     Crystal Palace                             12            114215215   \n",
       "12          Newcastle                             19            120130418   \n",
       "13        Bournemouth                             10            108139973   \n",
       "14            Burnley                             11            107340558   \n",
       "15        Southampton                             10            104302937   \n",
       "16           Brighton                             13            105741728   \n",
       "17            Cardiff                             12            102704107   \n",
       "18             Fulham                             13            101904692   \n",
       "19       Huddersfield                             10             96628865   \n",
       "\n",
       "    finance _team_market  finance _market_average  \n",
       "0             1003200000                 39987200  \n",
       "1              836440000                 34848000  \n",
       "2              779460000                 29981600  \n",
       "3              735240000                 29409600  \n",
       "4              701800000                 26989600  \n",
       "5              550440000                 22017600  \n",
       "6              369600000                 16068800  \n",
       "7              305360000                 11748000  \n",
       "8              284240000                 10929600  \n",
       "9              234212000                  9011200  \n",
       "10             229240000                  9169600  \n",
       "11             223520000                  8280800  \n",
       "12             214060000                 10700800  \n",
       "13             200288000                  8008000  \n",
       "14             176440000                  6784800  \n",
       "15             160072000                  5720000  \n",
       "16             152680000                  6635200  \n",
       "17             152020000                  6080800  \n",
       "18             106920000                  4276800  \n",
       "19              85492000                  3053600  "
      ]
     },
     "execution_count": 80,
     "metadata": {},
     "output_type": "execute_result"
    }
   ],
   "source": [
    "finance.sort_values(by = 'finance _team_market', ascending = False)"
   ]
  },
  {
   "cell_type": "markdown",
   "id": "78cdb64b",
   "metadata": {},
   "source": [
    "Solely based on finance _team_market, the team that is doing the best financially  is **Manchester City**. Ideally, each variables other than defence_goals_conceeded should be taken into account in determining which team that doing good financially. From this quick look, the maximum team market coincides with maximum team market average."
   ]
  }
 ],
 "metadata": {
  "kernelspec": {
   "display_name": "Python 3",
   "language": "python",
   "name": "python3"
  },
  "language_info": {
   "codemirror_mode": {
    "name": "ipython",
    "version": 3
   },
   "file_extension": ".py",
   "mimetype": "text/x-python",
   "name": "python",
   "nbconvert_exporter": "python",
   "pygments_lexer": "ipython3",
   "version": "3.8.8"
  }
 },
 "nbformat": 4,
 "nbformat_minor": 5
}
