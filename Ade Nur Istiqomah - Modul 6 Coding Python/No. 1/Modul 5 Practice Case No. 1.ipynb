{
 "cells": [
  {
   "cell_type": "code",
   "execution_count": 15,
   "id": "70fede4a",
   "metadata": {},
   "outputs": [],
   "source": [
    "#1.\n",
    "import sqlite3\n",
    "conn = sqlite3.connect('db_1_new.db')\n",
    "c = conn.cursor()"
   ]
  },
  {
   "cell_type": "code",
   "execution_count": 16,
   "id": "fcd03f89",
   "metadata": {},
   "outputs": [],
   "source": [
    "# Create table - transactions\n",
    "c.execute('''CREATE TABLE transactions\n",
    "             ([id] UUID,[insert_time] timestamp, [tx_amount] float, [tx_type] string, [status] string)''')\n",
    "conn.commit()"
   ]
  },
  {
   "cell_type": "code",
   "execution_count": 17,
   "id": "0d408fc7",
   "metadata": {},
   "outputs": [],
   "source": [
    "import pandas as pd\n",
    "from pandas import DataFrame\n",
    "\n",
    "conn = sqlite3.connect('db_1_new.db')  \n",
    "c = conn.cursor()\n",
    "\n",
    "read_clients = pd.read_csv(r'C:\\Users\\Ade Nur H\\Documents\\IYKRA Data Fellowship\\Material\\06 Coding Python\\data_1.csv',\n",
    "                          delimiter = ';')\n",
    "read_clients.to_sql('transactions', conn, if_exists='append', index = False)\n",
    "#Insert the values from the csv file into the table 'transactions'"
   ]
  },
  {
   "cell_type": "code",
   "execution_count": 30,
   "id": "5dfe0395",
   "metadata": {},
   "outputs": [
    {
     "data": {
      "text/plain": [
       "[('d6608b26-929a-44cd-96f0-f803ce0b63a4',\n",
       "  '01/09/2027 01:19',\n",
       "  450678.0,\n",
       "  'in',\n",
       "  'active',\n",
       "  'd6608b26-929a-44cd-96f0-f803ce0b63a4',\n",
       "  '01/09/2027 01:19'),\n",
       " ('f3b6a403-6765-4065-8812-a77d15871fd7',\n",
       "  '23/06/2007 02:02',\n",
       "  565763.0,\n",
       "  'out',\n",
       "  'inactive',\n",
       "  'f3b6a403-6765-4065-8812-a77d15871fd7',\n",
       "  '23/06/2007 02:02'),\n",
       " ('ec3bb1cf-bc07-4c3c-9810-8e7ceb425c0b',\n",
       "  '11/10/2002 07:44',\n",
       "  2563.0,\n",
       "  'out',\n",
       "  'active',\n",
       "  'ec3bb1cf-bc07-4c3c-9810-8e7ceb425c0b',\n",
       "  '11/10/2002 07:44'),\n",
       " ('69980473-6abe-4a2f-a6ed-bfd2226980db',\n",
       "  '24/05/2020 02:33',\n",
       "  34567.0,\n",
       "  'out',\n",
       "  'active',\n",
       "  '69980473-6abe-4a2f-a6ed-bfd2226980db',\n",
       "  '24/05/2020 02:33'),\n",
       " ('a27d5f8a-3609-49b7-b0fd-4615654978e4',\n",
       "  '05/06/2022 21:00',\n",
       "  75492.0,\n",
       "  'out',\n",
       "  'active',\n",
       "  'a27d5f8a-3609-49b7-b0fd-4615654978e4',\n",
       "  '05/06/2022 21:00'),\n",
       " ('3f08d19d-7bd8-4b6e-9b98-202a2e3ad9ac',\n",
       "  '05/10/2007 05:06',\n",
       "  76489.0,\n",
       "  'out',\n",
       "  'inactive',\n",
       "  '3f08d19d-7bd8-4b6e-9b98-202a2e3ad9ac',\n",
       "  '05/10/2007 05:06'),\n",
       " ('7ec50532-7abd-438b-a1d3-0d63a83eb006',\n",
       "  '19/11/2010 15:11',\n",
       "  65278.0,\n",
       "  'in',\n",
       "  'inactive',\n",
       "  '7ec50532-7abd-438b-a1d3-0d63a83eb006',\n",
       "  '19/11/2010 15:11'),\n",
       " ('0382068f-fe94-4bfd-abfa-5e47b7b6d8ea',\n",
       "  '29/11/2008 18:26',\n",
       "  53829.0,\n",
       "  'out',\n",
       "  'active',\n",
       "  '0382068f-fe94-4bfd-abfa-5e47b7b6d8ea',\n",
       "  '29/11/2008 18:26'),\n",
       " ('4a519ff9-2cc6-4083-bd56-adf3d34bb665',\n",
       "  '20/10/2002 12:04',\n",
       "  56379.0,\n",
       "  'in',\n",
       "  'active',\n",
       "  '4a519ff9-2cc6-4083-bd56-adf3d34bb665',\n",
       "  '20/10/2002 12:04'),\n",
       " ('44434d45-70ba-4054-ae26-4eb67eb43927',\n",
       "  '09/09/2002 19:19',\n",
       "  87652.0,\n",
       "  'out',\n",
       "  'active',\n",
       "  '44434d45-70ba-4054-ae26-4eb67eb43927',\n",
       "  '09/09/2002 19:19')]"
      ]
     },
     "execution_count": 30,
     "metadata": {},
     "output_type": "execute_result"
    }
   ],
   "source": [
    "c.execute('''\n",
    "select * from transactions\n",
    "join (select id, max(insert_time) as max_time from transactions group by id) t\n",
    "on transactions.id = t.id and transactions.insert_time = t.max_time\n",
    "          ''')\n",
    "\n",
    "c.fetchall()\n",
    "\n"
   ]
  },
  {
   "cell_type": "code",
   "execution_count": null,
   "id": "2d22de64",
   "metadata": {},
   "outputs": [],
   "source": []
  }
 ],
 "metadata": {
  "kernelspec": {
   "display_name": "Python 3",
   "language": "python",
   "name": "python3"
  },
  "language_info": {
   "codemirror_mode": {
    "name": "ipython",
    "version": 3
   },
   "file_extension": ".py",
   "mimetype": "text/x-python",
   "name": "python",
   "nbconvert_exporter": "python",
   "pygments_lexer": "ipython3",
   "version": "3.8.8"
  }
 },
 "nbformat": 4,
 "nbformat_minor": 5
}
