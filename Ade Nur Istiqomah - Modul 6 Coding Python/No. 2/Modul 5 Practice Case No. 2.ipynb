{
 "cells": [
  {
   "cell_type": "code",
   "execution_count": 4,
   "id": "fe3faa6c",
   "metadata": {},
   "outputs": [],
   "source": [
    "#2.\n",
    "import sqlite3\n",
    "conn = sqlite3.connect('db_2.db')\n",
    "c = conn.cursor()"
   ]
  },
  {
   "cell_type": "code",
   "execution_count": 7,
   "id": "427d9383",
   "metadata": {},
   "outputs": [],
   "source": [
    "c.execute('''CREATE TABLE transactions\n",
    "             ([date] timestamp, [sales] float)''')\n",
    "conn.commit()"
   ]
  },
  {
   "cell_type": "code",
   "execution_count": 8,
   "id": "525716b5",
   "metadata": {},
   "outputs": [],
   "source": [
    "import pandas as pd\n",
    "from pandas import DataFrame\n",
    "\n",
    "conn = sqlite3.connect('db_2.db')  \n",
    "c = conn.cursor()\n",
    "\n",
    "read_clients = pd.read_csv(r'C:\\Users\\Ade Nur H\\Documents\\IYKRA Data Fellowship\\Material\\06 Coding Python\\data_2.csv',\n",
    "                          delimiter = ';')\n",
    "read_clients.to_sql('transactions', conn, if_exists='append', index = False)"
   ]
  },
  {
   "cell_type": "code",
   "execution_count": 9,
   "id": "c55cc8dd",
   "metadata": {},
   "outputs": [
    {
     "data": {
      "text/plain": [
       "[('01/01/2021', 100.0),\n",
       " ('02/01/2021', 291.0),\n",
       " ('03/01/2021', 169.0),\n",
       " ('04/01/2021', 1177.0),\n",
       " ('05/01/2021', 322.0),\n",
       " ('06/01/2021', 242.0),\n",
       " ('07/01/2021', 22.0),\n",
       " ('08/01/2021', 46.0)]"
      ]
     },
     "execution_count": 9,
     "metadata": {},
     "output_type": "execute_result"
    }
   ],
   "source": [
    "c.execute('''\n",
    "select date, sum(sales) total_sales\n",
    "from transactions \n",
    "group by date \n",
    "order by date \n",
    "          ''')\n",
    "\n",
    "c.fetchall()"
   ]
  },
  {
   "cell_type": "code",
   "execution_count": null,
   "id": "55dd14f2",
   "metadata": {},
   "outputs": [],
   "source": []
  }
 ],
 "metadata": {
  "kernelspec": {
   "display_name": "Python 3",
   "language": "python",
   "name": "python3"
  },
  "language_info": {
   "codemirror_mode": {
    "name": "ipython",
    "version": 3
   },
   "file_extension": ".py",
   "mimetype": "text/x-python",
   "name": "python",
   "nbconvert_exporter": "python",
   "pygments_lexer": "ipython3",
   "version": "3.8.8"
  }
 },
 "nbformat": 4,
 "nbformat_minor": 5
}
